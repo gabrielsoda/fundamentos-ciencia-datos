{
  "cells": [
    {
      "cell_type": "code",
      "execution_count": 58,
      "metadata": {
        "id": "W9EsBNDHHvoS"
      },
      "outputs": [],
      "source": [
        "import pandas as pd\n",
        "import numpy as np\n",
        "import seaborn as sns\n",
        "import matplotlib.pyplot as plt\n",
        "import statsmodels.formula.api as smf"
      ]
    },
    {
      "cell_type": "code",
      "execution_count": 59,
      "metadata": {
        "colab": {
          "base_uri": "https://localhost:8080/",
          "height": 206
        },
        "id": "tu7FRV1KIAM0",
        "outputId": "7dcfac5c-57a9-4ad4-e3d7-357969b3dcc1"
      },
      "outputs": [
        {
          "data": {
            "application/vnd.microsoft.datawrangler.viewer.v0+json": {
              "columns": [
                {
                  "name": "index",
                  "rawType": "int64",
                  "type": "integer"
                },
                {
                  "name": "id_edificio",
                  "rawType": "int64",
                  "type": "integer"
                },
                {
                  "name": "barrio",
                  "rawType": "object",
                  "type": "string"
                }
              ],
              "ref": "75fe5006-526c-472f-9d40-32db9d19c73f",
              "rows": [
                [
                  "0",
                  "0",
                  "Norte"
                ],
                [
                  "1",
                  "1",
                  "Norte"
                ],
                [
                  "2",
                  "2",
                  "Norte"
                ],
                [
                  "3",
                  "3",
                  "Centro"
                ],
                [
                  "4",
                  "4",
                  "Oeste"
                ]
              ],
              "shape": {
                "columns": 2,
                "rows": 5
              }
            },
            "text/html": [
              "<div>\n",
              "<style scoped>\n",
              "    .dataframe tbody tr th:only-of-type {\n",
              "        vertical-align: middle;\n",
              "    }\n",
              "\n",
              "    .dataframe tbody tr th {\n",
              "        vertical-align: top;\n",
              "    }\n",
              "\n",
              "    .dataframe thead th {\n",
              "        text-align: right;\n",
              "    }\n",
              "</style>\n",
              "<table border=\"1\" class=\"dataframe\">\n",
              "  <thead>\n",
              "    <tr style=\"text-align: right;\">\n",
              "      <th></th>\n",
              "      <th>id_edificio</th>\n",
              "      <th>barrio</th>\n",
              "    </tr>\n",
              "  </thead>\n",
              "  <tbody>\n",
              "    <tr>\n",
              "      <th>0</th>\n",
              "      <td>0</td>\n",
              "      <td>Norte</td>\n",
              "    </tr>\n",
              "    <tr>\n",
              "      <th>1</th>\n",
              "      <td>1</td>\n",
              "      <td>Norte</td>\n",
              "    </tr>\n",
              "    <tr>\n",
              "      <th>2</th>\n",
              "      <td>2</td>\n",
              "      <td>Norte</td>\n",
              "    </tr>\n",
              "    <tr>\n",
              "      <th>3</th>\n",
              "      <td>3</td>\n",
              "      <td>Centro</td>\n",
              "    </tr>\n",
              "    <tr>\n",
              "      <th>4</th>\n",
              "      <td>4</td>\n",
              "      <td>Oeste</td>\n",
              "    </tr>\n",
              "  </tbody>\n",
              "</table>\n",
              "</div>"
            ],
            "text/plain": [
              "   id_edificio  barrio\n",
              "0            0   Norte\n",
              "1            1   Norte\n",
              "2            2   Norte\n",
              "3            3  Centro\n",
              "4            4   Oeste"
            ]
          },
          "execution_count": 59,
          "metadata": {},
          "output_type": "execute_result"
        }
      ],
      "source": [
        "barrio = pd.read_csv('datasets/barrio_edificio.csv')\n",
        "barrio.head()"
      ]
    },
    {
      "cell_type": "code",
      "execution_count": 60,
      "metadata": {
        "colab": {
          "base_uri": "https://localhost:8080/",
          "height": 226
        },
        "id": "NQxJvkWnIe7p",
        "outputId": "fd524130-ff29-4cf4-f443-4d842265e14a"
      },
      "outputs": [
        {
          "data": {
            "application/vnd.microsoft.datawrangler.viewer.v0+json": {
              "columns": [
                {
                  "name": "index",
                  "rawType": "int64",
                  "type": "integer"
                },
                {
                  "name": "id_edificio",
                  "rawType": "int64",
                  "type": "integer"
                },
                {
                  "name": "tipo_edificio",
                  "rawType": "object",
                  "type": "string"
                },
                {
                  "name": "numero_ocupantes",
                  "rawType": "int64",
                  "type": "integer"
                },
                {
                  "name": "electrodomesticos",
                  "rawType": "int64",
                  "type": "integer"
                },
                {
                  "name": "temperatura_media",
                  "rawType": "float64",
                  "type": "float"
                },
                {
                  "name": "dia_semana",
                  "rawType": "object",
                  "type": "string"
                },
                {
                  "name": "consumo_energia",
                  "rawType": "float64",
                  "type": "float"
                },
                {
                  "name": "metros_cuadrados",
                  "rawType": "float64",
                  "type": "float"
                }
              ],
              "ref": "fbcb1531-dec6-4e85-b8e0-0e095419b3e8",
              "rows": [
                [
                  "0",
                  "0",
                  "Residencial",
                  "76",
                  "10",
                  "29.84",
                  "habil",
                  "3264.2352289225805",
                  "-800.5810291420312"
                ],
                [
                  "1",
                  "1",
                  "Comercial",
                  "66",
                  "45",
                  "16.72",
                  "fin_de_semana",
                  "6486.624734805464",
                  "4076.513978752818"
                ],
                [
                  "2",
                  "2",
                  "Industrial",
                  "37",
                  "17",
                  "14.3",
                  "habil",
                  "4276.656672459831",
                  "2706.630059768273"
                ],
                [
                  "3",
                  "3",
                  "Residencial",
                  "14",
                  "41",
                  "32.82",
                  "habil",
                  "3209.3882913880952",
                  "805.1126316957763"
                ],
                [
                  "4",
                  "4",
                  "Comercial",
                  "26",
                  "18",
                  "11.92",
                  "habil",
                  "3266.8712609079644",
                  "1175.46703824612"
                ]
              ],
              "shape": {
                "columns": 8,
                "rows": 5
              }
            },
            "text/html": [
              "<div>\n",
              "<style scoped>\n",
              "    .dataframe tbody tr th:only-of-type {\n",
              "        vertical-align: middle;\n",
              "    }\n",
              "\n",
              "    .dataframe tbody tr th {\n",
              "        vertical-align: top;\n",
              "    }\n",
              "\n",
              "    .dataframe thead th {\n",
              "        text-align: right;\n",
              "    }\n",
              "</style>\n",
              "<table border=\"1\" class=\"dataframe\">\n",
              "  <thead>\n",
              "    <tr style=\"text-align: right;\">\n",
              "      <th></th>\n",
              "      <th>id_edificio</th>\n",
              "      <th>tipo_edificio</th>\n",
              "      <th>numero_ocupantes</th>\n",
              "      <th>electrodomesticos</th>\n",
              "      <th>temperatura_media</th>\n",
              "      <th>dia_semana</th>\n",
              "      <th>consumo_energia</th>\n",
              "      <th>metros_cuadrados</th>\n",
              "    </tr>\n",
              "  </thead>\n",
              "  <tbody>\n",
              "    <tr>\n",
              "      <th>0</th>\n",
              "      <td>0</td>\n",
              "      <td>Residencial</td>\n",
              "      <td>76</td>\n",
              "      <td>10</td>\n",
              "      <td>29.84</td>\n",
              "      <td>habil</td>\n",
              "      <td>3264.235229</td>\n",
              "      <td>-800.581029</td>\n",
              "    </tr>\n",
              "    <tr>\n",
              "      <th>1</th>\n",
              "      <td>1</td>\n",
              "      <td>Comercial</td>\n",
              "      <td>66</td>\n",
              "      <td>45</td>\n",
              "      <td>16.72</td>\n",
              "      <td>fin_de_semana</td>\n",
              "      <td>6486.624735</td>\n",
              "      <td>4076.513979</td>\n",
              "    </tr>\n",
              "    <tr>\n",
              "      <th>2</th>\n",
              "      <td>2</td>\n",
              "      <td>Industrial</td>\n",
              "      <td>37</td>\n",
              "      <td>17</td>\n",
              "      <td>14.30</td>\n",
              "      <td>habil</td>\n",
              "      <td>4276.656672</td>\n",
              "      <td>2706.630060</td>\n",
              "    </tr>\n",
              "    <tr>\n",
              "      <th>3</th>\n",
              "      <td>3</td>\n",
              "      <td>Residencial</td>\n",
              "      <td>14</td>\n",
              "      <td>41</td>\n",
              "      <td>32.82</td>\n",
              "      <td>habil</td>\n",
              "      <td>3209.388291</td>\n",
              "      <td>805.112632</td>\n",
              "    </tr>\n",
              "    <tr>\n",
              "      <th>4</th>\n",
              "      <td>4</td>\n",
              "      <td>Comercial</td>\n",
              "      <td>26</td>\n",
              "      <td>18</td>\n",
              "      <td>11.92</td>\n",
              "      <td>habil</td>\n",
              "      <td>3266.871261</td>\n",
              "      <td>1175.467038</td>\n",
              "    </tr>\n",
              "  </tbody>\n",
              "</table>\n",
              "</div>"
            ],
            "text/plain": [
              "   id_edificio tipo_edificio  numero_ocupantes  electrodomesticos  \\\n",
              "0            0   Residencial                76                 10   \n",
              "1            1     Comercial                66                 45   \n",
              "2            2    Industrial                37                 17   \n",
              "3            3   Residencial                14                 41   \n",
              "4            4     Comercial                26                 18   \n",
              "\n",
              "   temperatura_media     dia_semana  consumo_energia  metros_cuadrados  \n",
              "0              29.84          habil      3264.235229       -800.581029  \n",
              "1              16.72  fin_de_semana      6486.624735       4076.513979  \n",
              "2              14.30          habil      4276.656672       2706.630060  \n",
              "3              32.82          habil      3209.388291        805.112632  \n",
              "4              11.92          habil      3266.871261       1175.467038  "
            ]
          },
          "execution_count": 60,
          "metadata": {},
          "output_type": "execute_result"
        }
      ],
      "source": [
        "consumo = pd.read_csv('datasets/consumo_edificio.csv')\n",
        "consumo.head()"
      ]
    },
    {
      "cell_type": "markdown",
      "metadata": {
        "id": "6Hve-gx6Ipp3"
      },
      "source": [
        "### Análisis dataset barrio"
      ]
    },
    {
      "cell_type": "code",
      "execution_count": 61,
      "metadata": {
        "colab": {
          "base_uri": "https://localhost:8080/"
        },
        "id": "RI-ovGUUInbV",
        "outputId": "2b5471fe-263f-4ea1-f67f-d32469dc5a39"
      },
      "outputs": [
        {
          "name": "stdout",
          "output_type": "stream",
          "text": [
            "<class 'pandas.core.frame.DataFrame'>\n",
            "RangeIndex: 1000 entries, 0 to 999\n",
            "Data columns (total 2 columns):\n",
            " #   Column       Non-Null Count  Dtype \n",
            "---  ------       --------------  ----- \n",
            " 0   id_edificio  1000 non-null   int64 \n",
            " 1   barrio       1000 non-null   object\n",
            "dtypes: int64(1), object(1)\n",
            "memory usage: 15.8+ KB\n"
          ]
        }
      ],
      "source": [
        "barrio.info()"
      ]
    },
    {
      "cell_type": "code",
      "execution_count": 62,
      "metadata": {
        "colab": {
          "base_uri": "https://localhost:8080/",
          "height": 209
        },
        "id": "pepqvt5vI3qD",
        "outputId": "14b380b2-f9bd-4613-dee8-a28812d23948"
      },
      "outputs": [
        {
          "data": {
            "application/vnd.microsoft.datawrangler.viewer.v0+json": {
              "columns": [
                {
                  "name": "index",
                  "rawType": "object",
                  "type": "string"
                },
                {
                  "name": "barrio",
                  "rawType": "object",
                  "type": "unknown"
                }
              ],
              "ref": "bcf2302f-8919-4f2e-ac93-1fd9f6345770",
              "rows": [
                [
                  "count",
                  "1000"
                ],
                [
                  "unique",
                  "4"
                ],
                [
                  "top",
                  "Sur"
                ],
                [
                  "freq",
                  "264"
                ]
              ],
              "shape": {
                "columns": 1,
                "rows": 4
              }
            },
            "text/plain": [
              "count     1000\n",
              "unique       4\n",
              "top        Sur\n",
              "freq       264\n",
              "Name: barrio, dtype: object"
            ]
          },
          "execution_count": 62,
          "metadata": {},
          "output_type": "execute_result"
        }
      ],
      "source": [
        "barrio['barrio'].describe()"
      ]
    },
    {
      "cell_type": "code",
      "execution_count": 63,
      "metadata": {
        "colab": {
          "base_uri": "https://localhost:8080/"
        },
        "id": "GRH9AWKwI42g",
        "outputId": "8cee969a-053c-4d26-f243-e829f7fdf283"
      },
      "outputs": [
        {
          "data": {
            "text/plain": [
              "(1000, 2)"
            ]
          },
          "execution_count": 63,
          "metadata": {},
          "output_type": "execute_result"
        }
      ],
      "source": [
        "barrio.shape"
      ]
    },
    {
      "cell_type": "code",
      "execution_count": 64,
      "metadata": {
        "colab": {
          "base_uri": "https://localhost:8080/"
        },
        "id": "lZN7Tm2nJBRC",
        "outputId": "4049009d-fed2-4142-cf98-78a83c0075f6"
      },
      "outputs": [
        {
          "name": "stdout",
          "output_type": "stream",
          "text": [
            "id_edificio    0\n",
            "barrio         0\n",
            "dtype: int64\n"
          ]
        }
      ],
      "source": [
        "print(barrio.isnull().sum())"
      ]
    },
    {
      "cell_type": "code",
      "execution_count": 65,
      "metadata": {
        "colab": {
          "base_uri": "https://localhost:8080/"
        },
        "id": "m1MKtwjhJHHT",
        "outputId": "9af2e66b-adf9-42e5-8ee0-81515bdbc708"
      },
      "outputs": [
        {
          "name": "stdout",
          "output_type": "stream",
          "text": [
            "0\n"
          ]
        }
      ],
      "source": [
        "print(barrio.duplicated().sum())"
      ]
    },
    {
      "cell_type": "code",
      "execution_count": 66,
      "metadata": {
        "colab": {
          "base_uri": "https://localhost:8080/",
          "height": 489
        },
        "id": "Ml5v3d_BJUfV",
        "outputId": "85aac27a-297e-4a8b-e6ad-6c0abdaccabd"
      },
      "outputs": [
        {
          "data": {
            "text/plain": [
              "Text(0, 0.5, 'Frecuencia')"
            ]
          },
          "execution_count": 66,
          "metadata": {},
          "output_type": "execute_result"
        },
        {
          "data": {
            "image/png": "[encoded data removed]",
            "text/plain": [
              "<Figure size 640x480 with 1 Axes>"
            ]
          },
          "metadata": {},
          "output_type": "display_data"
        }
      ],
      "source": [
        "sns.countplot(barrio, x='barrio', hue='barrio')\n",
        "plt.title(\"Cantidad de edificios por barrio\", weight='bold')\n",
        "plt.xlabel(\"Barrio\", weight='bold')\n",
        "plt.ylabel(\"Frecuencia\", weight='bold')"
      ]
    },
    {
      "cell_type": "markdown",
      "metadata": {
        "id": "5yWXjp6zJvR2"
      },
      "source": [
        "### Análisis dataset de los datos"
      ]
    },
    {
      "cell_type": "code",
      "execution_count": 67,
      "metadata": {
        "colab": {
          "base_uri": "https://localhost:8080/",
          "height": 226
        },
        "id": "gm8xL_JtKekx",
        "outputId": "7ad98e3f-f457-4b73-cc1b-7a3cdf0baad7"
      },
      "outputs": [
        {
          "data": {
            "application/vnd.microsoft.datawrangler.viewer.v0+json": {
              "columns": [
                {
                  "name": "index",
                  "rawType": "int64",
                  "type": "integer"
                },
                {
                  "name": "id_edificio",
                  "rawType": "int64",
                  "type": "integer"
                },
                {
                  "name": "tipo_edificio",
                  "rawType": "object",
                  "type": "string"
                },
                {
                  "name": "numero_ocupantes",
                  "rawType": "int64",
                  "type": "integer"
                },
                {
                  "name": "electrodomesticos",
                  "rawType": "int64",
                  "type": "integer"
                },
                {
                  "name": "temperatura_media",
                  "rawType": "float64",
                  "type": "float"
                },
                {
                  "name": "dia_semana",
                  "rawType": "object",
                  "type": "string"
                },
                {
                  "name": "consumo_energia",
                  "rawType": "float64",
                  "type": "float"
                },
                {
                  "name": "metros_cuadrados",
                  "rawType": "float64",
                  "type": "float"
                }
              ],
              "ref": "8979533f-b93d-4d88-9289-d212b4505746",
              "rows": [
                [
                  "0",
                  "0",
                  "Residencial",
                  "76",
                  "10",
                  "29.84",
                  "habil",
                  "3264.2352289225805",
                  "-800.5810291420312"
                ],
                [
                  "1",
                  "1",
                  "Comercial",
                  "66",
                  "45",
                  "16.72",
                  "fin_de_semana",
                  "6486.624734805464",
                  "4076.513978752818"
                ],
                [
                  "2",
                  "2",
                  "Industrial",
                  "37",
                  "17",
                  "14.3",
                  "habil",
                  "4276.656672459831",
                  "2706.630059768273"
                ],
                [
                  "3",
                  "3",
                  "Residencial",
                  "14",
                  "41",
                  "32.82",
                  "habil",
                  "3209.3882913880952",
                  "805.1126316957763"
                ],
                [
                  "4",
                  "4",
                  "Comercial",
                  "26",
                  "18",
                  "11.92",
                  "habil",
                  "3266.8712609079644",
                  "1175.46703824612"
                ]
              ],
              "shape": {
                "columns": 8,
                "rows": 5
              }
            },
            "text/html": [
              "<div>\n",
              "<style scoped>\n",
              "    .dataframe tbody tr th:only-of-type {\n",
              "        vertical-align: middle;\n",
              "    }\n",
              "\n",
              "    .dataframe tbody tr th {\n",
              "        vertical-align: top;\n",
              "    }\n",
              "\n",
              "    .dataframe thead th {\n",
              "        text-align: right;\n",
              "    }\n",
              "</style>\n",
              "<table border=\"1\" class=\"dataframe\">\n",
              "  <thead>\n",
              "    <tr style=\"text-align: right;\">\n",
              "      <th></th>\n",
              "      <th>id_edificio</th>\n",
              "      <th>tipo_edificio</th>\n",
              "      <th>numero_ocupantes</th>\n",
              "      <th>electrodomesticos</th>\n",
              "      <th>temperatura_media</th>\n",
              "      <th>dia_semana</th>\n",
              "      <th>consumo_energia</th>\n",
              "      <th>metros_cuadrados</th>\n",
              "    </tr>\n",
              "  </thead>\n",
              "  <tbody>\n",
              "    <tr>\n",
              "      <th>0</th>\n",
              "      <td>0</td>\n",
              "      <td>Residencial</td>\n",
              "      <td>76</td>\n",
              "      <td>10</td>\n",
              "      <td>29.84</td>\n",
              "      <td>habil</td>\n",
              "      <td>3264.235229</td>\n",
              "      <td>-800.581029</td>\n",
              "    </tr>\n",
              "    <tr>\n",
              "      <th>1</th>\n",
              "      <td>1</td>\n",
              "      <td>Comercial</td>\n",
              "      <td>66</td>\n",
              "      <td>45</td>\n",
              "      <td>16.72</td>\n",
              "      <td>fin_de_semana</td>\n",
              "      <td>6486.624735</td>\n",
              "      <td>4076.513979</td>\n",
              "    </tr>\n",
              "    <tr>\n",
              "      <th>2</th>\n",
              "      <td>2</td>\n",
              "      <td>Industrial</td>\n",
              "      <td>37</td>\n",
              "      <td>17</td>\n",
              "      <td>14.30</td>\n",
              "      <td>habil</td>\n",
              "      <td>4276.656672</td>\n",
              "      <td>2706.630060</td>\n",
              "    </tr>\n",
              "    <tr>\n",
              "      <th>3</th>\n",
              "      <td>3</td>\n",
              "      <td>Residencial</td>\n",
              "      <td>14</td>\n",
              "      <td>41</td>\n",
              "      <td>32.82</td>\n",
              "      <td>habil</td>\n",
              "      <td>3209.388291</td>\n",
              "      <td>805.112632</td>\n",
              "    </tr>\n",
              "    <tr>\n",
              "      <th>4</th>\n",
              "      <td>4</td>\n",
              "      <td>Comercial</td>\n",
              "      <td>26</td>\n",
              "      <td>18</td>\n",
              "      <td>11.92</td>\n",
              "      <td>habil</td>\n",
              "      <td>3266.871261</td>\n",
              "      <td>1175.467038</td>\n",
              "    </tr>\n",
              "  </tbody>\n",
              "</table>\n",
              "</div>"
            ],
            "text/plain": [
              "   id_edificio tipo_edificio  numero_ocupantes  electrodomesticos  \\\n",
              "0            0   Residencial                76                 10   \n",
              "1            1     Comercial                66                 45   \n",
              "2            2    Industrial                37                 17   \n",
              "3            3   Residencial                14                 41   \n",
              "4            4     Comercial                26                 18   \n",
              "\n",
              "   temperatura_media     dia_semana  consumo_energia  metros_cuadrados  \n",
              "0              29.84          habil      3264.235229       -800.581029  \n",
              "1              16.72  fin_de_semana      6486.624735       4076.513979  \n",
              "2              14.30          habil      4276.656672       2706.630060  \n",
              "3              32.82          habil      3209.388291        805.112632  \n",
              "4              11.92          habil      3266.871261       1175.467038  "
            ]
          },
          "execution_count": 67,
          "metadata": {},
          "output_type": "execute_result"
        }
      ],
      "source": [
        "consumo.head()"
      ]
    },
    {
      "cell_type": "code",
      "execution_count": 68,
      "metadata": {
        "colab": {
          "base_uri": "https://localhost:8080/"
        },
        "id": "4GEwXvYdJYaT",
        "outputId": "6476165c-ef84-491a-c547-7da356e95de2"
      },
      "outputs": [
        {
          "name": "stdout",
          "output_type": "stream",
          "text": [
            "<class 'pandas.core.frame.DataFrame'>\n",
            "RangeIndex: 1000 entries, 0 to 999\n",
            "Data columns (total 8 columns):\n",
            " #   Column             Non-Null Count  Dtype  \n",
            "---  ------             --------------  -----  \n",
            " 0   id_edificio        1000 non-null   int64  \n",
            " 1   tipo_edificio      1000 non-null   object \n",
            " 2   numero_ocupantes   1000 non-null   int64  \n",
            " 3   electrodomesticos  1000 non-null   int64  \n",
            " 4   temperatura_media  1000 non-null   float64\n",
            " 5   dia_semana         1000 non-null   object \n",
            " 6   consumo_energia    1000 non-null   float64\n",
            " 7   metros_cuadrados   1000 non-null   float64\n",
            "dtypes: float64(3), int64(3), object(2)\n",
            "memory usage: 62.6+ KB\n"
          ]
        }
      ],
      "source": [
        "consumo.info()"
      ]
    },
    {
      "cell_type": "code",
      "execution_count": 69,
      "metadata": {
        "colab": {
          "base_uri": "https://localhost:8080/"
        },
        "id": "N7l3ISSHKp4q",
        "outputId": "2748cda7-bbfd-4969-baf4-f18a42d842e1"
      },
      "outputs": [
        {
          "data": {
            "text/plain": [
              "Index(['id_edificio', 'tipo_edificio', 'numero_ocupantes', 'electrodomesticos',\n",
              "       'temperatura_media', 'dia_semana', 'consumo_energia',\n",
              "       'metros_cuadrados'],\n",
              "      dtype='object')"
            ]
          },
          "execution_count": 69,
          "metadata": {},
          "output_type": "execute_result"
        }
      ],
      "source": [
        "consumo.columns"
      ]
    },
    {
      "cell_type": "code",
      "execution_count": 70,
      "metadata": {
        "colab": {
          "base_uri": "https://localhost:8080/",
          "height": 300
        },
        "id": "3PCx4nASKNQS",
        "outputId": "2f020dc2-0006-439f-af42-460383f46a8e"
      },
      "outputs": [
        {
          "data": {
            "application/vnd.microsoft.datawrangler.viewer.v0+json": {
              "columns": [
                {
                  "name": "index",
                  "rawType": "object",
                  "type": "string"
                },
                {
                  "name": "numero_ocupantes",
                  "rawType": "float64",
                  "type": "float"
                },
                {
                  "name": "electrodomesticos",
                  "rawType": "float64",
                  "type": "float"
                },
                {
                  "name": "temperatura_media",
                  "rawType": "float64",
                  "type": "float"
                },
                {
                  "name": "consumo_energia",
                  "rawType": "float64",
                  "type": "float"
                },
                {
                  "name": "metros_cuadrados",
                  "rawType": "float64",
                  "type": "float"
                }
              ],
              "ref": "de24a995-4e09-4b98-8451-0ae093c3e0c9",
              "rows": [
                [
                  "count",
                  "1000.0",
                  "1000.0",
                  "1000.0",
                  "1000.0",
                  "1000.0"
                ],
                [
                  "mean",
                  "48.372",
                  "25.606",
                  "22.61139",
                  "4096.041891762611",
                  "2365.8148259904297"
                ],
                [
                  "std",
                  "29.061971960178724",
                  "14.105166419426597",
                  "7.139942517068821",
                  "1034.9962104662534",
                  "1550.6363619174185"
                ],
                [
                  "min",
                  "1.0",
                  "1.0",
                  "10.05",
                  "1302.7488602174565",
                  "-1972.5939767075288"
                ],
                [
                  "25%",
                  "22.0",
                  "13.0",
                  "16.475",
                  "3404.3200131980175",
                  "1193.1543768010417"
                ],
                [
                  "50%",
                  "47.0",
                  "26.0",
                  "22.814999999999998",
                  "4080.7439311157714",
                  "2327.8409426823755"
                ],
                [
                  "75%",
                  "73.25",
                  "38.0",
                  "28.85",
                  "4819.3044582934945",
                  "3582.601752666945"
                ],
                [
                  "max",
                  "99.0",
                  "49.0",
                  "34.99",
                  "7097.948429862843",
                  "6823.252617594946"
                ]
              ],
              "shape": {
                "columns": 5,
                "rows": 8
              }
            },
            "text/html": [
              "<div>\n",
              "<style scoped>\n",
              "    .dataframe tbody tr th:only-of-type {\n",
              "        vertical-align: middle;\n",
              "    }\n",
              "\n",
              "    .dataframe tbody tr th {\n",
              "        vertical-align: top;\n",
              "    }\n",
              "\n",
              "    .dataframe thead th {\n",
              "        text-align: right;\n",
              "    }\n",
              "</style>\n",
              "<table border=\"1\" class=\"dataframe\">\n",
              "  <thead>\n",
              "    <tr style=\"text-align: right;\">\n",
              "      <th></th>\n",
              "      <th>numero_ocupantes</th>\n",
              "      <th>electrodomesticos</th>\n",
              "      <th>temperatura_media</th>\n",
              "      <th>consumo_energia</th>\n",
              "      <th>metros_cuadrados</th>\n",
              "    </tr>\n",
              "  </thead>\n",
              "  <tbody>\n",
              "    <tr>\n",
              "      <th>count</th>\n",
              "      <td>1000.000000</td>\n",
              "      <td>1000.000000</td>\n",
              "      <td>1000.000000</td>\n",
              "      <td>1000.000000</td>\n",
              "      <td>1000.000000</td>\n",
              "    </tr>\n",
              "    <tr>\n",
              "      <th>mean</th>\n",
              "      <td>48.372000</td>\n",
              "      <td>25.606000</td>\n",
              "      <td>22.611390</td>\n",
              "      <td>4096.041892</td>\n",
              "      <td>2365.814826</td>\n",
              "    </tr>\n",
              "    <tr>\n",
              "      <th>std</th>\n",
              "      <td>29.061972</td>\n",
              "      <td>14.105166</td>\n",
              "      <td>7.139943</td>\n",
              "      <td>1034.996210</td>\n",
              "      <td>1550.636362</td>\n",
              "    </tr>\n",
              "    <tr>\n",
              "      <th>min</th>\n",
              "      <td>1.000000</td>\n",
              "      <td>1.000000</td>\n",
              "      <td>10.050000</td>\n",
              "      <td>1302.748860</td>\n",
              "      <td>-1972.593977</td>\n",
              "    </tr>\n",
              "    <tr>\n",
              "      <th>25%</th>\n",
              "      <td>22.000000</td>\n",
              "      <td>13.000000</td>\n",
              "      <td>16.475000</td>\n",
              "      <td>3404.320013</td>\n",
              "      <td>1193.154377</td>\n",
              "    </tr>\n",
              "    <tr>\n",
              "      <th>50%</th>\n",
              "      <td>47.000000</td>\n",
              "      <td>26.000000</td>\n",
              "      <td>22.815000</td>\n",
              "      <td>4080.743931</td>\n",
              "      <td>2327.840943</td>\n",
              "    </tr>\n",
              "    <tr>\n",
              "      <th>75%</th>\n",
              "      <td>73.250000</td>\n",
              "      <td>38.000000</td>\n",
              "      <td>28.850000</td>\n",
              "      <td>4819.304458</td>\n",
              "      <td>3582.601753</td>\n",
              "    </tr>\n",
              "    <tr>\n",
              "      <th>max</th>\n",
              "      <td>99.000000</td>\n",
              "      <td>49.000000</td>\n",
              "      <td>34.990000</td>\n",
              "      <td>7097.948430</td>\n",
              "      <td>6823.252618</td>\n",
              "    </tr>\n",
              "  </tbody>\n",
              "</table>\n",
              "</div>"
            ],
            "text/plain": [
              "       numero_ocupantes  electrodomesticos  temperatura_media  \\\n",
              "count       1000.000000        1000.000000        1000.000000   \n",
              "mean          48.372000          25.606000          22.611390   \n",
              "std           29.061972          14.105166           7.139943   \n",
              "min            1.000000           1.000000          10.050000   \n",
              "25%           22.000000          13.000000          16.475000   \n",
              "50%           47.000000          26.000000          22.815000   \n",
              "75%           73.250000          38.000000          28.850000   \n",
              "max           99.000000          49.000000          34.990000   \n",
              "\n",
              "       consumo_energia  metros_cuadrados  \n",
              "count      1000.000000       1000.000000  \n",
              "mean       4096.041892       2365.814826  \n",
              "std        1034.996210       1550.636362  \n",
              "min        1302.748860      -1972.593977  \n",
              "25%        3404.320013       1193.154377  \n",
              "50%        4080.743931       2327.840943  \n",
              "75%        4819.304458       3582.601753  \n",
              "max        7097.948430       6823.252618  "
            ]
          },
          "execution_count": 70,
          "metadata": {},
          "output_type": "execute_result"
        }
      ],
      "source": [
        "columnas_describe = ['tipo_edificio', \n",
        "                     'numero_ocupantes', \n",
        "                     'electrodomesticos',\n",
        "                     'temperatura_media', \n",
        "                     'dia_semana', \n",
        "                     'consumo_energia',\n",
        "                     'metros_cuadrados']\n",
        "consumo[columnas_describe].describe() # sin id_edificio"
      ]
    },
    {
      "cell_type": "code",
      "execution_count": 71,
      "metadata": {},
      "outputs": [
        {
          "name": "stdout",
          "output_type": "stream",
          "text": [
            "Hay 66 departamentos con el valor de metros cuadrados incorrecto. No pueden ser negativos.\n"
          ]
        }
      ],
      "source": [
        "metros_cuadrados_negativo = (consumo[\"metros_cuadrados\"] <= 0).sum()\n",
        "print(f'Hay {metros_cuadrados_negativo} departamentos con el valor de metros cuadrados incorrecto. No pueden ser negativos.')"
      ]
    },
    {
      "cell_type": "code",
      "execution_count": 72,
      "metadata": {},
      "outputs": [
        {
          "data": {
            "application/vnd.microsoft.datawrangler.viewer.v0+json": {
              "columns": [
                {
                  "name": "index",
                  "rawType": "int64",
                  "type": "integer"
                },
                {
                  "name": "id_edificio",
                  "rawType": "int64",
                  "type": "integer"
                },
                {
                  "name": "tipo_edificio",
                  "rawType": "object",
                  "type": "string"
                },
                {
                  "name": "numero_ocupantes",
                  "rawType": "int64",
                  "type": "integer"
                },
                {
                  "name": "electrodomesticos",
                  "rawType": "int64",
                  "type": "integer"
                },
                {
                  "name": "temperatura_media",
                  "rawType": "float64",
                  "type": "float"
                },
                {
                  "name": "dia_semana",
                  "rawType": "object",
                  "type": "string"
                },
                {
                  "name": "consumo_energia",
                  "rawType": "float64",
                  "type": "float"
                },
                {
                  "name": "metros_cuadrados",
                  "rawType": "float64",
                  "type": "float"
                }
              ],
              "ref": "5aa102ea-eff9-47ec-8248-05de4a4fba98",
              "rows": [
                [
                  "0",
                  "0",
                  "Residencial",
                  "76",
                  "10",
                  "29.84",
                  "habil",
                  "3264.2352289225805",
                  "-800.5810291420312"
                ],
                [
                  "15",
                  "15",
                  "Comercial",
                  "54",
                  "47",
                  "13.56",
                  "fin_de_semana",
                  "3732.892463311391",
                  "-328.9247025144326"
                ],
                [
                  "16",
                  "16",
                  "Comercial",
                  "34",
                  "44",
                  "24.62",
                  "habil",
                  "3084.119209456984",
                  "-1032.146618973958"
                ],
                [
                  "19",
                  "19",
                  "Residencial",
                  "19",
                  "48",
                  "22.67",
                  "habil",
                  "2624.408676615056",
                  "-792.0173839788314"
                ],
                [
                  "38",
                  "38",
                  "Residencial",
                  "31",
                  "13",
                  "15.09",
                  "fin_de_semana",
                  "1977.064115245088",
                  "-354.4209295063308"
                ],
                [
                  "63",
                  "63",
                  "Comercial",
                  "33",
                  "20",
                  "25.24",
                  "fin_de_semana",
                  "2752.70304151664",
                  "-44.486957516809504"
                ],
                [
                  "80",
                  "80",
                  "Comercial",
                  "68",
                  "13",
                  "25.69",
                  "habil",
                  "4050.671943021642",
                  "-504.6546150361001"
                ],
                [
                  "87",
                  "87",
                  "Residencial",
                  "22",
                  "45",
                  "24.88",
                  "fin_de_semana",
                  "2604.412457289552",
                  "-911.4834970421668"
                ],
                [
                  "89",
                  "89",
                  "Comercial",
                  "22",
                  "32",
                  "25.42",
                  "fin_de_semana",
                  "3497.3271317681456",
                  "-27.06227228806793"
                ],
                [
                  "95",
                  "95",
                  "Comercial",
                  "68",
                  "3",
                  "33.63",
                  "fin_de_semana",
                  "3483.6157061197814",
                  "-162.85942497670268"
                ],
                [
                  "104",
                  "104",
                  "Industrial",
                  "3",
                  "12",
                  "28.85",
                  "fin_de_semana",
                  "3098.0649883383685",
                  "-362.7502748856463"
                ],
                [
                  "106",
                  "106",
                  "Comercial",
                  "84",
                  "29",
                  "17.2",
                  "habil",
                  "3809.751385437273",
                  "-491.4466937382119"
                ],
                [
                  "109",
                  "109",
                  "Residencial",
                  "32",
                  "15",
                  "26.19",
                  "fin_de_semana",
                  "2185.0202792390305",
                  "-187.33831722750577"
                ],
                [
                  "153",
                  "153",
                  "Comercial",
                  "42",
                  "27",
                  "15.63",
                  "habil",
                  "3158.904742932946",
                  "-235.0051126853832"
                ],
                [
                  "160",
                  "160",
                  "Residencial",
                  "81",
                  "37",
                  "23.68",
                  "fin_de_semana",
                  "3159.7738706203995",
                  "-373.7692718014399"
                ],
                [
                  "161",
                  "161",
                  "Industrial",
                  "85",
                  "21",
                  "28.01",
                  "fin_de_semana",
                  "3120.1625349271017",
                  "-237.009463000692"
                ],
                [
                  "227",
                  "227",
                  "Residencial",
                  "4",
                  "38",
                  "31.41",
                  "fin_de_semana",
                  "1817.9512551564287",
                  "-281.4149973742885"
                ],
                [
                  "251",
                  "251",
                  "Residencial",
                  "34",
                  "30",
                  "19.68",
                  "habil",
                  "3715.388577193689",
                  "-261.1277544006001"
                ],
                [
                  "252",
                  "252",
                  "Residencial",
                  "11",
                  "2",
                  "29.34",
                  "fin_de_semana",
                  "1734.877799994453",
                  "-1142.2677632902382"
                ],
                [
                  "259",
                  "259",
                  "Industrial",
                  "62",
                  "34",
                  "19.48",
                  "habil",
                  "5103.160683733709",
                  "-1012.0666457982342"
                ],
                [
                  "269",
                  "269",
                  "Comercial",
                  "16",
                  "36",
                  "16.95",
                  "fin_de_semana",
                  "3047.5863458373024",
                  "-1135.2376016494252"
                ],
                [
                  "275",
                  "275",
                  "Industrial",
                  "14",
                  "36",
                  "18.67",
                  "habil",
                  "3295.5520624283145",
                  "-4.5646656581788925"
                ],
                [
                  "280",
                  "280",
                  "Industrial",
                  "37",
                  "23",
                  "34.76",
                  "habil",
                  "2985.512045926377",
                  "-585.3703499451314"
                ],
                [
                  "286",
                  "286",
                  "Industrial",
                  "58",
                  "17",
                  "17.56",
                  "fin_de_semana",
                  "2714.161704781517",
                  "-327.7393116050012"
                ],
                [
                  "300",
                  "300",
                  "Comercial",
                  "64",
                  "45",
                  "13.45",
                  "habil",
                  "4385.032124768387",
                  "-4.814241726199634"
                ],
                [
                  "343",
                  "343",
                  "Comercial",
                  "79",
                  "5",
                  "10.37",
                  "habil",
                  "3016.7202293220275",
                  "-521.891788633849"
                ],
                [
                  "369",
                  "369",
                  "Industrial",
                  "49",
                  "13",
                  "18.44",
                  "fin_de_semana",
                  "3485.8741113411324",
                  "-739.7675375682338"
                ],
                [
                  "392",
                  "392",
                  "Comercial",
                  "39",
                  "18",
                  "16.16",
                  "habil",
                  "3271.811692381814",
                  "-355.02933508120987"
                ],
                [
                  "412",
                  "412",
                  "Industrial",
                  "69",
                  "41",
                  "12.68",
                  "fin_de_semana",
                  "3932.039452588048",
                  "-1972.5939767075288"
                ],
                [
                  "425",
                  "425",
                  "Residencial",
                  "90",
                  "49",
                  "11.14",
                  "fin_de_semana",
                  "3084.1344749479053",
                  "-75.0039519986371"
                ],
                [
                  "439",
                  "439",
                  "Residencial",
                  "45",
                  "12",
                  "34.26",
                  "habil",
                  "1912.896935998326",
                  "-400.8662091332507"
                ],
                [
                  "441",
                  "441",
                  "Comercial",
                  "70",
                  "8",
                  "34.79",
                  "fin_de_semana",
                  "2551.4500305442925",
                  "-1355.517109647354"
                ],
                [
                  "462",
                  "462",
                  "Residencial",
                  "44",
                  "9",
                  "21.22",
                  "habil",
                  "1630.4460694677732",
                  "-349.37219476522057"
                ],
                [
                  "485",
                  "485",
                  "Comercial",
                  "52",
                  "39",
                  "28.23",
                  "fin_de_semana",
                  "3188.215780677584",
                  "-186.2958701459341"
                ],
                [
                  "495",
                  "495",
                  "Industrial",
                  "46",
                  "46",
                  "13.74",
                  "habil",
                  "3582.825661020679",
                  "-38.38855019231611"
                ],
                [
                  "496",
                  "496",
                  "Residencial",
                  "81",
                  "48",
                  "13.6",
                  "fin_de_semana",
                  "3557.281070933267",
                  "-1.5593142437686238"
                ],
                [
                  "498",
                  "498",
                  "Residencial",
                  "98",
                  "2",
                  "15.1",
                  "fin_de_semana",
                  "3057.303122483793",
                  "-107.88777665405264"
                ],
                [
                  "509",
                  "509",
                  "Comercial",
                  "33",
                  "28",
                  "10.16",
                  "habil",
                  "3602.258980649115",
                  "-765.1433806957402"
                ],
                [
                  "512",
                  "512",
                  "Comercial",
                  "74",
                  "38",
                  "15.66",
                  "habil",
                  "2733.3316932528896",
                  "-1373.9947827954898"
                ],
                [
                  "518",
                  "518",
                  "Residencial",
                  "25",
                  "4",
                  "28.84",
                  "fin_de_semana",
                  "1302.7488602174565",
                  "-662.657910579431"
                ],
                [
                  "543",
                  "543",
                  "Comercial",
                  "81",
                  "2",
                  "15.38",
                  "fin_de_semana",
                  "3649.666185935871",
                  "-223.03266896256144"
                ],
                [
                  "564",
                  "564",
                  "Industrial",
                  "7",
                  "32",
                  "15.67",
                  "fin_de_semana",
                  "3427.5966857580506",
                  "-137.3190965583982"
                ],
                [
                  "574",
                  "574",
                  "Industrial",
                  "28",
                  "48",
                  "24.41",
                  "habil",
                  "3162.087504367678",
                  "-41.48589414209561"
                ],
                [
                  "599",
                  "599",
                  "Comercial",
                  "85",
                  "27",
                  "15.09",
                  "habil",
                  "2512.690764342454",
                  "-214.40672850960132"
                ],
                [
                  "606",
                  "606",
                  "Comercial",
                  "72",
                  "18",
                  "26.98",
                  "habil",
                  "3244.40707949436",
                  "-232.0639537690692"
                ],
                [
                  "647",
                  "647",
                  "Comercial",
                  "61",
                  "49",
                  "12.65",
                  "habil",
                  "3150.7335104848025",
                  "-651.383568945855"
                ],
                [
                  "648",
                  "648",
                  "Comercial",
                  "15",
                  "13",
                  "11.71",
                  "habil",
                  "2249.4493232816185",
                  "-844.2213477092387"
                ],
                [
                  "665",
                  "665",
                  "Residencial",
                  "17",
                  "40",
                  "20.5",
                  "habil",
                  "2245.279172046361",
                  "-871.5827217768011"
                ],
                [
                  "685",
                  "685",
                  "Comercial",
                  "15",
                  "34",
                  "21.32",
                  "fin_de_semana",
                  "2934.7794078567617",
                  "-6.588748409023456"
                ],
                [
                  "688",
                  "688",
                  "Comercial",
                  "60",
                  "27",
                  "34.94",
                  "fin_de_semana",
                  "3775.796178918295",
                  "-490.4784104865094"
                ]
              ],
              "shape": {
                "columns": 8,
                "rows": 66
              }
            },
            "text/html": [
              "<div>\n",
              "<style scoped>\n",
              "    .dataframe tbody tr th:only-of-type {\n",
              "        vertical-align: middle;\n",
              "    }\n",
              "\n",
              "    .dataframe tbody tr th {\n",
              "        vertical-align: top;\n",
              "    }\n",
              "\n",
              "    .dataframe thead th {\n",
              "        text-align: right;\n",
              "    }\n",
              "</style>\n",
              "<table border=\"1\" class=\"dataframe\">\n",
              "  <thead>\n",
              "    <tr style=\"text-align: right;\">\n",
              "      <th></th>\n",
              "      <th>id_edificio</th>\n",
              "      <th>tipo_edificio</th>\n",
              "      <th>numero_ocupantes</th>\n",
              "      <th>electrodomesticos</th>\n",
              "      <th>temperatura_media</th>\n",
              "      <th>dia_semana</th>\n",
              "      <th>consumo_energia</th>\n",
              "      <th>metros_cuadrados</th>\n",
              "    </tr>\n",
              "  </thead>\n",
              "  <tbody>\n",
              "    <tr>\n",
              "      <th>0</th>\n",
              "      <td>0</td>\n",
              "      <td>Residencial</td>\n",
              "      <td>76</td>\n",
              "      <td>10</td>\n",
              "      <td>29.84</td>\n",
              "      <td>habil</td>\n",
              "      <td>3264.235229</td>\n",
              "      <td>-800.581029</td>\n",
              "    </tr>\n",
              "    <tr>\n",
              "      <th>15</th>\n",
              "      <td>15</td>\n",
              "      <td>Comercial</td>\n",
              "      <td>54</td>\n",
              "      <td>47</td>\n",
              "      <td>13.56</td>\n",
              "      <td>fin_de_semana</td>\n",
              "      <td>3732.892463</td>\n",
              "      <td>-328.924703</td>\n",
              "    </tr>\n",
              "    <tr>\n",
              "      <th>16</th>\n",
              "      <td>16</td>\n",
              "      <td>Comercial</td>\n",
              "      <td>34</td>\n",
              "      <td>44</td>\n",
              "      <td>24.62</td>\n",
              "      <td>habil</td>\n",
              "      <td>3084.119209</td>\n",
              "      <td>-1032.146619</td>\n",
              "    </tr>\n",
              "    <tr>\n",
              "      <th>19</th>\n",
              "      <td>19</td>\n",
              "      <td>Residencial</td>\n",
              "      <td>19</td>\n",
              "      <td>48</td>\n",
              "      <td>22.67</td>\n",
              "      <td>habil</td>\n",
              "      <td>2624.408677</td>\n",
              "      <td>-792.017384</td>\n",
              "    </tr>\n",
              "    <tr>\n",
              "      <th>38</th>\n",
              "      <td>38</td>\n",
              "      <td>Residencial</td>\n",
              "      <td>31</td>\n",
              "      <td>13</td>\n",
              "      <td>15.09</td>\n",
              "      <td>fin_de_semana</td>\n",
              "      <td>1977.064115</td>\n",
              "      <td>-354.420930</td>\n",
              "    </tr>\n",
              "    <tr>\n",
              "      <th>...</th>\n",
              "      <td>...</td>\n",
              "      <td>...</td>\n",
              "      <td>...</td>\n",
              "      <td>...</td>\n",
              "      <td>...</td>\n",
              "      <td>...</td>\n",
              "      <td>...</td>\n",
              "      <td>...</td>\n",
              "    </tr>\n",
              "    <tr>\n",
              "      <th>889</th>\n",
              "      <td>889</td>\n",
              "      <td>Residencial</td>\n",
              "      <td>16</td>\n",
              "      <td>10</td>\n",
              "      <td>26.17</td>\n",
              "      <td>habil</td>\n",
              "      <td>1307.441130</td>\n",
              "      <td>-190.516798</td>\n",
              "    </tr>\n",
              "    <tr>\n",
              "      <th>900</th>\n",
              "      <td>900</td>\n",
              "      <td>Residencial</td>\n",
              "      <td>20</td>\n",
              "      <td>33</td>\n",
              "      <td>13.16</td>\n",
              "      <td>habil</td>\n",
              "      <td>2595.861370</td>\n",
              "      <td>-388.580389</td>\n",
              "    </tr>\n",
              "    <tr>\n",
              "      <th>920</th>\n",
              "      <td>920</td>\n",
              "      <td>Comercial</td>\n",
              "      <td>66</td>\n",
              "      <td>37</td>\n",
              "      <td>28.67</td>\n",
              "      <td>fin_de_semana</td>\n",
              "      <td>3926.746675</td>\n",
              "      <td>-527.852946</td>\n",
              "    </tr>\n",
              "    <tr>\n",
              "      <th>983</th>\n",
              "      <td>983</td>\n",
              "      <td>Residencial</td>\n",
              "      <td>65</td>\n",
              "      <td>46</td>\n",
              "      <td>20.94</td>\n",
              "      <td>fin_de_semana</td>\n",
              "      <td>3599.104447</td>\n",
              "      <td>-300.085437</td>\n",
              "    </tr>\n",
              "    <tr>\n",
              "      <th>984</th>\n",
              "      <td>984</td>\n",
              "      <td>Residencial</td>\n",
              "      <td>60</td>\n",
              "      <td>46</td>\n",
              "      <td>24.71</td>\n",
              "      <td>habil</td>\n",
              "      <td>3272.260070</td>\n",
              "      <td>-164.436905</td>\n",
              "    </tr>\n",
              "  </tbody>\n",
              "</table>\n",
              "<p>66 rows × 8 columns</p>\n",
              "</div>"
            ],
            "text/plain": [
              "     id_edificio tipo_edificio  numero_ocupantes  electrodomesticos  \\\n",
              "0              0   Residencial                76                 10   \n",
              "15            15     Comercial                54                 47   \n",
              "16            16     Comercial                34                 44   \n",
              "19            19   Residencial                19                 48   \n",
              "38            38   Residencial                31                 13   \n",
              "..           ...           ...               ...                ...   \n",
              "889          889   Residencial                16                 10   \n",
              "900          900   Residencial                20                 33   \n",
              "920          920     Comercial                66                 37   \n",
              "983          983   Residencial                65                 46   \n",
              "984          984   Residencial                60                 46   \n",
              "\n",
              "     temperatura_media     dia_semana  consumo_energia  metros_cuadrados  \n",
              "0                29.84          habil      3264.235229       -800.581029  \n",
              "15               13.56  fin_de_semana      3732.892463       -328.924703  \n",
              "16               24.62          habil      3084.119209      -1032.146619  \n",
              "19               22.67          habil      2624.408677       -792.017384  \n",
              "38               15.09  fin_de_semana      1977.064115       -354.420930  \n",
              "..                 ...            ...              ...               ...  \n",
              "889              26.17          habil      1307.441130       -190.516798  \n",
              "900              13.16          habil      2595.861370       -388.580389  \n",
              "920              28.67  fin_de_semana      3926.746675       -527.852946  \n",
              "983              20.94  fin_de_semana      3599.104447       -300.085437  \n",
              "984              24.71          habil      3272.260070       -164.436905  \n",
              "\n",
              "[66 rows x 8 columns]"
            ]
          },
          "execution_count": 72,
          "metadata": {},
          "output_type": "execute_result"
        }
      ],
      "source": [
        "consumo[consumo[\"metros_cuadrados\"] <= 0]"
      ]
    },
    {
      "cell_type": "code",
      "execution_count": 73,
      "metadata": {
        "id": "ytTIS1bQK6JG"
      },
      "outputs": [],
      "source": [
        "# acá noto que metros_cuadrados tiene valores en negativo. Esto no tiene sentido.\n",
        "# tome la decisión de aplicarles el valor absoluto a aquellos valores negativos\n",
        "# suponiendo que debió haber sido un error a la hora de cargar en la base de datos\n",
        "consumo['metros_cuadrados'] = consumo['metros_cuadrados'].apply(lambda x: x if x>= 0 else abs(x))"
      ]
    },
    {
      "cell_type": "code",
      "execution_count": 74,
      "metadata": {
        "colab": {
          "base_uri": "https://localhost:8080/",
          "height": 300
        },
        "id": "cYHgyKlALfmV",
        "outputId": "b8a89608-b1da-49d7-df25-452eee88bd7e"
      },
      "outputs": [
        {
          "data": {
            "application/vnd.microsoft.datawrangler.viewer.v0+json": {
              "columns": [
                {
                  "name": "index",
                  "rawType": "object",
                  "type": "string"
                },
                {
                  "name": "numero_ocupantes",
                  "rawType": "float64",
                  "type": "float"
                },
                {
                  "name": "electrodomesticos",
                  "rawType": "float64",
                  "type": "float"
                },
                {
                  "name": "temperatura_media",
                  "rawType": "float64",
                  "type": "float"
                },
                {
                  "name": "consumo_energia",
                  "rawType": "float64",
                  "type": "float"
                },
                {
                  "name": "metros_cuadrados",
                  "rawType": "float64",
                  "type": "float"
                }
              ],
              "ref": "57b365d7-f434-448d-aa28-a79dc0b91fa6",
              "rows": [
                [
                  "count",
                  "1000.0",
                  "1000.0",
                  "1000.0",
                  "1000.0",
                  "1000.0"
                ],
                [
                  "mean",
                  "48.372",
                  "25.606",
                  "22.61139",
                  "4096.041891762611",
                  "2423.62868210675"
                ],
                [
                  "std",
                  "29.061971960178724",
                  "14.105166419426597",
                  "7.139942517068821",
                  "1034.9962104662534",
                  "1458.5265700956181"
                ],
                [
                  "min",
                  "1.0",
                  "1.0",
                  "10.05",
                  "1302.7488602174565",
                  "1.5593142437686238"
                ],
                [
                  "25%",
                  "22.0",
                  "13.0",
                  "16.475",
                  "3404.3200131980175",
                  "1227.3415678371687"
                ],
                [
                  "50%",
                  "47.0",
                  "26.0",
                  "22.814999999999998",
                  "4080.7439311157714",
                  "2327.8409426823755"
                ],
                [
                  "75%",
                  "73.25",
                  "38.0",
                  "28.85",
                  "4819.3044582934945",
                  "3582.601752666945"
                ],
                [
                  "max",
                  "99.0",
                  "49.0",
                  "34.99",
                  "7097.948429862843",
                  "6823.252617594946"
                ]
              ],
              "shape": {
                "columns": 5,
                "rows": 8
              }
            },
            "text/html": [
              "<div>\n",
              "<style scoped>\n",
              "    .dataframe tbody tr th:only-of-type {\n",
              "        vertical-align: middle;\n",
              "    }\n",
              "\n",
              "    .dataframe tbody tr th {\n",
              "        vertical-align: top;\n",
              "    }\n",
              "\n",
              "    .dataframe thead th {\n",
              "        text-align: right;\n",
              "    }\n",
              "</style>\n",
              "<table border=\"1\" class=\"dataframe\">\n",
              "  <thead>\n",
              "    <tr style=\"text-align: right;\">\n",
              "      <th></th>\n",
              "      <th>numero_ocupantes</th>\n",
              "      <th>electrodomesticos</th>\n",
              "      <th>temperatura_media</th>\n",
              "      <th>consumo_energia</th>\n",
              "      <th>metros_cuadrados</th>\n",
              "    </tr>\n",
              "  </thead>\n",
              "  <tbody>\n",
              "    <tr>\n",
              "      <th>count</th>\n",
              "      <td>1000.000000</td>\n",
              "      <td>1000.000000</td>\n",
              "      <td>1000.000000</td>\n",
              "      <td>1000.000000</td>\n",
              "      <td>1000.000000</td>\n",
              "    </tr>\n",
              "    <tr>\n",
              "      <th>mean</th>\n",
              "      <td>48.372000</td>\n",
              "      <td>25.606000</td>\n",
              "      <td>22.611390</td>\n",
              "      <td>4096.041892</td>\n",
              "      <td>2423.628682</td>\n",
              "    </tr>\n",
              "    <tr>\n",
              "      <th>std</th>\n",
              "      <td>29.061972</td>\n",
              "      <td>14.105166</td>\n",
              "      <td>7.139943</td>\n",
              "      <td>1034.996210</td>\n",
              "      <td>1458.526570</td>\n",
              "    </tr>\n",
              "    <tr>\n",
              "      <th>min</th>\n",
              "      <td>1.000000</td>\n",
              "      <td>1.000000</td>\n",
              "      <td>10.050000</td>\n",
              "      <td>1302.748860</td>\n",
              "      <td>1.559314</td>\n",
              "    </tr>\n",
              "    <tr>\n",
              "      <th>25%</th>\n",
              "      <td>22.000000</td>\n",
              "      <td>13.000000</td>\n",
              "      <td>16.475000</td>\n",
              "      <td>3404.320013</td>\n",
              "      <td>1227.341568</td>\n",
              "    </tr>\n",
              "    <tr>\n",
              "      <th>50%</th>\n",
              "      <td>47.000000</td>\n",
              "      <td>26.000000</td>\n",
              "      <td>22.815000</td>\n",
              "      <td>4080.743931</td>\n",
              "      <td>2327.840943</td>\n",
              "    </tr>\n",
              "    <tr>\n",
              "      <th>75%</th>\n",
              "      <td>73.250000</td>\n",
              "      <td>38.000000</td>\n",
              "      <td>28.850000</td>\n",
              "      <td>4819.304458</td>\n",
              "      <td>3582.601753</td>\n",
              "    </tr>\n",
              "    <tr>\n",
              "      <th>max</th>\n",
              "      <td>99.000000</td>\n",
              "      <td>49.000000</td>\n",
              "      <td>34.990000</td>\n",
              "      <td>7097.948430</td>\n",
              "      <td>6823.252618</td>\n",
              "    </tr>\n",
              "  </tbody>\n",
              "</table>\n",
              "</div>"
            ],
            "text/plain": [
              "       numero_ocupantes  electrodomesticos  temperatura_media  \\\n",
              "count       1000.000000        1000.000000        1000.000000   \n",
              "mean          48.372000          25.606000          22.611390   \n",
              "std           29.061972          14.105166           7.139943   \n",
              "min            1.000000           1.000000          10.050000   \n",
              "25%           22.000000          13.000000          16.475000   \n",
              "50%           47.000000          26.000000          22.815000   \n",
              "75%           73.250000          38.000000          28.850000   \n",
              "max           99.000000          49.000000          34.990000   \n",
              "\n",
              "       consumo_energia  metros_cuadrados  \n",
              "count      1000.000000       1000.000000  \n",
              "mean       4096.041892       2423.628682  \n",
              "std        1034.996210       1458.526570  \n",
              "min        1302.748860          1.559314  \n",
              "25%        3404.320013       1227.341568  \n",
              "50%        4080.743931       2327.840943  \n",
              "75%        4819.304458       3582.601753  \n",
              "max        7097.948430       6823.252618  "
            ]
          },
          "execution_count": 74,
          "metadata": {},
          "output_type": "execute_result"
        }
      ],
      "source": [
        "consumo[columnas_describe].describe() # sin id_edificio"
      ]
    },
    {
      "cell_type": "code",
      "execution_count": 75,
      "metadata": {
        "colab": {
          "base_uri": "https://localhost:8080/"
        },
        "id": "lAOggbQ7KPR1",
        "outputId": "f5f9bb9b-b9f8-4399-ec77-12df65e61c16"
      },
      "outputs": [
        {
          "data": {
            "text/plain": [
              "(1000, 8)"
            ]
          },
          "execution_count": 75,
          "metadata": {},
          "output_type": "execute_result"
        }
      ],
      "source": [
        "consumo.shape"
      ]
    },
    {
      "cell_type": "markdown",
      "metadata": {
        "id": "QjLUoTAgL8Jw"
      },
      "source": [
        "Misma cantidad de filas (1000) que barrios, no habría problema en aplicar un merge entre los dos datatsets"
      ]
    },
    {
      "cell_type": "code",
      "execution_count": 76,
      "metadata": {
        "colab": {
          "base_uri": "https://localhost:8080/"
        },
        "id": "AhccBJMaKVP-",
        "outputId": "4fd3e308-43ed-4a2c-a287-dc66cc5fc67e"
      },
      "outputs": [
        {
          "name": "stdout",
          "output_type": "stream",
          "text": [
            "id_edificio          0\n",
            "tipo_edificio        0\n",
            "numero_ocupantes     0\n",
            "electrodomesticos    0\n",
            "temperatura_media    0\n",
            "dia_semana           0\n",
            "consumo_energia      0\n",
            "metros_cuadrados     0\n",
            "dtype: int64\n"
          ]
        }
      ],
      "source": [
        "print(consumo.isnull().sum())"
      ]
    },
    {
      "cell_type": "code",
      "execution_count": 77,
      "metadata": {
        "colab": {
          "base_uri": "https://localhost:8080/"
        },
        "id": "Akr4HSpCKY89",
        "outputId": "ba90acf2-b511-4f82-cd89-09a5d1447010"
      },
      "outputs": [
        {
          "name": "stdout",
          "output_type": "stream",
          "text": [
            "0\n"
          ]
        }
      ],
      "source": [
        "print(barrio.duplicated().sum())"
      ]
    },
    {
      "cell_type": "code",
      "execution_count": 78,
      "metadata": {
        "id": "mEW6oTowMYSV"
      },
      "outputs": [],
      "source": [
        "df = pd.merge(\n",
        "    left=barrio,\n",
        "    right=consumo,\n",
        "    left_on='id_edificio',\n",
        "    right_on='id_edificio',\n",
        "    how='inner'\n",
        ")"
      ]
    },
    {
      "cell_type": "markdown",
      "metadata": {
        "id": "4AeS4oUQMDkO"
      },
      "source": [
        "Ambos datasets tienen 1000 registros"
      ]
    },
    {
      "cell_type": "code",
      "execution_count": 79,
      "metadata": {
        "colab": {
          "base_uri": "https://localhost:8080/"
        },
        "id": "9j2F9XnZMPBs",
        "outputId": "04769814-9b1d-496c-86a0-9fdf0b8d160c"
      },
      "outputs": [
        {
          "data": {
            "text/plain": [
              "Index(['id_edificio', 'barrio', 'tipo_edificio', 'numero_ocupantes',\n",
              "       'electrodomesticos', 'temperatura_media', 'dia_semana',\n",
              "       'consumo_energia', 'metros_cuadrados'],\n",
              "      dtype='object')"
            ]
          },
          "execution_count": 79,
          "metadata": {},
          "output_type": "execute_result"
        }
      ],
      "source": [
        "df.columns"
      ]
    },
    {
      "cell_type": "markdown",
      "metadata": {
        "id": "In75gYnfMJ-y"
      },
      "source": [
        "### Ejercicio 2"
      ]
    },
    {
      "cell_type": "code",
      "execution_count": 80,
      "metadata": {
        "colab": {
          "base_uri": "https://localhost:8080/"
        },
        "id": "K3OZiLlcMz5b",
        "outputId": "88ea434a-c7c8-4825-8124-66ebebb322d0"
      },
      "outputs": [
        {
          "data": {
            "text/plain": [
              "array(['Residencial', 'Comercial', 'Industrial'], dtype=object)"
            ]
          },
          "execution_count": 80,
          "metadata": {},
          "output_type": "execute_result"
        }
      ],
      "source": [
        "df[\"tipo_edificio\"].unique()"
      ]
    },
    {
      "cell_type": "code",
      "execution_count": 81,
      "metadata": {
        "colab": {
          "base_uri": "https://localhost:8080/",
          "height": 474
        },
        "id": "3a1c6yohML9U",
        "outputId": "a3641106-f523-4f95-9fee-2c54dbba2698"
      },
      "outputs": [
        {
          "data": {
            "image/png": "[encoded data removed]",
            "text/plain": [
              "<Figure size 640x480 with 1 Axes>"
            ]
          },
          "metadata": {},
          "output_type": "display_data"
        }
      ],
      "source": [
        "#sns.histplot(df, x='consumo_energia', hue='tipo_edificio', kde=True)\n",
        "sns.boxplot(df, x='consumo_energia', hue='tipo_edificio', palette='pastel')\n",
        "plt.title(\"Distribución de consumo de energía por tipo de edificio\", fontsize=14, weight='bold')\n",
        "plt.ylabel(\"Edificios\", weight='bold')\n",
        "plt.xlabel(\"Consumo (en KWh)\", weight='bold')\n",
        "plt.tight_layout()\n",
        "plt.grid()\n",
        "plt.show()"
      ]
    },
    {
      "cell_type": "markdown",
      "metadata": {
        "id": "eacjowcXNkfn"
      },
      "source": [
        "La explicación a la clienta podría ser\n",
        "Los edificios de tipo industrial tienen un consumo mayor al resto, comenzando aproximadamente en 2200KWh extendiendose hasta los 7000KWh.La mayoría de estos se concentran entre 4000 y 5500 KWh.\n",
        "\n",
        "Le siguen los comerciales, Que van desde apenas un poco menos de 2000KWh hasta los 6500 aproximadamente y poseen la mayor concentración entre 3500 y 4500 KWh\n",
        "\n",
        "Luego, los de menos consumo son los residenciales, con un consumo que va desde 1500KWh hasta los 6000, y sus valores se concentran entre 2900 y 4200 KWh"
      ]
    },
    {
      "cell_type": "markdown",
      "metadata": {
        "id": "Z-A8qZJVOcSJ"
      },
      "source": [
        "### Ejercicio 3"
      ]
    },
    {
      "cell_type": "code",
      "execution_count": 82,
      "metadata": {
        "colab": {
          "base_uri": "https://localhost:8080/",
          "height": 474
        },
        "id": "5dn72TS-M66g",
        "outputId": "e3f8bfea-c4b8-4e93-d5e3-247420b60457"
      },
      "outputs": [
        {
          "data": {
            "image/png": "[encoded data removed]",
            "text/plain": [
              "<Figure size 640x480 with 1 Axes>"
            ]
          },
          "metadata": {},
          "output_type": "display_data"
        }
      ],
      "source": [
        "sns.histplot(df, x='temperatura_media', kde=True, bins=18)\n",
        "plt.title(\"Distribución de la variable temperatura\", fontsize=14, weight='bold')\n",
        "plt.ylabel(\"Frecuencia\", weight='bold')\n",
        "plt.xlabel(\"Temperatura\", weight='bold')\n",
        "plt.show()"
      ]
    },
    {
      "cell_type": "markdown",
      "metadata": {
        "id": "78otfe_kOzrq"
      },
      "source": [
        "No parece ser cierto que los datos de temperatura estén sesgados, están distribuidos simétricamente."
      ]
    },
    {
      "cell_type": "markdown",
      "metadata": {
        "id": "L5eQaxBbO9p7"
      },
      "source": [
        "### Ejercicio 4"
      ]
    },
    {
      "cell_type": "code",
      "execution_count": 83,
      "metadata": {
        "colab": {
          "base_uri": "https://localhost:8080/",
          "height": 226
        },
        "id": "bDmJJCHAPfIp",
        "outputId": "ab91b7b6-cf16-43a4-c4f1-36e7dccbc33d"
      },
      "outputs": [
        {
          "data": {
            "application/vnd.microsoft.datawrangler.viewer.v0+json": {
              "columns": [
                {
                  "name": "index",
                  "rawType": "int64",
                  "type": "integer"
                },
                {
                  "name": "id_edificio",
                  "rawType": "int64",
                  "type": "integer"
                },
                {
                  "name": "barrio",
                  "rawType": "object",
                  "type": "string"
                },
                {
                  "name": "tipo_edificio",
                  "rawType": "object",
                  "type": "string"
                },
                {
                  "name": "numero_ocupantes",
                  "rawType": "int64",
                  "type": "integer"
                },
                {
                  "name": "electrodomesticos",
                  "rawType": "int64",
                  "type": "integer"
                },
                {
                  "name": "temperatura_media",
                  "rawType": "float64",
                  "type": "float"
                },
                {
                  "name": "dia_semana",
                  "rawType": "object",
                  "type": "string"
                },
                {
                  "name": "consumo_energia",
                  "rawType": "float64",
                  "type": "float"
                },
                {
                  "name": "metros_cuadrados",
                  "rawType": "float64",
                  "type": "float"
                }
              ],
              "ref": "02e620d0-1ca7-499a-a931-29cff5021a53",
              "rows": [
                [
                  "0",
                  "0",
                  "Norte",
                  "Residencial",
                  "76",
                  "10",
                  "29.84",
                  "habil",
                  "3264.2352289225805",
                  "800.5810291420312"
                ],
                [
                  "1",
                  "1",
                  "Norte",
                  "Comercial",
                  "66",
                  "45",
                  "16.72",
                  "fin_de_semana",
                  "6486.624734805464",
                  "4076.513978752818"
                ],
                [
                  "2",
                  "2",
                  "Norte",
                  "Industrial",
                  "37",
                  "17",
                  "14.3",
                  "habil",
                  "4276.656672459831",
                  "2706.630059768273"
                ],
                [
                  "3",
                  "3",
                  "Centro",
                  "Residencial",
                  "14",
                  "41",
                  "32.82",
                  "habil",
                  "3209.3882913880952",
                  "805.1126316957763"
                ],
                [
                  "4",
                  "4",
                  "Oeste",
                  "Comercial",
                  "26",
                  "18",
                  "11.92",
                  "habil",
                  "3266.8712609079644",
                  "1175.46703824612"
                ]
              ],
              "shape": {
                "columns": 9,
                "rows": 5
              }
            },
            "text/html": [
              "<div>\n",
              "<style scoped>\n",
              "    .dataframe tbody tr th:only-of-type {\n",
              "        vertical-align: middle;\n",
              "    }\n",
              "\n",
              "    .dataframe tbody tr th {\n",
              "        vertical-align: top;\n",
              "    }\n",
              "\n",
              "    .dataframe thead th {\n",
              "        text-align: right;\n",
              "    }\n",
              "</style>\n",
              "<table border=\"1\" class=\"dataframe\">\n",
              "  <thead>\n",
              "    <tr style=\"text-align: right;\">\n",
              "      <th></th>\n",
              "      <th>id_edificio</th>\n",
              "      <th>barrio</th>\n",
              "      <th>tipo_edificio</th>\n",
              "      <th>numero_ocupantes</th>\n",
              "      <th>electrodomesticos</th>\n",
              "      <th>temperatura_media</th>\n",
              "      <th>dia_semana</th>\n",
              "      <th>consumo_energia</th>\n",
              "      <th>metros_cuadrados</th>\n",
              "    </tr>\n",
              "  </thead>\n",
              "  <tbody>\n",
              "    <tr>\n",
              "      <th>0</th>\n",
              "      <td>0</td>\n",
              "      <td>Norte</td>\n",
              "      <td>Residencial</td>\n",
              "      <td>76</td>\n",
              "      <td>10</td>\n",
              "      <td>29.84</td>\n",
              "      <td>habil</td>\n",
              "      <td>3264.235229</td>\n",
              "      <td>800.581029</td>\n",
              "    </tr>\n",
              "    <tr>\n",
              "      <th>1</th>\n",
              "      <td>1</td>\n",
              "      <td>Norte</td>\n",
              "      <td>Comercial</td>\n",
              "      <td>66</td>\n",
              "      <td>45</td>\n",
              "      <td>16.72</td>\n",
              "      <td>fin_de_semana</td>\n",
              "      <td>6486.624735</td>\n",
              "      <td>4076.513979</td>\n",
              "    </tr>\n",
              "    <tr>\n",
              "      <th>2</th>\n",
              "      <td>2</td>\n",
              "      <td>Norte</td>\n",
              "      <td>Industrial</td>\n",
              "      <td>37</td>\n",
              "      <td>17</td>\n",
              "      <td>14.30</td>\n",
              "      <td>habil</td>\n",
              "      <td>4276.656672</td>\n",
              "      <td>2706.630060</td>\n",
              "    </tr>\n",
              "    <tr>\n",
              "      <th>3</th>\n",
              "      <td>3</td>\n",
              "      <td>Centro</td>\n",
              "      <td>Residencial</td>\n",
              "      <td>14</td>\n",
              "      <td>41</td>\n",
              "      <td>32.82</td>\n",
              "      <td>habil</td>\n",
              "      <td>3209.388291</td>\n",
              "      <td>805.112632</td>\n",
              "    </tr>\n",
              "    <tr>\n",
              "      <th>4</th>\n",
              "      <td>4</td>\n",
              "      <td>Oeste</td>\n",
              "      <td>Comercial</td>\n",
              "      <td>26</td>\n",
              "      <td>18</td>\n",
              "      <td>11.92</td>\n",
              "      <td>habil</td>\n",
              "      <td>3266.871261</td>\n",
              "      <td>1175.467038</td>\n",
              "    </tr>\n",
              "  </tbody>\n",
              "</table>\n",
              "</div>"
            ],
            "text/plain": [
              "   id_edificio  barrio tipo_edificio  numero_ocupantes  electrodomesticos  \\\n",
              "0            0   Norte   Residencial                76                 10   \n",
              "1            1   Norte     Comercial                66                 45   \n",
              "2            2   Norte    Industrial                37                 17   \n",
              "3            3  Centro   Residencial                14                 41   \n",
              "4            4   Oeste     Comercial                26                 18   \n",
              "\n",
              "   temperatura_media     dia_semana  consumo_energia  metros_cuadrados  \n",
              "0              29.84          habil      3264.235229        800.581029  \n",
              "1              16.72  fin_de_semana      6486.624735       4076.513979  \n",
              "2              14.30          habil      4276.656672       2706.630060  \n",
              "3              32.82          habil      3209.388291        805.112632  \n",
              "4              11.92          habil      3266.871261       1175.467038  "
            ]
          },
          "execution_count": 83,
          "metadata": {},
          "output_type": "execute_result"
        }
      ],
      "source": [
        "df.head()"
      ]
    },
    {
      "cell_type": "code",
      "execution_count": 84,
      "metadata": {
        "colab": {
          "base_uri": "https://localhost:8080/"
        },
        "id": "VPf5bGOMOlfF",
        "outputId": "68b29888-c079-4bc3-da0d-15ca82bab897"
      },
      "outputs": [
        {
          "data": {
            "text/plain": [
              "Index(['id_edificio', 'barrio', 'tipo_edificio', 'numero_ocupantes',\n",
              "       'electrodomesticos', 'temperatura_media', 'dia_semana',\n",
              "       'consumo_energia', 'metros_cuadrados'],\n",
              "      dtype='object')"
            ]
          },
          "execution_count": 84,
          "metadata": {},
          "output_type": "execute_result"
        }
      ],
      "source": [
        "df.columns"
      ]
    },
    {
      "cell_type": "code",
      "execution_count": 85,
      "metadata": {
        "colab": {
          "base_uri": "https://localhost:8080/",
          "height": 487
        },
        "id": "zECE-6Z5PDgM",
        "outputId": "0c6094c7-b4f3-4117-ffe6-1f9cf7902757"
      },
      "outputs": [
        {
          "data": {
            "image/png": "[encoded data removed]",
            "text/plain": [
              "<Figure size 640x480 with 2 Axes>"
            ]
          },
          "metadata": {},
          "output_type": "display_data"
        }
      ],
      "source": [
        "columnas_correlacionar = ['numero_ocupantes',\n",
        "       'electrodomesticos', 'temperatura_media',\n",
        "       'consumo_energia', 'metros_cuadrados']\n",
        "sns.heatmap(df[columnas_correlacionar].corr(), annot=True, cmap='coolwarm')\n",
        "plt.title(\"Correlograma de las variables numéricas del dataset\", fontsize=14, weight='bold')\n",
        "plt.tight_layout()\n",
        "plt.show()"
      ]
    },
    {
      "cell_type": "markdown",
      "metadata": {
        "id": "qolbx5zeP0LY"
      },
      "source": [
        "### Ejercicio 5"
      ]
    },
    {
      "cell_type": "code",
      "execution_count": 86,
      "metadata": {
        "colab": {
          "base_uri": "https://localhost:8080/",
          "height": 474
        },
        "id": "nISbKGMRPt3c",
        "outputId": "57db4666-7252-471d-814b-6cde233a0101"
      },
      "outputs": [
        {
          "data": {
            "image/png": "[encoded data removed]",
            "text/plain": [
              "<Figure size 640x480 with 1 Axes>"
            ]
          },
          "metadata": {},
          "output_type": "display_data"
        }
      ],
      "source": [
        "sns.scatterplot(df, x='consumo_energia', y='numero_ocupantes')\n",
        "plt.title(\"Relación entre número de ocupantes y consumo\", fontsize=14, weight='bold')\n",
        "plt.ylabel(\"Número de ocupantes\", weight='bold')\n",
        "plt.xlabel(\"Consumo (en KWh)\", weight='bold')\n",
        "plt.show()"
      ]
    },
    {
      "cell_type": "markdown",
      "metadata": {
        "id": "C0_qHNGnQG5d"
      },
      "source": [
        "Parece haber una relación directa muy ligera. Pero principalmente los datos muestran una nube sin una relación lineal identificable.\n",
        "\n",
        "El correlograma nos muestra que el valor de correlación de pearson es de 0.32 entre estas dos variables. Por eso podría verse la sutil relación directa pero muy ligera.\n"
      ]
    },
    {
      "cell_type": "markdown",
      "metadata": {
        "id": "Yqf19iXoQ71G"
      },
      "source": [
        "## Parte 2"
      ]
    },
    {
      "cell_type": "code",
      "execution_count": 87,
      "metadata": {
        "colab": {
          "base_uri": "https://localhost:8080/"
        },
        "id": "IS_KwijYVCv_",
        "outputId": "94110c77-245f-466a-fb92-7e4735cc84d7"
      },
      "outputs": [
        {
          "data": {
            "text/plain": [
              "['numero_ocupantes',\n",
              " 'electrodomesticos',\n",
              " 'temperatura_media',\n",
              " 'consumo_energia',\n",
              " 'metros_cuadrados']"
            ]
          },
          "execution_count": 87,
          "metadata": {},
          "output_type": "execute_result"
        }
      ],
      "source": [
        "columnas_correlacionar"
      ]
    },
    {
      "cell_type": "code",
      "execution_count": 99,
      "metadata": {
        "colab": {
          "base_uri": "https://localhost:8080/",
          "height": 663
        },
        "id": "9dxTVcqpP8fq",
        "outputId": "5c1124f4-e351-4a9f-bf8f-b9d85b1c02b2"
      },
      "outputs": [
        {
          "data": {
            "image/png": "[encoded data removed]",
            "text/plain": [
              "<Figure size 1200x800 with 4 Axes>"
            ]
          },
          "metadata": {},
          "output_type": "display_data"
        }
      ],
      "source": [
        "from sklearn.preprocessing import StandardScaler\n",
        "columnas_relevantes = ['numero_ocupantes','electrodomesticos','consumo_energia','metros_cuadrados']\n",
        "# Quito temperatura porque no tiene relación lineal con ninguna otra variable\n",
        "std_scaler = StandardScaler()\n",
        "df_std = pd.DataFrame(std_scaler.fit_transform(df[columnas_relevantes]), columns=columnas_relevantes)\n",
        "\n",
        "fig, axes = plt.subplots(2,2,figsize=(12,8))\n",
        "sns.histplot(df[columnas_relevantes],kde=True, ax=axes[0,0])\n",
        "sns.histplot(df_std,kde=True, ax=axes[1,0])\n",
        "sns.boxplot(df[columnas_relevantes], ax=axes[0,1], orient='h')\n",
        "sns.boxplot(df_std, ax=axes[1,1], orient='h')\n",
        "axes[0,0].set_title(\"DataFrame original\")\n",
        "axes[1,0].set_title(\"DataFrame estandarizado\")\n",
        "plt.tight_layout()\n",
        "plt.show()"
      ]
    },
    {
      "cell_type": "code",
      "execution_count": 89,
      "metadata": {
        "colab": {
          "base_uri": "https://localhost:8080/"
        },
        "id": "W_9gzVqsTAAI",
        "outputId": "18658f05-090a-45cb-f911-7437c7325c4c"
      },
      "outputs": [
        {
          "name": "stdout",
          "output_type": "stream",
          "text": [
            "<class 'pandas.core.frame.DataFrame'>\n",
            "RangeIndex: 1000 entries, 0 to 999\n",
            "Data columns (total 4 columns):\n",
            " #   Column             Non-Null Count  Dtype  \n",
            "---  ------             --------------  -----  \n",
            " 0   numero_ocupantes   1000 non-null   float64\n",
            " 1   electrodomesticos  1000 non-null   float64\n",
            " 2   consumo_energia    1000 non-null   float64\n",
            " 3   metros_cuadrados   1000 non-null   float64\n",
            "dtypes: float64(4)\n",
            "memory usage: 31.4 KB\n"
          ]
        }
      ],
      "source": [
        "df_std.info()"
      ]
    },
    {
      "cell_type": "code",
      "execution_count": 90,
      "metadata": {
        "colab": {
          "base_uri": "https://localhost:8080/",
          "height": 206
        },
        "id": "rbfVNw3nTPSH",
        "outputId": "8582d5b5-5eec-4d01-89ab-29315b1e63dc"
      },
      "outputs": [
        {
          "data": {
            "application/vnd.microsoft.datawrangler.viewer.v0+json": {
              "columns": [
                {
                  "name": "index",
                  "rawType": "int64",
                  "type": "integer"
                },
                {
                  "name": "numero_ocupantes",
                  "rawType": "float64",
                  "type": "float"
                },
                {
                  "name": "electrodomesticos",
                  "rawType": "float64",
                  "type": "float"
                },
                {
                  "name": "consumo_energia",
                  "rawType": "float64",
                  "type": "float"
                },
                {
                  "name": "metros_cuadrados",
                  "rawType": "float64",
                  "type": "float"
                }
              ],
              "ref": "9abf3623-e3c3-4fee-bf5e-e65dcc8488a2",
              "rows": [
                [
                  "0",
                  "0.9511338186898217",
                  "-1.1069567272617744",
                  "-0.8040830197670096",
                  "-1.1133563277049254"
                ],
                [
                  "1",
                  "0.6068693700544439",
                  "1.375645185730799",
                  "2.310906076267839",
                  "1.1338239518906688"
                ],
                [
                  "2",
                  "-0.3914975309881516",
                  "-0.6104363446632598",
                  "0.17459499276156465",
                  "0.19412946625019203"
                ],
                [
                  "3",
                  "-1.1833057628495205",
                  "1.091919252817362",
                  "-0.8571019400616922",
                  "-1.1102478001341916"
                ],
                [
                  "4",
                  "-0.7701884244870671",
                  "-0.5395048614349005",
                  "-0.8015348452287425",
                  "-0.8561970818616635"
                ]
              ],
              "shape": {
                "columns": 4,
                "rows": 5
              }
            },
            "text/html": [
              "<div>\n",
              "<style scoped>\n",
              "    .dataframe tbody tr th:only-of-type {\n",
              "        vertical-align: middle;\n",
              "    }\n",
              "\n",
              "    .dataframe tbody tr th {\n",
              "        vertical-align: top;\n",
              "    }\n",
              "\n",
              "    .dataframe thead th {\n",
              "        text-align: right;\n",
              "    }\n",
              "</style>\n",
              "<table border=\"1\" class=\"dataframe\">\n",
              "  <thead>\n",
              "    <tr style=\"text-align: right;\">\n",
              "      <th></th>\n",
              "      <th>numero_ocupantes</th>\n",
              "      <th>electrodomesticos</th>\n",
              "      <th>consumo_energia</th>\n",
              "      <th>metros_cuadrados</th>\n",
              "    </tr>\n",
              "  </thead>\n",
              "  <tbody>\n",
              "    <tr>\n",
              "      <th>0</th>\n",
              "      <td>0.951134</td>\n",
              "      <td>-1.106957</td>\n",
              "      <td>-0.804083</td>\n",
              "      <td>-1.113356</td>\n",
              "    </tr>\n",
              "    <tr>\n",
              "      <th>1</th>\n",
              "      <td>0.606869</td>\n",
              "      <td>1.375645</td>\n",
              "      <td>2.310906</td>\n",
              "      <td>1.133824</td>\n",
              "    </tr>\n",
              "    <tr>\n",
              "      <th>2</th>\n",
              "      <td>-0.391498</td>\n",
              "      <td>-0.610436</td>\n",
              "      <td>0.174595</td>\n",
              "      <td>0.194129</td>\n",
              "    </tr>\n",
              "    <tr>\n",
              "      <th>3</th>\n",
              "      <td>-1.183306</td>\n",
              "      <td>1.091919</td>\n",
              "      <td>-0.857102</td>\n",
              "      <td>-1.110248</td>\n",
              "    </tr>\n",
              "    <tr>\n",
              "      <th>4</th>\n",
              "      <td>-0.770188</td>\n",
              "      <td>-0.539505</td>\n",
              "      <td>-0.801535</td>\n",
              "      <td>-0.856197</td>\n",
              "    </tr>\n",
              "  </tbody>\n",
              "</table>\n",
              "</div>"
            ],
            "text/plain": [
              "   numero_ocupantes  electrodomesticos  consumo_energia  metros_cuadrados\n",
              "0          0.951134          -1.106957        -0.804083         -1.113356\n",
              "1          0.606869           1.375645         2.310906          1.133824\n",
              "2         -0.391498          -0.610436         0.174595          0.194129\n",
              "3         -1.183306           1.091919        -0.857102         -1.110248\n",
              "4         -0.770188          -0.539505        -0.801535         -0.856197"
            ]
          },
          "execution_count": 90,
          "metadata": {},
          "output_type": "execute_result"
        }
      ],
      "source": [
        "df_std.head()"
      ]
    },
    {
      "cell_type": "code",
      "execution_count": 91,
      "metadata": {
        "id": "dG0QxeE9S44y"
      },
      "outputs": [],
      "source": [
        "# # Generación de las dummies\n",
        "columnas_categoricas = ['barrio','tipo_edificio', 'dia_semana']\n",
        "df = pd.get_dummies(df, columns=[\"barrio\"], dtype=int)\n",
        "df = pd.get_dummies(df, columns=[\"tipo_edificio\"], dtype=int)\n",
        "df = pd.get_dummies(df, columns=[\"dia_semana\"], dtype=int)"
      ]
    },
    {
      "cell_type": "code",
      "execution_count": null,
      "metadata": {},
      "outputs": [],
      "source": []
    },
    {
      "cell_type": "code",
      "execution_count": 92,
      "metadata": {
        "colab": {
          "base_uri": "https://localhost:8080/",
          "height": 443
        },
        "id": "lmnVz22MTzX9",
        "outputId": "7568d14e-1db9-4a7a-ef65-6ff0fd7b4322"
      },
      "outputs": [
        {
          "data": {
            "application/vnd.microsoft.datawrangler.viewer.v0+json": {
              "columns": [
                {
                  "name": "index",
                  "rawType": "int64",
                  "type": "integer"
                },
                {
                  "name": "id_edificio",
                  "rawType": "int64",
                  "type": "integer"
                },
                {
                  "name": "numero_ocupantes",
                  "rawType": "int64",
                  "type": "integer"
                },
                {
                  "name": "electrodomesticos",
                  "rawType": "int64",
                  "type": "integer"
                },
                {
                  "name": "temperatura_media",
                  "rawType": "float64",
                  "type": "float"
                },
                {
                  "name": "consumo_energia",
                  "rawType": "float64",
                  "type": "float"
                },
                {
                  "name": "metros_cuadrados",
                  "rawType": "float64",
                  "type": "float"
                },
                {
                  "name": "barrio_Centro",
                  "rawType": "int32",
                  "type": "integer"
                },
                {
                  "name": "barrio_Norte",
                  "rawType": "int32",
                  "type": "integer"
                },
                {
                  "name": "barrio_Oeste",
                  "rawType": "int32",
                  "type": "integer"
                },
                {
                  "name": "barrio_Sur",
                  "rawType": "int32",
                  "type": "integer"
                },
                {
                  "name": "tipo_edificio_Comercial",
                  "rawType": "int32",
                  "type": "integer"
                },
                {
                  "name": "tipo_edificio_Industrial",
                  "rawType": "int32",
                  "type": "integer"
                },
                {
                  "name": "tipo_edificio_Residencial",
                  "rawType": "int32",
                  "type": "integer"
                },
                {
                  "name": "dia_semana_fin_de_semana",
                  "rawType": "int32",
                  "type": "integer"
                },
                {
                  "name": "dia_semana_habil",
                  "rawType": "int32",
                  "type": "integer"
                }
              ],
              "ref": "c1b72179-45dc-42e4-bbdf-04dddf2d7ffc",
              "rows": [
                [
                  "0",
                  "0",
                  "76",
                  "10",
                  "29.84",
                  "3264.2352289225805",
                  "800.5810291420312",
                  "0",
                  "1",
                  "0",
                  "0",
                  "0",
                  "0",
                  "1",
                  "0",
                  "1"
                ],
                [
                  "1",
                  "1",
                  "66",
                  "45",
                  "16.72",
                  "6486.624734805464",
                  "4076.513978752818",
                  "0",
                  "1",
                  "0",
                  "0",
                  "1",
                  "0",
                  "0",
                  "1",
                  "0"
                ],
                [
                  "2",
                  "2",
                  "37",
                  "17",
                  "14.3",
                  "4276.656672459831",
                  "2706.630059768273",
                  "0",
                  "1",
                  "0",
                  "0",
                  "0",
                  "1",
                  "0",
                  "0",
                  "1"
                ],
                [
                  "3",
                  "3",
                  "14",
                  "41",
                  "32.82",
                  "3209.3882913880952",
                  "805.1126316957763",
                  "1",
                  "0",
                  "0",
                  "0",
                  "0",
                  "0",
                  "1",
                  "0",
                  "1"
                ],
                [
                  "4",
                  "4",
                  "26",
                  "18",
                  "11.92",
                  "3266.8712609079644",
                  "1175.46703824612",
                  "0",
                  "0",
                  "1",
                  "0",
                  "1",
                  "0",
                  "0",
                  "0",
                  "1"
                ],
                [
                  "5",
                  "5",
                  "26",
                  "32",
                  "16.24",
                  "4345.208179131969",
                  "5049.629838357812",
                  "1",
                  "0",
                  "0",
                  "0",
                  "1",
                  "0",
                  "0",
                  "0",
                  "1"
                ],
                [
                  "6",
                  "6",
                  "92",
                  "14",
                  "21.01",
                  "5248.40586113906",
                  "2159.7998120772213",
                  "0",
                  "1",
                  "0",
                  "0",
                  "0",
                  "1",
                  "0",
                  "0",
                  "1"
                ],
                [
                  "7",
                  "7",
                  "60",
                  "18",
                  "28.24",
                  "3837.9935540261768",
                  "3272.330350759063",
                  "0",
                  "1",
                  "0",
                  "0",
                  "0",
                  "0",
                  "1",
                  "1",
                  "0"
                ],
                [
                  "8",
                  "8",
                  "99",
                  "44",
                  "13.08",
                  "5752.556278691251",
                  "2953.623232835924",
                  "1",
                  "0",
                  "0",
                  "0",
                  "0",
                  "1",
                  "0",
                  "1",
                  "0"
                ],
                [
                  "9",
                  "9",
                  "42",
                  "36",
                  "28.84",
                  "4251.695027997625",
                  "1698.6230157089494",
                  "0",
                  "0",
                  "1",
                  "0",
                  "0",
                  "0",
                  "1",
                  "1",
                  "0"
                ],
                [
                  "10",
                  "10",
                  "71",
                  "14",
                  "11.3",
                  "4421.674646963044",
                  "3204.629715254686",
                  "0",
                  "0",
                  "1",
                  "0",
                  "1",
                  "0",
                  "0",
                  "1",
                  "0"
                ],
                [
                  "11",
                  "11",
                  "4",
                  "44",
                  "25.38",
                  "5241.551622536441",
                  "3161.224353849788",
                  "1",
                  "0",
                  "0",
                  "0",
                  "1",
                  "0",
                  "0",
                  "1",
                  "0"
                ],
                [
                  "12",
                  "12",
                  "97",
                  "34",
                  "17.35",
                  "3939.902369050968",
                  "1318.4573325638232",
                  "0",
                  "0",
                  "1",
                  "0",
                  "0",
                  "0",
                  "1",
                  "1",
                  "0"
                ],
                [
                  "13",
                  "13",
                  "11",
                  "8",
                  "17.8",
                  "3018.514111820281",
                  "2257.4687374614573",
                  "1",
                  "0",
                  "0",
                  "0",
                  "0",
                  "0",
                  "1",
                  "1",
                  "0"
                ],
                [
                  "14",
                  "14",
                  "97",
                  "19",
                  "22.45",
                  "5139.600804341063",
                  "4521.342946852283",
                  "0",
                  "0",
                  "1",
                  "0",
                  "0",
                  "0",
                  "1",
                  "1",
                  "0"
                ],
                [
                  "15",
                  "15",
                  "54",
                  "47",
                  "13.56",
                  "3732.892463311391",
                  "328.9247025144326",
                  "0",
                  "0",
                  "1",
                  "0",
                  "1",
                  "0",
                  "0",
                  "1",
                  "0"
                ],
                [
                  "16",
                  "16",
                  "34",
                  "44",
                  "24.62",
                  "3084.119209456984",
                  "1032.146618973958",
                  "0",
                  "0",
                  "0",
                  "1",
                  "1",
                  "0",
                  "0",
                  "0",
                  "1"
                ],
                [
                  "17",
                  "17",
                  "97",
                  "20",
                  "23.99",
                  "5645.373188689272",
                  "1585.9535349438916",
                  "0",
                  "0",
                  "1",
                  "0",
                  "0",
                  "1",
                  "0",
                  "1",
                  "0"
                ],
                [
                  "18",
                  "18",
                  "32",
                  "23",
                  "27.87",
                  "3269.9946541254144",
                  "189.31276595903952",
                  "0",
                  "0",
                  "0",
                  "1",
                  "0",
                  "1",
                  "0",
                  "0",
                  "1"
                ],
                [
                  "19",
                  "19",
                  "19",
                  "48",
                  "22.67",
                  "2624.408676615056",
                  "792.0173839788314",
                  "0",
                  "1",
                  "0",
                  "0",
                  "0",
                  "0",
                  "1",
                  "0",
                  "1"
                ],
                [
                  "20",
                  "20",
                  "24",
                  "43",
                  "10.38",
                  "4743.410005313596",
                  "1609.426778569307",
                  "0",
                  "0",
                  "0",
                  "1",
                  "1",
                  "0",
                  "0",
                  "1",
                  "0"
                ],
                [
                  "21",
                  "21",
                  "83",
                  "40",
                  "32.92",
                  "4473.448315129838",
                  "1510.1281788149086",
                  "0",
                  "0",
                  "0",
                  "1",
                  "0",
                  "1",
                  "0",
                  "1",
                  "0"
                ],
                [
                  "22",
                  "22",
                  "32",
                  "22",
                  "17.87",
                  "4273.332607960128",
                  "2925.08390831223",
                  "0",
                  "0",
                  "0",
                  "1",
                  "0",
                  "1",
                  "0",
                  "0",
                  "1"
                ],
                [
                  "23",
                  "23",
                  "55",
                  "16",
                  "26.95",
                  "4388.919738870714",
                  "3599.762814999162",
                  "1",
                  "0",
                  "0",
                  "0",
                  "1",
                  "0",
                  "0",
                  "1",
                  "0"
                ],
                [
                  "24",
                  "24",
                  "39",
                  "27",
                  "18.67",
                  "4020.923100632117",
                  "4085.349150694096",
                  "0",
                  "0",
                  "0",
                  "1",
                  "0",
                  "0",
                  "1",
                  "0",
                  "1"
                ],
                [
                  "25",
                  "25",
                  "22",
                  "7",
                  "31.95",
                  "4874.344262447822",
                  "3630.790585430447",
                  "0",
                  "1",
                  "0",
                  "0",
                  "0",
                  "1",
                  "0",
                  "0",
                  "1"
                ],
                [
                  "26",
                  "26",
                  "8",
                  "5",
                  "23.67",
                  "3814.688921506905",
                  "2249.929402823166",
                  "0",
                  "1",
                  "0",
                  "0",
                  "0",
                  "0",
                  "1",
                  "1",
                  "0"
                ],
                [
                  "27",
                  "27",
                  "63",
                  "12",
                  "29.54",
                  "5390.764495520406",
                  "5460.365994544686",
                  "0",
                  "1",
                  "0",
                  "0",
                  "0",
                  "1",
                  "0",
                  "1",
                  "0"
                ],
                [
                  "28",
                  "28",
                  "35",
                  "14",
                  "15.39",
                  "3450.095577684369",
                  "2526.771335787401",
                  "0",
                  "1",
                  "0",
                  "0",
                  "0",
                  "0",
                  "1",
                  "0",
                  "1"
                ],
                [
                  "29",
                  "29",
                  "12",
                  "30",
                  "32.89",
                  "2656.614575480612",
                  "1292.5740485026972",
                  "0",
                  "0",
                  "1",
                  "0",
                  "0",
                  "0",
                  "1",
                  "1",
                  "0"
                ],
                [
                  "30",
                  "30",
                  "75",
                  "41",
                  "12.97",
                  "4707.529174400159",
                  "712.7814859525151",
                  "1",
                  "0",
                  "0",
                  "0",
                  "1",
                  "0",
                  "0",
                  "0",
                  "1"
                ],
                [
                  "31",
                  "31",
                  "22",
                  "36",
                  "15.41",
                  "4229.268118157038",
                  "4619.068811716129",
                  "0",
                  "0",
                  "0",
                  "1",
                  "0",
                  "0",
                  "1",
                  "0",
                  "1"
                ],
                [
                  "32",
                  "32",
                  "24",
                  "34",
                  "24.93",
                  "3931.0819092584497",
                  "1373.0001767394788",
                  "0",
                  "0",
                  "1",
                  "0",
                  "1",
                  "0",
                  "0",
                  "0",
                  "1"
                ],
                [
                  "33",
                  "33",
                  "2",
                  "13",
                  "11.36",
                  "3538.7665596925945",
                  "3120.1685421052803",
                  "0",
                  "0",
                  "0",
                  "1",
                  "0",
                  "1",
                  "0",
                  "1",
                  "0"
                ],
                [
                  "34",
                  "34",
                  "5",
                  "26",
                  "20.96",
                  "2174.650993346258",
                  "649.2599703635724",
                  "0",
                  "0",
                  "1",
                  "0",
                  "0",
                  "0",
                  "1",
                  "0",
                  "1"
                ],
                [
                  "35",
                  "35",
                  "33",
                  "11",
                  "14.17",
                  "4135.075657597091",
                  "4639.173273898859",
                  "0",
                  "0",
                  "0",
                  "1",
                  "0",
                  "0",
                  "1",
                  "1",
                  "0"
                ],
                [
                  "36",
                  "36",
                  "25",
                  "26",
                  "21.34",
                  "2012.7665221659745",
                  "928.6410315391328",
                  "0",
                  "0",
                  "1",
                  "0",
                  "0",
                  "0",
                  "1",
                  "1",
                  "0"
                ],
                [
                  "37",
                  "37",
                  "77",
                  "20",
                  "22.84",
                  "5238.42916466515",
                  "2151.768581599318",
                  "0",
                  "1",
                  "0",
                  "0",
                  "0",
                  "1",
                  "0",
                  "0",
                  "1"
                ],
                [
                  "38",
                  "38",
                  "31",
                  "13",
                  "15.09",
                  "1977.064115245088",
                  "354.4209295063308",
                  "0",
                  "0",
                  "0",
                  "1",
                  "0",
                  "0",
                  "1",
                  "1",
                  "0"
                ],
                [
                  "39",
                  "39",
                  "64",
                  "43",
                  "24.21",
                  "4483.022825863213",
                  "3227.1634633284225",
                  "0",
                  "0",
                  "1",
                  "0",
                  "0",
                  "0",
                  "1",
                  "1",
                  "0"
                ],
                [
                  "40",
                  "40",
                  "89",
                  "31",
                  "32.76",
                  "4255.622624939187",
                  "774.6227820686772",
                  "0",
                  "0",
                  "0",
                  "1",
                  "0",
                  "1",
                  "0",
                  "0",
                  "1"
                ],
                [
                  "41",
                  "41",
                  "58",
                  "35",
                  "10.34",
                  "3835.431467512958",
                  "1382.938467936986",
                  "0",
                  "0",
                  "0",
                  "1",
                  "1",
                  "0",
                  "0",
                  "0",
                  "1"
                ],
                [
                  "42",
                  "42",
                  "85",
                  "21",
                  "29.36",
                  "3894.105721042859",
                  "1643.5743274311724",
                  "1",
                  "0",
                  "0",
                  "0",
                  "0",
                  "0",
                  "1",
                  "1",
                  "0"
                ],
                [
                  "43",
                  "43",
                  "20",
                  "30",
                  "31.23",
                  "3566.2540530235",
                  "4332.187224043392",
                  "0",
                  "0",
                  "0",
                  "1",
                  "0",
                  "0",
                  "1",
                  "1",
                  "0"
                ],
                [
                  "44",
                  "44",
                  "85",
                  "45",
                  "12.92",
                  "6085.887695433673",
                  "3423.999978675564",
                  "0",
                  "1",
                  "0",
                  "0",
                  "0",
                  "1",
                  "0",
                  "1",
                  "0"
                ],
                [
                  "45",
                  "45",
                  "73",
                  "26",
                  "14.95",
                  "4068.547549486232",
                  "1556.2272782434266",
                  "0",
                  "1",
                  "0",
                  "0",
                  "0",
                  "1",
                  "0",
                  "0",
                  "1"
                ],
                [
                  "46",
                  "46",
                  "99",
                  "18",
                  "33.43",
                  "5149.604155421171",
                  "3365.3565575564744",
                  "0",
                  "0",
                  "0",
                  "1",
                  "0",
                  "1",
                  "0",
                  "1",
                  "0"
                ],
                [
                  "47",
                  "47",
                  "35",
                  "16",
                  "21.39",
                  "2591.3532839419727",
                  "2580.884078873825",
                  "0",
                  "1",
                  "0",
                  "0",
                  "0",
                  "0",
                  "1",
                  "1",
                  "0"
                ],
                [
                  "48",
                  "48",
                  "26",
                  "48",
                  "28.64",
                  "6756.897913272274",
                  "2989.997296384224",
                  "0",
                  "1",
                  "0",
                  "0",
                  "0",
                  "1",
                  "0",
                  "1",
                  "0"
                ],
                [
                  "49",
                  "49",
                  "63",
                  "13",
                  "18.75",
                  "3447.218102968356",
                  "3215.0411173064267",
                  "0",
                  "0",
                  "0",
                  "1",
                  "0",
                  "0",
                  "1",
                  "1",
                  "0"
                ]
              ],
              "shape": {
                "columns": 15,
                "rows": 1000
              }
            },
            "text/html": [
              "<div>\n",
              "<style scoped>\n",
              "    .dataframe tbody tr th:only-of-type {\n",
              "        vertical-align: middle;\n",
              "    }\n",
              "\n",
              "    .dataframe tbody tr th {\n",
              "        vertical-align: top;\n",
              "    }\n",
              "\n",
              "    .dataframe thead th {\n",
              "        text-align: right;\n",
              "    }\n",
              "</style>\n",
              "<table border=\"1\" class=\"dataframe\">\n",
              "  <thead>\n",
              "    <tr style=\"text-align: right;\">\n",
              "      <th></th>\n",
              "      <th>id_edificio</th>\n",
              "      <th>numero_ocupantes</th>\n",
              "      <th>electrodomesticos</th>\n",
              "      <th>temperatura_media</th>\n",
              "      <th>consumo_energia</th>\n",
              "      <th>metros_cuadrados</th>\n",
              "      <th>barrio_Centro</th>\n",
              "      <th>barrio_Norte</th>\n",
              "      <th>barrio_Oeste</th>\n",
              "      <th>barrio_Sur</th>\n",
              "      <th>tipo_edificio_Comercial</th>\n",
              "      <th>tipo_edificio_Industrial</th>\n",
              "      <th>tipo_edificio_Residencial</th>\n",
              "      <th>dia_semana_fin_de_semana</th>\n",
              "      <th>dia_semana_habil</th>\n",
              "    </tr>\n",
              "  </thead>\n",
              "  <tbody>\n",
              "    <tr>\n",
              "      <th>0</th>\n",
              "      <td>0</td>\n",
              "      <td>76</td>\n",
              "      <td>10</td>\n",
              "      <td>29.84</td>\n",
              "      <td>3264.235229</td>\n",
              "      <td>800.581029</td>\n",
              "      <td>0</td>\n",
              "      <td>1</td>\n",
              "      <td>0</td>\n",
              "      <td>0</td>\n",
              "      <td>0</td>\n",
              "      <td>0</td>\n",
              "      <td>1</td>\n",
              "      <td>0</td>\n",
              "      <td>1</td>\n",
              "    </tr>\n",
              "    <tr>\n",
              "      <th>1</th>\n",
              "      <td>1</td>\n",
              "      <td>66</td>\n",
              "      <td>45</td>\n",
              "      <td>16.72</td>\n",
              "      <td>6486.624735</td>\n",
              "      <td>4076.513979</td>\n",
              "      <td>0</td>\n",
              "      <td>1</td>\n",
              "      <td>0</td>\n",
              "      <td>0</td>\n",
              "      <td>1</td>\n",
              "      <td>0</td>\n",
              "      <td>0</td>\n",
              "      <td>1</td>\n",
              "      <td>0</td>\n",
              "    </tr>\n",
              "    <tr>\n",
              "      <th>2</th>\n",
              "      <td>2</td>\n",
              "      <td>37</td>\n",
              "      <td>17</td>\n",
              "      <td>14.30</td>\n",
              "      <td>4276.656672</td>\n",
              "      <td>2706.630060</td>\n",
              "      <td>0</td>\n",
              "      <td>1</td>\n",
              "      <td>0</td>\n",
              "      <td>0</td>\n",
              "      <td>0</td>\n",
              "      <td>1</td>\n",
              "      <td>0</td>\n",
              "      <td>0</td>\n",
              "      <td>1</td>\n",
              "    </tr>\n",
              "    <tr>\n",
              "      <th>3</th>\n",
              "      <td>3</td>\n",
              "      <td>14</td>\n",
              "      <td>41</td>\n",
              "      <td>32.82</td>\n",
              "      <td>3209.388291</td>\n",
              "      <td>805.112632</td>\n",
              "      <td>1</td>\n",
              "      <td>0</td>\n",
              "      <td>0</td>\n",
              "      <td>0</td>\n",
              "      <td>0</td>\n",
              "      <td>0</td>\n",
              "      <td>1</td>\n",
              "      <td>0</td>\n",
              "      <td>1</td>\n",
              "    </tr>\n",
              "    <tr>\n",
              "      <th>4</th>\n",
              "      <td>4</td>\n",
              "      <td>26</td>\n",
              "      <td>18</td>\n",
              "      <td>11.92</td>\n",
              "      <td>3266.871261</td>\n",
              "      <td>1175.467038</td>\n",
              "      <td>0</td>\n",
              "      <td>0</td>\n",
              "      <td>1</td>\n",
              "      <td>0</td>\n",
              "      <td>1</td>\n",
              "      <td>0</td>\n",
              "      <td>0</td>\n",
              "      <td>0</td>\n",
              "      <td>1</td>\n",
              "    </tr>\n",
              "    <tr>\n",
              "      <th>...</th>\n",
              "      <td>...</td>\n",
              "      <td>...</td>\n",
              "      <td>...</td>\n",
              "      <td>...</td>\n",
              "      <td>...</td>\n",
              "      <td>...</td>\n",
              "      <td>...</td>\n",
              "      <td>...</td>\n",
              "      <td>...</td>\n",
              "      <td>...</td>\n",
              "      <td>...</td>\n",
              "      <td>...</td>\n",
              "      <td>...</td>\n",
              "      <td>...</td>\n",
              "      <td>...</td>\n",
              "    </tr>\n",
              "    <tr>\n",
              "      <th>995</th>\n",
              "      <td>995</td>\n",
              "      <td>68</td>\n",
              "      <td>44</td>\n",
              "      <td>23.95</td>\n",
              "      <td>3318.267025</td>\n",
              "      <td>1499.865640</td>\n",
              "      <td>0</td>\n",
              "      <td>1</td>\n",
              "      <td>0</td>\n",
              "      <td>0</td>\n",
              "      <td>0</td>\n",
              "      <td>0</td>\n",
              "      <td>1</td>\n",
              "      <td>0</td>\n",
              "      <td>1</td>\n",
              "    </tr>\n",
              "    <tr>\n",
              "      <th>996</th>\n",
              "      <td>996</td>\n",
              "      <td>7</td>\n",
              "      <td>22</td>\n",
              "      <td>14.67</td>\n",
              "      <td>2558.830350</td>\n",
              "      <td>752.823635</td>\n",
              "      <td>0</td>\n",
              "      <td>0</td>\n",
              "      <td>0</td>\n",
              "      <td>1</td>\n",
              "      <td>0</td>\n",
              "      <td>1</td>\n",
              "      <td>0</td>\n",
              "      <td>1</td>\n",
              "      <td>0</td>\n",
              "    </tr>\n",
              "    <tr>\n",
              "      <th>997</th>\n",
              "      <td>997</td>\n",
              "      <td>88</td>\n",
              "      <td>20</td>\n",
              "      <td>32.18</td>\n",
              "      <td>5167.923798</td>\n",
              "      <td>3932.952963</td>\n",
              "      <td>0</td>\n",
              "      <td>1</td>\n",
              "      <td>0</td>\n",
              "      <td>0</td>\n",
              "      <td>1</td>\n",
              "      <td>0</td>\n",
              "      <td>0</td>\n",
              "      <td>0</td>\n",
              "      <td>1</td>\n",
              "    </tr>\n",
              "    <tr>\n",
              "      <th>998</th>\n",
              "      <td>998</td>\n",
              "      <td>67</td>\n",
              "      <td>37</td>\n",
              "      <td>16.48</td>\n",
              "      <td>2460.767051</td>\n",
              "      <td>551.695329</td>\n",
              "      <td>0</td>\n",
              "      <td>0</td>\n",
              "      <td>1</td>\n",
              "      <td>0</td>\n",
              "      <td>0</td>\n",
              "      <td>0</td>\n",
              "      <td>1</td>\n",
              "      <td>1</td>\n",
              "      <td>0</td>\n",
              "    </tr>\n",
              "    <tr>\n",
              "      <th>999</th>\n",
              "      <td>999</td>\n",
              "      <td>57</td>\n",
              "      <td>11</td>\n",
              "      <td>31.40</td>\n",
              "      <td>3482.848706</td>\n",
              "      <td>1284.031040</td>\n",
              "      <td>0</td>\n",
              "      <td>1</td>\n",
              "      <td>0</td>\n",
              "      <td>0</td>\n",
              "      <td>1</td>\n",
              "      <td>0</td>\n",
              "      <td>0</td>\n",
              "      <td>0</td>\n",
              "      <td>1</td>\n",
              "    </tr>\n",
              "  </tbody>\n",
              "</table>\n",
              "<p>1000 rows × 15 columns</p>\n",
              "</div>"
            ],
            "text/plain": [
              "     id_edificio  numero_ocupantes  electrodomesticos  temperatura_media  \\\n",
              "0              0                76                 10              29.84   \n",
              "1              1                66                 45              16.72   \n",
              "2              2                37                 17              14.30   \n",
              "3              3                14                 41              32.82   \n",
              "4              4                26                 18              11.92   \n",
              "..           ...               ...                ...                ...   \n",
              "995          995                68                 44              23.95   \n",
              "996          996                 7                 22              14.67   \n",
              "997          997                88                 20              32.18   \n",
              "998          998                67                 37              16.48   \n",
              "999          999                57                 11              31.40   \n",
              "\n",
              "     consumo_energia  metros_cuadrados  barrio_Centro  barrio_Norte  \\\n",
              "0        3264.235229        800.581029              0             1   \n",
              "1        6486.624735       4076.513979              0             1   \n",
              "2        4276.656672       2706.630060              0             1   \n",
              "3        3209.388291        805.112632              1             0   \n",
              "4        3266.871261       1175.467038              0             0   \n",
              "..               ...               ...            ...           ...   \n",
              "995      3318.267025       1499.865640              0             1   \n",
              "996      2558.830350        752.823635              0             0   \n",
              "997      5167.923798       3932.952963              0             1   \n",
              "998      2460.767051        551.695329              0             0   \n",
              "999      3482.848706       1284.031040              0             1   \n",
              "\n",
              "     barrio_Oeste  barrio_Sur  tipo_edificio_Comercial  \\\n",
              "0               0           0                        0   \n",
              "1               0           0                        1   \n",
              "2               0           0                        0   \n",
              "3               0           0                        0   \n",
              "4               1           0                        1   \n",
              "..            ...         ...                      ...   \n",
              "995             0           0                        0   \n",
              "996             0           1                        0   \n",
              "997             0           0                        1   \n",
              "998             1           0                        0   \n",
              "999             0           0                        1   \n",
              "\n",
              "     tipo_edificio_Industrial  tipo_edificio_Residencial  \\\n",
              "0                           0                          1   \n",
              "1                           0                          0   \n",
              "2                           1                          0   \n",
              "3                           0                          1   \n",
              "4                           0                          0   \n",
              "..                        ...                        ...   \n",
              "995                         0                          1   \n",
              "996                         1                          0   \n",
              "997                         0                          0   \n",
              "998                         0                          1   \n",
              "999                         0                          0   \n",
              "\n",
              "     dia_semana_fin_de_semana  dia_semana_habil  \n",
              "0                           0                 1  \n",
              "1                           1                 0  \n",
              "2                           0                 1  \n",
              "3                           0                 1  \n",
              "4                           0                 1  \n",
              "..                        ...               ...  \n",
              "995                         0                 1  \n",
              "996                         1                 0  \n",
              "997                         0                 1  \n",
              "998                         1                 0  \n",
              "999                         0                 1  \n",
              "\n",
              "[1000 rows x 15 columns]"
            ]
          },
          "execution_count": 92,
          "metadata": {},
          "output_type": "execute_result"
        }
      ],
      "source": [
        "df"
      ]
    },
    {
      "cell_type": "code",
      "execution_count": 93,
      "metadata": {
        "colab": {
          "base_uri": "https://localhost:8080/"
        },
        "id": "Kw3bCE6uVvuX",
        "outputId": "e20a489b-6839-4b6f-dbd8-66d3a5565d7f"
      },
      "outputs": [
        {
          "data": {
            "text/plain": [
              "Index(['numero_ocupantes', 'electrodomesticos', 'consumo_energia',\n",
              "       'metros_cuadrados'],\n",
              "      dtype='object')"
            ]
          },
          "execution_count": 93,
          "metadata": {},
          "output_type": "execute_result"
        }
      ],
      "source": [
        "df_std.columns"
      ]
    },
    {
      "cell_type": "code",
      "execution_count": 94,
      "metadata": {
        "colab": {
          "base_uri": "https://localhost:8080/"
        },
        "id": "A04OeAdcSsIM",
        "outputId": "361a6d0c-e79c-4541-eb5f-09551a2c7bf0"
      },
      "outputs": [
        {
          "name": "stdout",
          "output_type": "stream",
          "text": [
            "                            OLS Regression Results                            \n",
            "==============================================================================\n",
            "Dep. Variable:        consumo_energia   R-squared:                       0.531\n",
            "Model:                            OLS   Adj. R-squared:                  0.529\n",
            "Method:                 Least Squares   F-statistic:                     375.6\n",
            "Date:              jue., 03 jul. 2025   Prob (F-statistic):          3.87e-163\n",
            "Time:                        19:19:21   Log-Likelihood:                -1040.5\n",
            "No. Observations:                1000   AIC:                             2089.\n",
            "Df Residuals:                     996   BIC:                             2109.\n",
            "Df Model:                           3                                         \n",
            "Covariance Type:            nonrobust                                         \n",
            "=====================================================================================\n",
            "                        coef    std err          t      P>|t|      [0.025      0.975]\n",
            "-------------------------------------------------------------------------------------\n",
            "Intercept           -3.4e-16      0.022  -1.57e-14      1.000      -0.043       0.043\n",
            "numero_ocupantes      0.2812      0.022     12.939      0.000       0.239       0.324\n",
            "electrodomesticos     0.2819      0.022     12.984      0.000       0.239       0.325\n",
            "metros_cuadrados      0.5977      0.022     27.505      0.000       0.555       0.640\n",
            "==============================================================================\n",
            "Omnibus:                        0.988   Durbin-Watson:                   2.002\n",
            "Prob(Omnibus):                  0.610   Jarque-Bera (JB):                1.055\n",
            "Skew:                           0.071   Prob(JB):                        0.590\n",
            "Kurtosis:                       2.928   Cond. No.                         1.06\n",
            "==============================================================================\n",
            "\n",
            "Notes:\n",
            "[1] Standard Errors assume that the covariance matrix of the errors is correctly specified.\n"
          ]
        }
      ],
      "source": [
        "import statsmodels.formula.api as smf\n",
        "\n",
        "modelo1 = smf.ols(formula = 'consumo_energia ~ numero_ocupantes + electrodomesticos + metros_cuadrados',\n",
        "                  data=df_std).fit()\n",
        "print(modelo1.summary())"
      ]
    },
    {
      "cell_type": "markdown",
      "metadata": {
        "id": "1unBvOJhSnZr"
      },
      "source": [
        "### Ejercicio 2"
      ]
    },
    {
      "cell_type": "code",
      "execution_count": 95,
      "metadata": {
        "id": "x1aAwWXsRinS"
      },
      "outputs": [],
      "source": [
        "# viendo los p values, todas las variables son explicativas\n",
        "# todos están cercanos al 0% de evidencia que no sean importantes en la predicción"
      ]
    },
    {
      "cell_type": "markdown",
      "metadata": {
        "id": "nKLlc1VEWeGu"
      },
      "source": [
        "### Ejercicio 3"
      ]
    },
    {
      "cell_type": "code",
      "execution_count": 96,
      "metadata": {
        "colab": {
          "base_uri": "https://localhost:8080/"
        },
        "id": "E1oqN8tRWuiA",
        "outputId": "abb4bdca-d13d-4abb-db63-2e4b8f0ee496"
      },
      "outputs": [
        {
          "data": {
            "text/plain": [
              "Index(['numero_ocupantes', 'electrodomesticos', 'consumo_energia',\n",
              "       'metros_cuadrados'],\n",
              "      dtype='object')"
            ]
          },
          "execution_count": 96,
          "metadata": {},
          "output_type": "execute_result"
        }
      ],
      "source": [
        "df_std.columns"
      ]
    },
    {
      "cell_type": "code",
      "execution_count": 97,
      "metadata": {
        "colab": {
          "base_uri": "https://localhost:8080/",
          "height": 150
        },
        "id": "EPUtkuFRWdVx",
        "outputId": "0c8f5c4e-e83c-4545-c6b8-f42b8e42546f"
      },
      "outputs": [
        {
          "name": "stdout",
          "output_type": "stream",
          "text": [
            "   numero_ocupantes  electrodomesticos  metros_cuadrados\n",
            "0                26                 19              5000\n"
          ]
        },
        {
          "data": {
            "application/vnd.microsoft.datawrangler.viewer.v0+json": {
              "columns": [
                {
                  "name": "index",
                  "rawType": "int64",
                  "type": "integer"
                },
                {
                  "name": "0",
                  "rawType": "float64",
                  "type": "float"
                }
              ],
              "ref": "a3bf1f2c-3254-4a88-b291-3fa083f31184",
              "rows": [
                [
                  "0",
                  "3001.23892886732"
                ]
              ],
              "shape": {
                "columns": 1,
                "rows": 1
              }
            },
            "text/plain": [
              "0    3001.238929\n",
              "dtype: float64"
            ]
          },
          "execution_count": 97,
          "metadata": {},
          "output_type": "execute_result"
        }
      ],
      "source": [
        "df_prediccion = pd.DataFrame({'numero_ocupantes' : [26],\n",
        "                              'electrodomesticos': [19],\n",
        "                              'metros_cuadrados': [5000]})\n",
        "print(df_prediccion)\n",
        "modelo1.predict(df_prediccion)"
      ]
    },
    {
      "cell_type": "markdown",
      "metadata": {
        "id": "AhUBWCqYXNbf"
      },
      "source": [
        "Viendo la predicción del modelo, vemos que lo que la empresa \"AlfajoresRicos\" es casi igual. Por lo tanto no podemos suponer que sea necesario iniciar una investigación"
      ]
    },
    {
      "cell_type": "markdown",
      "metadata": {
        "id": "fVyS_HeeaKud"
      },
      "source": [
        "### Ejercicio 4"
      ]
    },
    {
      "cell_type": "code",
      "execution_count": 98,
      "metadata": {
        "id": "9sqmyyIeXIqs"
      },
      "outputs": [
        {
          "ename": "KeyError",
          "evalue": "\"None of [Index(['barrio'], dtype='object')] are in the [columns]\"",
          "output_type": "error",
          "traceback": [
            "\u001b[31m---------------------------------------------------------------------------\u001b[39m",
            "\u001b[31mKeyError\u001b[39m                                  Traceback (most recent call last)",
            "\u001b[36mCell\u001b[39m\u001b[36m \u001b[39m\u001b[32mIn[98]\u001b[39m\u001b[32m, line 2\u001b[39m\n\u001b[32m      1\u001b[39m \u001b[38;5;66;03m# como no tomamos los valores categóricos de las dummies, lo generamos ahora en un modelo2\u001b[39;00m\n\u001b[32m----> \u001b[39m\u001b[32m2\u001b[39m df = \u001b[43mpd\u001b[49m\u001b[43m.\u001b[49m\u001b[43mget_dummies\u001b[49m\u001b[43m(\u001b[49m\u001b[43mdf\u001b[49m\u001b[43m,\u001b[49m\u001b[43m \u001b[49m\u001b[43mcolumns\u001b[49m\u001b[43m=\u001b[49m\u001b[43m[\u001b[49m\u001b[33;43m\"\u001b[39;49m\u001b[33;43mbarrio\u001b[39;49m\u001b[33;43m\"\u001b[39;49m\u001b[43m]\u001b[49m\u001b[43m,\u001b[49m\u001b[43m \u001b[49m\u001b[43mdtype\u001b[49m\u001b[43m=\u001b[49m\u001b[38;5;28;43mint\u001b[39;49m\u001b[43m)\u001b[49m\n",
            "\u001b[36mFile \u001b[39m\u001b[32mc:\\Users\\Gabriel\\Documents\\proyectos\\Entornos\\Fundamentos Ciencias de Datos\\notebooks\\.venv\\Lib\\site-packages\\pandas\\core\\reshape\\encoding.py:170\u001b[39m, in \u001b[36mget_dummies\u001b[39m\u001b[34m(data, prefix, prefix_sep, dummy_na, columns, sparse, drop_first, dtype)\u001b[39m\n\u001b[32m    168\u001b[39m     \u001b[38;5;28;01mraise\u001b[39;00m \u001b[38;5;167;01mTypeError\u001b[39;00m(\u001b[33m\"\u001b[39m\u001b[33mInput must be a list-like for parameter `columns`\u001b[39m\u001b[33m\"\u001b[39m)\n\u001b[32m    169\u001b[39m \u001b[38;5;28;01melse\u001b[39;00m:\n\u001b[32m--> \u001b[39m\u001b[32m170\u001b[39m     data_to_encode = \u001b[43mdata\u001b[49m\u001b[43m[\u001b[49m\u001b[43mcolumns\u001b[49m\u001b[43m]\u001b[49m\n\u001b[32m    172\u001b[39m \u001b[38;5;66;03m# validate prefixes and separator to avoid silently dropping cols\u001b[39;00m\n\u001b[32m    173\u001b[39m \u001b[38;5;28;01mdef\u001b[39;00m\u001b[38;5;250m \u001b[39m\u001b[34mcheck_len\u001b[39m(item, name: \u001b[38;5;28mstr\u001b[39m):\n",
            "\u001b[36mFile \u001b[39m\u001b[32mc:\\Users\\Gabriel\\Documents\\proyectos\\Entornos\\Fundamentos Ciencias de Datos\\notebooks\\.venv\\Lib\\site-packages\\pandas\\core\\frame.py:4113\u001b[39m, in \u001b[36mDataFrame.__getitem__\u001b[39m\u001b[34m(self, key)\u001b[39m\n\u001b[32m   4111\u001b[39m     \u001b[38;5;28;01mif\u001b[39;00m is_iterator(key):\n\u001b[32m   4112\u001b[39m         key = \u001b[38;5;28mlist\u001b[39m(key)\n\u001b[32m-> \u001b[39m\u001b[32m4113\u001b[39m     indexer = \u001b[38;5;28;43mself\u001b[39;49m\u001b[43m.\u001b[49m\u001b[43mcolumns\u001b[49m\u001b[43m.\u001b[49m\u001b[43m_get_indexer_strict\u001b[49m\u001b[43m(\u001b[49m\u001b[43mkey\u001b[49m\u001b[43m,\u001b[49m\u001b[43m \u001b[49m\u001b[33;43m\"\u001b[39;49m\u001b[33;43mcolumns\u001b[39;49m\u001b[33;43m\"\u001b[39;49m\u001b[43m)\u001b[49m[\u001b[32m1\u001b[39m]\n\u001b[32m   4115\u001b[39m \u001b[38;5;66;03m# take() does not accept boolean indexers\u001b[39;00m\n\u001b[32m   4116\u001b[39m \u001b[38;5;28;01mif\u001b[39;00m \u001b[38;5;28mgetattr\u001b[39m(indexer, \u001b[33m\"\u001b[39m\u001b[33mdtype\u001b[39m\u001b[33m\"\u001b[39m, \u001b[38;5;28;01mNone\u001b[39;00m) == \u001b[38;5;28mbool\u001b[39m:\n",
            "\u001b[36mFile \u001b[39m\u001b[32mc:\\Users\\Gabriel\\Documents\\proyectos\\Entornos\\Fundamentos Ciencias de Datos\\notebooks\\.venv\\Lib\\site-packages\\pandas\\core\\indexes\\base.py:6212\u001b[39m, in \u001b[36mIndex._get_indexer_strict\u001b[39m\u001b[34m(self, key, axis_name)\u001b[39m\n\u001b[32m   6209\u001b[39m \u001b[38;5;28;01melse\u001b[39;00m:\n\u001b[32m   6210\u001b[39m     keyarr, indexer, new_indexer = \u001b[38;5;28mself\u001b[39m._reindex_non_unique(keyarr)\n\u001b[32m-> \u001b[39m\u001b[32m6212\u001b[39m \u001b[38;5;28;43mself\u001b[39;49m\u001b[43m.\u001b[49m\u001b[43m_raise_if_missing\u001b[49m\u001b[43m(\u001b[49m\u001b[43mkeyarr\u001b[49m\u001b[43m,\u001b[49m\u001b[43m \u001b[49m\u001b[43mindexer\u001b[49m\u001b[43m,\u001b[49m\u001b[43m \u001b[49m\u001b[43maxis_name\u001b[49m\u001b[43m)\u001b[49m\n\u001b[32m   6214\u001b[39m keyarr = \u001b[38;5;28mself\u001b[39m.take(indexer)\n\u001b[32m   6215\u001b[39m \u001b[38;5;28;01mif\u001b[39;00m \u001b[38;5;28misinstance\u001b[39m(key, Index):\n\u001b[32m   6216\u001b[39m     \u001b[38;5;66;03m# GH 42790 - Preserve name from an Index\u001b[39;00m\n",
            "\u001b[36mFile \u001b[39m\u001b[32mc:\\Users\\Gabriel\\Documents\\proyectos\\Entornos\\Fundamentos Ciencias de Datos\\notebooks\\.venv\\Lib\\site-packages\\pandas\\core\\indexes\\base.py:6261\u001b[39m, in \u001b[36mIndex._raise_if_missing\u001b[39m\u001b[34m(self, key, indexer, axis_name)\u001b[39m\n\u001b[32m   6259\u001b[39m \u001b[38;5;28;01mif\u001b[39;00m nmissing:\n\u001b[32m   6260\u001b[39m     \u001b[38;5;28;01mif\u001b[39;00m nmissing == \u001b[38;5;28mlen\u001b[39m(indexer):\n\u001b[32m-> \u001b[39m\u001b[32m6261\u001b[39m         \u001b[38;5;28;01mraise\u001b[39;00m \u001b[38;5;167;01mKeyError\u001b[39;00m(\u001b[33mf\u001b[39m\u001b[33m\"\u001b[39m\u001b[33mNone of [\u001b[39m\u001b[38;5;132;01m{\u001b[39;00mkey\u001b[38;5;132;01m}\u001b[39;00m\u001b[33m] are in the [\u001b[39m\u001b[38;5;132;01m{\u001b[39;00maxis_name\u001b[38;5;132;01m}\u001b[39;00m\u001b[33m]\u001b[39m\u001b[33m\"\u001b[39m)\n\u001b[32m   6263\u001b[39m     not_found = \u001b[38;5;28mlist\u001b[39m(ensure_index(key)[missing_mask.nonzero()[\u001b[32m0\u001b[39m]].unique())\n\u001b[32m   6264\u001b[39m     \u001b[38;5;28;01mraise\u001b[39;00m \u001b[38;5;167;01mKeyError\u001b[39;00m(\u001b[33mf\u001b[39m\u001b[33m\"\u001b[39m\u001b[38;5;132;01m{\u001b[39;00mnot_found\u001b[38;5;132;01m}\u001b[39;00m\u001b[33m not in index\u001b[39m\u001b[33m\"\u001b[39m)\n",
            "\u001b[31mKeyError\u001b[39m: \"None of [Index(['barrio'], dtype='object')] are in the [columns]\""
          ]
        }
      ],
      "source": [
        "# como no tomamos los valores categóricos de las dummies, lo generamos ahora en un modelo2\n",
        "df = pd.get_dummies(df, columns=[\"barrio\"], dtype=int)"
      ]
    },
    {
      "cell_type": "code",
      "execution_count": null,
      "metadata": {
        "id": "3zHMt5zhX84I"
      },
      "outputs": [],
      "source": [
        "df_std['barrio_Centro'] = df['barrio_Centro']\n",
        "df_std['barrio_Norte'] = df['barrio_Norte']\n",
        "df_std['barrio_Oeste'] = df['barrio_Oeste']\n",
        "df_std['barrio_Sur'] = df['barrio_Sur']"
      ]
    },
    {
      "cell_type": "code",
      "execution_count": null,
      "metadata": {
        "colab": {
          "base_uri": "https://localhost:8080/"
        },
        "id": "L4dDfV4TX2sp",
        "outputId": "258f0523-0b54-4583-b035-37ccb6e13c68"
      },
      "outputs": [
        {
          "name": "stdout",
          "output_type": "stream",
          "text": [
            "                            OLS Regression Results                            \n",
            "==============================================================================\n",
            "Dep. Variable:        consumo_energia   R-squared:                       0.605\n",
            "Model:                            OLS   Adj. R-squared:                  0.602\n",
            "Method:                 Least Squares   F-statistic:                     253.3\n",
            "Date:                Thu, 03 Jul 2025   Prob (F-statistic):          3.03e-196\n",
            "Time:                        19:11:37   Log-Likelihood:                -954.77\n",
            "No. Observations:                1000   AIC:                             1924.\n",
            "Df Residuals:                     993   BIC:                             1958.\n",
            "Df Model:                           6                                         \n",
            "Covariance Type:            nonrobust                                         \n",
            "=====================================================================================\n",
            "                        coef    std err          t      P>|t|      [0.025      0.975]\n",
            "-------------------------------------------------------------------------------------\n",
            "Intercept            -0.1507      0.040     -3.791      0.000      -0.229      -0.073\n",
            "numero_ocupantes      0.2764      0.020     13.810      0.000       0.237       0.316\n",
            "electrodomesticos     0.2888      0.020     14.461      0.000       0.250       0.328\n",
            "metros_cuadrados      0.5984      0.020     29.928      0.000       0.559       0.638\n",
            "barrio_Centro         0.5710      0.057     10.055      0.000       0.460       0.682\n",
            "barrio_Norte          0.2193      0.057      3.854      0.000       0.108       0.331\n",
            "barrio_Sur           -0.1535      0.056     -2.761      0.006      -0.263      -0.044\n",
            "==============================================================================\n",
            "Omnibus:                        2.437   Durbin-Watson:                   2.038\n",
            "Prob(Omnibus):                  0.296   Jarque-Bera (JB):                2.199\n",
            "Skew:                          -0.030   Prob(JB):                        0.333\n",
            "Kurtosis:                       2.778   Cond. No.                         4.78\n",
            "==============================================================================\n",
            "\n",
            "Notes:\n",
            "[1] Standard Errors assume that the covariance matrix of the errors is correctly specified.\n"
          ]
        }
      ],
      "source": [
        "modelo2 = smf.ols(formula = 'consumo_energia ~ numero_ocupantes + electrodomesticos + metros_cuadrados + barrio_Centro\t+ barrio_Norte + barrio_Sur',\n",
        "                  data=df_std).fit()\n",
        "print(modelo2.summary())"
      ]
    },
    {
      "cell_type": "code",
      "execution_count": null,
      "metadata": {
        "colab": {
          "base_uri": "https://localhost:8080/"
        },
        "id": "O5BSeJxEZZia",
        "outputId": "504425bd-2c30-446b-d06d-689e3b0fe8d4"
      },
      "outputs": [
        {
          "data": {
            "text/plain": [
              "-0.7245"
            ]
          },
          "execution_count": 44,
          "metadata": {},
          "output_type": "execute_result"
        }
      ],
      "source": [
        "round(-0.1535 - 0.5710, 4)"
      ]
    },
    {
      "cell_type": "markdown",
      "metadata": {
        "id": "SAXwEsMtY46c"
      },
      "source": [
        "Según el modelo número 2 que se hizo, podemos decir que si un edificio está en el centro y otro en zona sur, el del centro tendrá un consumo mayor, de un 0,5710 KWh y si es de zona sur tendrá un consumo menor, -0.1535 KWh. Existiendo una diferencia entre ambos de -0.7245 KWh\n"
      ]
    }
  ],
  "metadata": {
    "colab": {
      "provenance": []
    },
    "kernelspec": {
      "display_name": "venv_fcd",
      "language": "python",
      "name": "venv_fcd"
    },
    "language_info": {
      "codemirror_mode": {
        "name": "ipython",
        "version": 3
      },
      "file_extension": ".py",
      "mimetype": "text/x-python",
      "name": "python",
      "nbconvert_exporter": "python",
      "pygments_lexer": "ipython3",
      "version": "3.12.8"
    }
  },
  "nbformat": 4,
  "nbformat_minor": 0
}
