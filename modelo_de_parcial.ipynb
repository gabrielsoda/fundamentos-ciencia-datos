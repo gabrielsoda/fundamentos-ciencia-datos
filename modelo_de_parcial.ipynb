{
 "cells": [
  {
   "cell_type": "markdown",
   "id": "b6d20370",
   "metadata": {},
   "source": [
    "`nacimientos.csv`: contiene la siguiente información registrada en un efector de\n",
    "salud sobre un total de **345 madres que dieron a luz en el último año**: \n",
    "- peso del recién nacido (kg), \n",
    "- semanas de gestación, \n",
    "- número de partos previos atravesados y \n",
    "- edad de la madre al momento del nacimiento. \n",
    "\n",
    "`datos_madres.xlsx` :\n",
    "Luego del parto se registró de las madres, \n",
    "- peso (kg) \n",
    "- altura (m) \n",
    "- número de cigarrillos consumidos a diario,\n"
   ]
  },
  {
   "cell_type": "markdown",
   "id": "e9dbc03f",
   "metadata": {},
   "source": [
    "## Análisis de Datos de Nacimientos\n",
    "\n",
    "\n",
    "**PARTE I**\n",
    "\n",
    "**Ejercicio 1: Importación y Limpieza de Datos**\n",
    "\n",
    "*   (Aquí irían las instrucciones específicas para importar los datasets en el entorno de trabajo utilizado (e.g., R, Python con Pandas). Se detallarían los pasos para leer los archivos.)\n",
    "*   (Se describirían las tareas de limpieza realizadas: manejo de valores faltantes, corrección de errores, transformación de tipos de datos, etc.)"
   ]
  },
  {
   "cell_type": "code",
   "execution_count": 1,
   "id": "9070dd73",
   "metadata": {},
   "outputs": [
    {
     "data": {
      "application/vnd.microsoft.datawrangler.viewer.v0+json": {
       "columns": [
        {
         "name": "index",
         "rawType": "int64",
         "type": "integer"
        },
        {
         "name": "id_madre",
         "rawType": "int64",
         "type": "integer"
        },
        {
         "name": "peso_kg_bebe",
         "rawType": "float64",
         "type": "float"
        },
        {
         "name": "semanas_gest",
         "rawType": "float64",
         "type": "float"
        },
        {
         "name": "edad_anios",
         "rawType": "int64",
         "type": "integer"
        },
        {
         "name": "hijos_previos",
         "rawType": "int64",
         "type": "integer"
        }
       ],
       "ref": "63744bb2-9092-4ec2-8226-cfda2d4fa670",
       "rows": [
        [
         "0",
         "1",
         "3057.4",
         "38.8",
         "21",
         "1"
        ],
        [
         "1",
         "2",
         "2716.6",
         "38.1",
         "26",
         "0"
        ],
        [
         "2",
         "3",
         "3230.8",
         "39.1",
         "18",
         "1"
        ],
        [
         "3",
         "4",
         "3473.3",
         "41.8",
         "28",
         "2"
        ],
        [
         "4",
         "5",
         "2951.5",
         "38.0",
         "29",
         "3"
        ]
       ],
       "shape": {
        "columns": 5,
        "rows": 5
       }
      },
      "text/html": [
       "<div>\n",
       "<style scoped>\n",
       "    .dataframe tbody tr th:only-of-type {\n",
       "        vertical-align: middle;\n",
       "    }\n",
       "\n",
       "    .dataframe tbody tr th {\n",
       "        vertical-align: top;\n",
       "    }\n",
       "\n",
       "    .dataframe thead th {\n",
       "        text-align: right;\n",
       "    }\n",
       "</style>\n",
       "<table border=\"1\" class=\"dataframe\">\n",
       "  <thead>\n",
       "    <tr style=\"text-align: right;\">\n",
       "      <th></th>\n",
       "      <th>id_madre</th>\n",
       "      <th>peso_kg_bebe</th>\n",
       "      <th>semanas_gest</th>\n",
       "      <th>edad_anios</th>\n",
       "      <th>hijos_previos</th>\n",
       "    </tr>\n",
       "  </thead>\n",
       "  <tbody>\n",
       "    <tr>\n",
       "      <th>0</th>\n",
       "      <td>1</td>\n",
       "      <td>3057.4</td>\n",
       "      <td>38.8</td>\n",
       "      <td>21</td>\n",
       "      <td>1</td>\n",
       "    </tr>\n",
       "    <tr>\n",
       "      <th>1</th>\n",
       "      <td>2</td>\n",
       "      <td>2716.6</td>\n",
       "      <td>38.1</td>\n",
       "      <td>26</td>\n",
       "      <td>0</td>\n",
       "    </tr>\n",
       "    <tr>\n",
       "      <th>2</th>\n",
       "      <td>3</td>\n",
       "      <td>3230.8</td>\n",
       "      <td>39.1</td>\n",
       "      <td>18</td>\n",
       "      <td>1</td>\n",
       "    </tr>\n",
       "    <tr>\n",
       "      <th>3</th>\n",
       "      <td>4</td>\n",
       "      <td>3473.3</td>\n",
       "      <td>41.8</td>\n",
       "      <td>28</td>\n",
       "      <td>2</td>\n",
       "    </tr>\n",
       "    <tr>\n",
       "      <th>4</th>\n",
       "      <td>5</td>\n",
       "      <td>2951.5</td>\n",
       "      <td>38.0</td>\n",
       "      <td>29</td>\n",
       "      <td>3</td>\n",
       "    </tr>\n",
       "  </tbody>\n",
       "</table>\n",
       "</div>"
      ],
      "text/plain": [
       "   id_madre  peso_kg_bebe  semanas_gest  edad_anios  hijos_previos\n",
       "0         1        3057.4          38.8          21              1\n",
       "1         2        2716.6          38.1          26              0\n",
       "2         3        3230.8          39.1          18              1\n",
       "3         4        3473.3          41.8          28              2\n",
       "4         5        2951.5          38.0          29              3"
      ]
     },
     "execution_count": 1,
     "metadata": {},
     "output_type": "execute_result"
    }
   ],
   "source": [
    "import pandas as pd\n",
    "import numpy as np\n",
    "import seaborn as sns\n",
    "import matplotlib.pyplot as plt\n",
    "nacimientos = pd.read_csv(\"datasets/nacimientos.csv\", sep=';', header=3)\n",
    "nacimientos.head(5)"
   ]
  },
  {
   "cell_type": "code",
   "execution_count": 2,
   "id": "3f1f7da5",
   "metadata": {},
   "outputs": [
    {
     "data": {
      "application/vnd.microsoft.datawrangler.viewer.v0+json": {
       "columns": [
        {
         "name": "index",
         "rawType": "int64",
         "type": "integer"
        },
        {
         "name": "ID",
         "rawType": "int64",
         "type": "integer"
        },
        {
         "name": "ALTURA_M_MUJER",
         "rawType": "object",
         "type": "string"
        },
        {
         "name": "PESO_KG_MUJER",
         "rawType": "float64",
         "type": "float"
        },
        {
         "name": "NUM_CIGARRILLOS_DIA",
         "rawType": "int64",
         "type": "integer"
        }
       ],
       "ref": "1f7b15da-30b6-447d-be4a-a37421ad0253",
       "rows": [
        [
         "0",
         "1",
         "1,6",
         "45.4",
         "0"
        ],
        [
         "1",
         "2",
         "1,6",
         "61.2",
         "9"
        ],
        [
         "2",
         "3",
         "1,6",
         "52.2",
         "2"
        ],
        [
         "3",
         "4",
         "1,8",
         "86.2",
         "0"
        ],
        [
         "4",
         "5",
         "1,7",
         "56.7",
         "4"
        ]
       ],
       "shape": {
        "columns": 4,
        "rows": 5
       }
      },
      "text/html": [
       "<div>\n",
       "<style scoped>\n",
       "    .dataframe tbody tr th:only-of-type {\n",
       "        vertical-align: middle;\n",
       "    }\n",
       "\n",
       "    .dataframe tbody tr th {\n",
       "        vertical-align: top;\n",
       "    }\n",
       "\n",
       "    .dataframe thead th {\n",
       "        text-align: right;\n",
       "    }\n",
       "</style>\n",
       "<table border=\"1\" class=\"dataframe\">\n",
       "  <thead>\n",
       "    <tr style=\"text-align: right;\">\n",
       "      <th></th>\n",
       "      <th>ID</th>\n",
       "      <th>ALTURA_M_MUJER</th>\n",
       "      <th>PESO_KG_MUJER</th>\n",
       "      <th>NUM_CIGARRILLOS_DIA</th>\n",
       "    </tr>\n",
       "  </thead>\n",
       "  <tbody>\n",
       "    <tr>\n",
       "      <th>0</th>\n",
       "      <td>1</td>\n",
       "      <td>1,6</td>\n",
       "      <td>45.4</td>\n",
       "      <td>0</td>\n",
       "    </tr>\n",
       "    <tr>\n",
       "      <th>1</th>\n",
       "      <td>2</td>\n",
       "      <td>1,6</td>\n",
       "      <td>61.2</td>\n",
       "      <td>9</td>\n",
       "    </tr>\n",
       "    <tr>\n",
       "      <th>2</th>\n",
       "      <td>3</td>\n",
       "      <td>1,6</td>\n",
       "      <td>52.2</td>\n",
       "      <td>2</td>\n",
       "    </tr>\n",
       "    <tr>\n",
       "      <th>3</th>\n",
       "      <td>4</td>\n",
       "      <td>1,8</td>\n",
       "      <td>86.2</td>\n",
       "      <td>0</td>\n",
       "    </tr>\n",
       "    <tr>\n",
       "      <th>4</th>\n",
       "      <td>5</td>\n",
       "      <td>1,7</td>\n",
       "      <td>56.7</td>\n",
       "      <td>4</td>\n",
       "    </tr>\n",
       "  </tbody>\n",
       "</table>\n",
       "</div>"
      ],
      "text/plain": [
       "   ID ALTURA_M_MUJER  PESO_KG_MUJER  NUM_CIGARRILLOS_DIA\n",
       "0   1            1,6           45.4                    0\n",
       "1   2            1,6           61.2                    9\n",
       "2   3            1,6           52.2                    2\n",
       "3   4            1,8           86.2                    0\n",
       "4   5            1,7           56.7                    4"
      ]
     },
     "execution_count": 2,
     "metadata": {},
     "output_type": "execute_result"
    }
   ],
   "source": [
    "# cargamos el dataset de las madres:\n",
    "madres = pd.read_excel(\"datasets/datos_madres.xlsx\")#, sep=';', header=3)\n",
    "madres.head(5)"
   ]
  },
  {
   "cell_type": "code",
   "execution_count": 3,
   "id": "2d062887",
   "metadata": {},
   "outputs": [
    {
     "data": {
      "application/vnd.microsoft.datawrangler.viewer.v0+json": {
       "columns": [
        {
         "name": "index",
         "rawType": "int64",
         "type": "integer"
        },
        {
         "name": "ID",
         "rawType": "int64",
         "type": "integer"
        },
        {
         "name": "ALTURA_M_MUJER",
         "rawType": "float64",
         "type": "float"
        },
        {
         "name": "PESO_KG_MUJER",
         "rawType": "float64",
         "type": "float"
        },
        {
         "name": "NUM_CIGARRILLOS_DIA",
         "rawType": "int64",
         "type": "integer"
        }
       ],
       "ref": "bc72f83b-d2cf-4fa6-8d79-abc715e3dcd0",
       "rows": [
        [
         "0",
         "1",
         "1.6",
         "45.4",
         "0"
        ],
        [
         "1",
         "2",
         "1.6",
         "61.2",
         "9"
        ],
        [
         "2",
         "3",
         "1.6",
         "52.2",
         "2"
        ],
        [
         "3",
         "4",
         "1.8",
         "86.2",
         "0"
        ],
        [
         "4",
         "5",
         "1.7",
         "56.7",
         "4"
        ]
       ],
       "shape": {
        "columns": 4,
        "rows": 5
       }
      },
      "text/html": [
       "<div>\n",
       "<style scoped>\n",
       "    .dataframe tbody tr th:only-of-type {\n",
       "        vertical-align: middle;\n",
       "    }\n",
       "\n",
       "    .dataframe tbody tr th {\n",
       "        vertical-align: top;\n",
       "    }\n",
       "\n",
       "    .dataframe thead th {\n",
       "        text-align: right;\n",
       "    }\n",
       "</style>\n",
       "<table border=\"1\" class=\"dataframe\">\n",
       "  <thead>\n",
       "    <tr style=\"text-align: right;\">\n",
       "      <th></th>\n",
       "      <th>ID</th>\n",
       "      <th>ALTURA_M_MUJER</th>\n",
       "      <th>PESO_KG_MUJER</th>\n",
       "      <th>NUM_CIGARRILLOS_DIA</th>\n",
       "    </tr>\n",
       "  </thead>\n",
       "  <tbody>\n",
       "    <tr>\n",
       "      <th>0</th>\n",
       "      <td>1</td>\n",
       "      <td>1.6</td>\n",
       "      <td>45.4</td>\n",
       "      <td>0</td>\n",
       "    </tr>\n",
       "    <tr>\n",
       "      <th>1</th>\n",
       "      <td>2</td>\n",
       "      <td>1.6</td>\n",
       "      <td>61.2</td>\n",
       "      <td>9</td>\n",
       "    </tr>\n",
       "    <tr>\n",
       "      <th>2</th>\n",
       "      <td>3</td>\n",
       "      <td>1.6</td>\n",
       "      <td>52.2</td>\n",
       "      <td>2</td>\n",
       "    </tr>\n",
       "    <tr>\n",
       "      <th>3</th>\n",
       "      <td>4</td>\n",
       "      <td>1.8</td>\n",
       "      <td>86.2</td>\n",
       "      <td>0</td>\n",
       "    </tr>\n",
       "    <tr>\n",
       "      <th>4</th>\n",
       "      <td>5</td>\n",
       "      <td>1.7</td>\n",
       "      <td>56.7</td>\n",
       "      <td>4</td>\n",
       "    </tr>\n",
       "  </tbody>\n",
       "</table>\n",
       "</div>"
      ],
      "text/plain": [
       "   ID  ALTURA_M_MUJER  PESO_KG_MUJER  NUM_CIGARRILLOS_DIA\n",
       "0   1             1.6           45.4                    0\n",
       "1   2             1.6           61.2                    9\n",
       "2   3             1.6           52.2                    2\n",
       "3   4             1.8           86.2                    0\n",
       "4   5             1.7           56.7                    4"
      ]
     },
     "execution_count": 3,
     "metadata": {},
     "output_type": "execute_result"
    }
   ],
   "source": [
    "# lo primero que notamos es que a variable 'ALTURA_M_MUJER' tengo que transformarla a tipo de dato numérico\n",
    "# para eso reemplazamos las comas por puntos y luego transformamos a tipo float\n",
    "madres['ALTURA_M_MUJER'] = madres['ALTURA_M_MUJER'].str.replace(',','.').astype(float)\n",
    "madres.head()"
   ]
  },
  {
   "cell_type": "markdown",
   "id": "1014a471",
   "metadata": {},
   "source": [
    "\n",
    "\n",
    "**Ejercicio 2: Distribución del IMC en Mujeres**\n",
    "\n",
    "*   Se calcula el IMC (Índice de Masa Corporal) como:  `IMC = peso (kg) / (estatura (m))^2`\n",
    "*   Se genera un histograma o gráfico de densidad del IMC para las mujeres en el dataset.\n",
    "*   **Comentario sobre la simetría:** (Basado en el gráfico, se comenta si la distribución es simétrica, asimétrica positiva (sesgada a la derecha), o asimétrica negativa (sesgada a la izquierda).)"
   ]
  },
  {
   "cell_type": "code",
   "execution_count": 4,
   "id": "cee16ddb",
   "metadata": {},
   "outputs": [
    {
     "data": {
      "application/vnd.microsoft.datawrangler.viewer.v0+json": {
       "columns": [
        {
         "name": "index",
         "rawType": "int64",
         "type": "integer"
        },
        {
         "name": "ID",
         "rawType": "int64",
         "type": "integer"
        },
        {
         "name": "ALTURA_M_MUJER",
         "rawType": "float64",
         "type": "float"
        },
        {
         "name": "PESO_KG_MUJER",
         "rawType": "float64",
         "type": "float"
        },
        {
         "name": "NUM_CIGARRILLOS_DIA",
         "rawType": "int64",
         "type": "integer"
        },
        {
         "name": "IMC",
         "rawType": "float64",
         "type": "float"
        }
       ],
       "ref": "43c97a17-14f0-4c9a-a035-0e68b6735d9d",
       "rows": [
        [
         "0",
         "1",
         "1.6",
         "45.4",
         "0",
         "17.734374999999996"
        ],
        [
         "1",
         "2",
         "1.6",
         "61.2",
         "9",
         "23.906249999999996"
        ],
        [
         "2",
         "3",
         "1.6",
         "52.2",
         "2",
         "20.390624999999996"
        ],
        [
         "3",
         "4",
         "1.8",
         "86.2",
         "0",
         "26.604938271604937"
        ],
        [
         "4",
         "5",
         "1.7",
         "56.7",
         "4",
         "19.61937716262976"
        ]
       ],
       "shape": {
        "columns": 5,
        "rows": 5
       }
      },
      "text/html": [
       "<div>\n",
       "<style scoped>\n",
       "    .dataframe tbody tr th:only-of-type {\n",
       "        vertical-align: middle;\n",
       "    }\n",
       "\n",
       "    .dataframe tbody tr th {\n",
       "        vertical-align: top;\n",
       "    }\n",
       "\n",
       "    .dataframe thead th {\n",
       "        text-align: right;\n",
       "    }\n",
       "</style>\n",
       "<table border=\"1\" class=\"dataframe\">\n",
       "  <thead>\n",
       "    <tr style=\"text-align: right;\">\n",
       "      <th></th>\n",
       "      <th>ID</th>\n",
       "      <th>ALTURA_M_MUJER</th>\n",
       "      <th>PESO_KG_MUJER</th>\n",
       "      <th>NUM_CIGARRILLOS_DIA</th>\n",
       "      <th>IMC</th>\n",
       "    </tr>\n",
       "  </thead>\n",
       "  <tbody>\n",
       "    <tr>\n",
       "      <th>0</th>\n",
       "      <td>1</td>\n",
       "      <td>1.6</td>\n",
       "      <td>45.4</td>\n",
       "      <td>0</td>\n",
       "      <td>17.734375</td>\n",
       "    </tr>\n",
       "    <tr>\n",
       "      <th>1</th>\n",
       "      <td>2</td>\n",
       "      <td>1.6</td>\n",
       "      <td>61.2</td>\n",
       "      <td>9</td>\n",
       "      <td>23.906250</td>\n",
       "    </tr>\n",
       "    <tr>\n",
       "      <th>2</th>\n",
       "      <td>3</td>\n",
       "      <td>1.6</td>\n",
       "      <td>52.2</td>\n",
       "      <td>2</td>\n",
       "      <td>20.390625</td>\n",
       "    </tr>\n",
       "    <tr>\n",
       "      <th>3</th>\n",
       "      <td>4</td>\n",
       "      <td>1.8</td>\n",
       "      <td>86.2</td>\n",
       "      <td>0</td>\n",
       "      <td>26.604938</td>\n",
       "    </tr>\n",
       "    <tr>\n",
       "      <th>4</th>\n",
       "      <td>5</td>\n",
       "      <td>1.7</td>\n",
       "      <td>56.7</td>\n",
       "      <td>4</td>\n",
       "      <td>19.619377</td>\n",
       "    </tr>\n",
       "  </tbody>\n",
       "</table>\n",
       "</div>"
      ],
      "text/plain": [
       "   ID  ALTURA_M_MUJER  PESO_KG_MUJER  NUM_CIGARRILLOS_DIA        IMC\n",
       "0   1             1.6           45.4                    0  17.734375\n",
       "1   2             1.6           61.2                    9  23.906250\n",
       "2   3             1.6           52.2                    2  20.390625\n",
       "3   4             1.8           86.2                    0  26.604938\n",
       "4   5             1.7           56.7                    4  19.619377"
      ]
     },
     "execution_count": 4,
     "metadata": {},
     "output_type": "execute_result"
    }
   ],
   "source": [
    "madres['IMC'] = madres['PESO_KG_MUJER'] / madres['ALTURA_M_MUJER']**2\n",
    "madres.head()"
   ]
  },
  {
   "cell_type": "code",
   "execution_count": 5,
   "id": "d9c4cb3d",
   "metadata": {},
   "outputs": [
    {
     "data": {
      "text/plain": [
       "Text(0, 0.5, 'Frecuencia')"
      ]
     },
     "execution_count": 5,
     "metadata": {},
     "output_type": "execute_result"
    },
    {
     "data": {
      "image/png": "[encoded data removed]",
      "text/plain": [
       "<Figure size 640x480 with 1 Axes>"
      ]
     },
     "metadata": {},
     "output_type": "display_data"
    }
   ],
   "source": [
    "sns.histplot(data=madres, x='IMC')\n",
    "plt.title(\"Distribución de la variable IMC de las madres del dataset\", weight='bold')\n",
    "plt.ylabel(\"Frecuencia\")"
   ]
  },
  {
   "cell_type": "markdown",
   "id": "a429b4d4",
   "metadata": {},
   "source": [
    "Podemos notar que el gráfico está sesgado hacia a derecha."
   ]
  },
  {
   "cell_type": "markdown",
   "id": "a07e2f02",
   "metadata": {},
   "source": [
    "\n",
    "**Ejercicio 3: Variable Fumadora (Binaria)**\n",
    "\n",
    "*   Se crea una nueva variable categórica \"fumadora\":\n",
    "    *   `Fumadora = 1` si la mujer consume 1 o más cigarrillos al día.\n",
    "    *   `Fumadora = 0` si la mujer no consume cigarrillos.\n",
    "*   Se calcula el porcentaje de mujeres fumadoras en el dataset.\n",
    "\n"
   ]
  },
  {
   "cell_type": "code",
   "execution_count": 6,
   "id": "5af28401",
   "metadata": {},
   "outputs": [
    {
     "data": {
      "application/vnd.microsoft.datawrangler.viewer.v0+json": {
       "columns": [
        {
         "name": "index",
         "rawType": "int64",
         "type": "integer"
        },
        {
         "name": "ID",
         "rawType": "int64",
         "type": "integer"
        },
        {
         "name": "ALTURA_M_MUJER",
         "rawType": "float64",
         "type": "float"
        },
        {
         "name": "PESO_KG_MUJER",
         "rawType": "float64",
         "type": "float"
        },
        {
         "name": "NUM_CIGARRILLOS_DIA",
         "rawType": "int64",
         "type": "integer"
        },
        {
         "name": "IMC",
         "rawType": "float64",
         "type": "float"
        },
        {
         "name": "fumadora",
         "rawType": "int64",
         "type": "integer"
        }
       ],
       "ref": "947e8f25-ba5d-425e-bd25-c1e502b8dba4",
       "rows": [
        [
         "0",
         "1",
         "1.6",
         "45.4",
         "0",
         "17.734374999999996",
         "0"
        ],
        [
         "1",
         "2",
         "1.6",
         "61.2",
         "9",
         "23.906249999999996",
         "1"
        ],
        [
         "2",
         "3",
         "1.6",
         "52.2",
         "2",
         "20.390624999999996",
         "1"
        ],
        [
         "3",
         "4",
         "1.8",
         "86.2",
         "0",
         "26.604938271604937",
         "0"
        ],
        [
         "4",
         "5",
         "1.7",
         "56.7",
         "4",
         "19.61937716262976",
         "1"
        ]
       ],
       "shape": {
        "columns": 6,
        "rows": 5
       }
      },
      "text/html": [
       "<div>\n",
       "<style scoped>\n",
       "    .dataframe tbody tr th:only-of-type {\n",
       "        vertical-align: middle;\n",
       "    }\n",
       "\n",
       "    .dataframe tbody tr th {\n",
       "        vertical-align: top;\n",
       "    }\n",
       "\n",
       "    .dataframe thead th {\n",
       "        text-align: right;\n",
       "    }\n",
       "</style>\n",
       "<table border=\"1\" class=\"dataframe\">\n",
       "  <thead>\n",
       "    <tr style=\"text-align: right;\">\n",
       "      <th></th>\n",
       "      <th>ID</th>\n",
       "      <th>ALTURA_M_MUJER</th>\n",
       "      <th>PESO_KG_MUJER</th>\n",
       "      <th>NUM_CIGARRILLOS_DIA</th>\n",
       "      <th>IMC</th>\n",
       "      <th>fumadora</th>\n",
       "    </tr>\n",
       "  </thead>\n",
       "  <tbody>\n",
       "    <tr>\n",
       "      <th>0</th>\n",
       "      <td>1</td>\n",
       "      <td>1.6</td>\n",
       "      <td>45.4</td>\n",
       "      <td>0</td>\n",
       "      <td>17.734375</td>\n",
       "      <td>0</td>\n",
       "    </tr>\n",
       "    <tr>\n",
       "      <th>1</th>\n",
       "      <td>2</td>\n",
       "      <td>1.6</td>\n",
       "      <td>61.2</td>\n",
       "      <td>9</td>\n",
       "      <td>23.906250</td>\n",
       "      <td>1</td>\n",
       "    </tr>\n",
       "    <tr>\n",
       "      <th>2</th>\n",
       "      <td>3</td>\n",
       "      <td>1.6</td>\n",
       "      <td>52.2</td>\n",
       "      <td>2</td>\n",
       "      <td>20.390625</td>\n",
       "      <td>1</td>\n",
       "    </tr>\n",
       "    <tr>\n",
       "      <th>3</th>\n",
       "      <td>4</td>\n",
       "      <td>1.8</td>\n",
       "      <td>86.2</td>\n",
       "      <td>0</td>\n",
       "      <td>26.604938</td>\n",
       "      <td>0</td>\n",
       "    </tr>\n",
       "    <tr>\n",
       "      <th>4</th>\n",
       "      <td>5</td>\n",
       "      <td>1.7</td>\n",
       "      <td>56.7</td>\n",
       "      <td>4</td>\n",
       "      <td>19.619377</td>\n",
       "      <td>1</td>\n",
       "    </tr>\n",
       "  </tbody>\n",
       "</table>\n",
       "</div>"
      ],
      "text/plain": [
       "   ID  ALTURA_M_MUJER  PESO_KG_MUJER  NUM_CIGARRILLOS_DIA        IMC  fumadora\n",
       "0   1             1.6           45.4                    0  17.734375         0\n",
       "1   2             1.6           61.2                    9  23.906250         1\n",
       "2   3             1.6           52.2                    2  20.390625         1\n",
       "3   4             1.8           86.2                    0  26.604938         0\n",
       "4   5             1.7           56.7                    4  19.619377         1"
      ]
     },
     "execution_count": 6,
     "metadata": {},
     "output_type": "execute_result"
    }
   ],
   "source": [
    "madres[\"fumadora\"] = madres['NUM_CIGARRILLOS_DIA'].apply(lambda x: 1 if x >= 1 else 0).copy()\n",
    "madres.head()"
   ]
  },
  {
   "cell_type": "code",
   "execution_count": 7,
   "id": "d0e58a65",
   "metadata": {},
   "outputs": [
    {
     "data": {
      "application/vnd.microsoft.datawrangler.viewer.v0+json": {
       "columns": [
        {
         "name": "fumadora",
         "rawType": "int64",
         "type": "integer"
        },
        {
         "name": "proportion",
         "rawType": "float64",
         "type": "float"
        }
       ],
       "ref": "22e8740a-9f72-45f1-b3be-778ae77416ca",
       "rows": [
        [
         "1",
         "0.5594202898550724"
        ],
        [
         "0",
         "0.4405797101449275"
        ]
       ],
       "shape": {
        "columns": 1,
        "rows": 2
       }
      },
      "text/plain": [
       "fumadora\n",
       "1    0.55942\n",
       "0    0.44058\n",
       "Name: proportion, dtype: float64"
      ]
     },
     "execution_count": 7,
     "metadata": {},
     "output_type": "execute_result"
    }
   ],
   "source": [
    "madres['fumadora'].value_counts(normalize=True)"
   ]
  },
  {
   "cell_type": "code",
   "execution_count": 8,
   "id": "8be47ee2",
   "metadata": {},
   "outputs": [
    {
     "data": {
      "text/plain": [
       "Text(0, 0.5, 'Porcentajes')"
      ]
     },
     "execution_count": 8,
     "metadata": {},
     "output_type": "execute_result"
    },
    {
     "data": {
      "image/png": "[encoded data removed]",
      "text/plain": [
       "<Figure size 640x480 with 1 Axes>"
      ]
     },
     "metadata": {},
     "output_type": "display_data"
    }
   ],
   "source": [
    "\n",
    "\n",
    "sns.countplot(data=madres, x='fumadora', stat='percent')\n",
    "plt.axhline(55.942, linestyle='--', color='darkred')\n",
    "plt.text(-0.3,56.4, \"55% fumadoras\", color='darkred')\n",
    "plt.title(\"Porcentajes de mujeres fumadoras y no fumadoras en el dataset\", weight='bold')\n",
    "plt.xlabel(\"Mujeres (1 si fuma, 0 si no fuma)\")\n",
    "plt.ylabel(\"Porcentajes\")"
   ]
  },
  {
   "cell_type": "markdown",
   "id": "5e26c1da",
   "metadata": {},
   "source": [
    "\n",
    "**Ejercicio 4: Distribución del Peso al Nacer por Condición de Fumadora**\n",
    "\n",
    "*   Se genera un gráfico (ej., boxplot, violin plot) que muestra la distribución del peso al nacer para madres fumadoras y no fumadoras.\n",
    "*   **Comentario:** (Se describe si existe una diferencia notable en el peso al nacer entre los dos grupos, y en qué dirección.)"
   ]
  },
  {
   "cell_type": "code",
   "execution_count": 9,
   "id": "39a91e33",
   "metadata": {},
   "outputs": [
    {
     "data": {
      "text/plain": [
       "<Axes: xlabel='PESO_KG_MUJER', ylabel='fumadora'>"
      ]
     },
     "execution_count": 9,
     "metadata": {},
     "output_type": "execute_result"
    },
    {
     "data": {
      "image/png": "[encoded data removed]",
      "text/plain": [
       "<Figure size 640x480 with 1 Axes>"
      ]
     },
     "metadata": {},
     "output_type": "display_data"
    }
   ],
   "source": [
    "sns.boxplot(data=madres, y='fumadora', x='PESO_KG_MUJER', orient='h')"
   ]
  },
  {
   "cell_type": "markdown",
   "id": "84bb282f",
   "metadata": {},
   "source": [
    "Podemos notar que el peso de las mujeres que no fuman es mayor que el de las que sí fuman"
   ]
  },
  {
   "cell_type": "code",
   "execution_count": 10,
   "id": "45c98962",
   "metadata": {},
   "outputs": [
    {
     "data": {
      "text/plain": [
       "<Axes: xlabel='PESO_KG_MUJER', ylabel='Density'>"
      ]
     },
     "execution_count": 10,
     "metadata": {},
     "output_type": "execute_result"
    },
    {
     "data": {
      "image/png": "[encoded data removed]",
      "text/plain": [
       "<Figure size 640x480 with 1 Axes>"
      ]
     },
     "metadata": {},
     "output_type": "display_data"
    }
   ],
   "source": [
    "sns.kdeplot(data=madres, x='PESO_KG_MUJER', hue='fumadora', fill=True)"
   ]
  },
  {
   "cell_type": "markdown",
   "id": "99845453",
   "metadata": {},
   "source": [
    "\n",
    "**Ejercicio 5: Correlación entre Variables Cuantitativas**\n",
    "\n",
    "*   Se calcula la matriz de correlación entre las variables cuantitativas del dataset.\n",
    "*   Se genera un heatmap o scatterplot matrix para visualizar las correlaciones.\n",
    "*   **Pares de variables con mayor asociación lineal:** (Se identifican y justifican los pares de variables que muestran las correlaciones más fuertes (positivas o negativas). La justificación se basa en el valor del coeficiente de correlación.)\n"
   ]
  },
  {
   "cell_type": "code",
   "execution_count": 11,
   "id": "0f4f60a2",
   "metadata": {},
   "outputs": [],
   "source": [
    "# Unimos los dataframe así vemos la correlación de todas las variabes posibles\n",
    "\n",
    "df_merged = pd.merge(\n",
    "    left=nacimientos,\n",
    "    right=madres,\n",
    "    left_on='id_madre', # Columna clave en el df izquierdo\n",
    "    right_on='ID', # Columna clave en el df derecho\n",
    "    how='inner' # Tipo de join: 'inner', 'outer', 'left', 'right'\n",
    ")"
   ]
  },
  {
   "cell_type": "code",
   "execution_count": 12,
   "id": "e2a012e9",
   "metadata": {},
   "outputs": [
    {
     "data": {
      "application/vnd.microsoft.datawrangler.viewer.v0+json": {
       "columns": [
        {
         "name": "index",
         "rawType": "int64",
         "type": "integer"
        },
        {
         "name": "id_madre",
         "rawType": "int64",
         "type": "integer"
        },
        {
         "name": "peso_kg_bebe",
         "rawType": "float64",
         "type": "float"
        },
        {
         "name": "semanas_gest",
         "rawType": "float64",
         "type": "float"
        },
        {
         "name": "edad_anios",
         "rawType": "int64",
         "type": "integer"
        },
        {
         "name": "hijos_previos",
         "rawType": "int64",
         "type": "integer"
        },
        {
         "name": "ALTURA_M_MUJER",
         "rawType": "float64",
         "type": "float"
        },
        {
         "name": "PESO_KG_MUJER",
         "rawType": "float64",
         "type": "float"
        },
        {
         "name": "NUM_CIGARRILLOS_DIA",
         "rawType": "int64",
         "type": "integer"
        },
        {
         "name": "IMC",
         "rawType": "float64",
         "type": "float"
        },
        {
         "name": "fumadora",
         "rawType": "int64",
         "type": "integer"
        }
       ],
       "ref": "ecb22522-20ac-46d5-981d-a708117b2039",
       "rows": [
        [
         "0",
         "1",
         "3057.4",
         "38.8",
         "21",
         "1",
         "1.6",
         "45.4",
         "0",
         "17.734374999999996",
         "0"
        ],
        [
         "1",
         "2",
         "2716.6",
         "38.1",
         "26",
         "0",
         "1.6",
         "61.2",
         "9",
         "23.906249999999996",
         "1"
        ],
        [
         "2",
         "3",
         "3230.8",
         "39.1",
         "18",
         "1",
         "1.6",
         "52.2",
         "2",
         "20.390624999999996",
         "1"
        ],
        [
         "3",
         "4",
         "3473.3",
         "41.8",
         "28",
         "2",
         "1.8",
         "86.2",
         "0",
         "26.604938271604937",
         "0"
        ],
        [
         "4",
         "5",
         "2951.5",
         "38.0",
         "29",
         "3",
         "1.7",
         "56.7",
         "4",
         "19.61937716262976",
         "1"
        ]
       ],
       "shape": {
        "columns": 10,
        "rows": 5
       }
      },
      "text/html": [
       "<div>\n",
       "<style scoped>\n",
       "    .dataframe tbody tr th:only-of-type {\n",
       "        vertical-align: middle;\n",
       "    }\n",
       "\n",
       "    .dataframe tbody tr th {\n",
       "        vertical-align: top;\n",
       "    }\n",
       "\n",
       "    .dataframe thead th {\n",
       "        text-align: right;\n",
       "    }\n",
       "</style>\n",
       "<table border=\"1\" class=\"dataframe\">\n",
       "  <thead>\n",
       "    <tr style=\"text-align: right;\">\n",
       "      <th></th>\n",
       "      <th>id_madre</th>\n",
       "      <th>peso_kg_bebe</th>\n",
       "      <th>semanas_gest</th>\n",
       "      <th>edad_anios</th>\n",
       "      <th>hijos_previos</th>\n",
       "      <th>ALTURA_M_MUJER</th>\n",
       "      <th>PESO_KG_MUJER</th>\n",
       "      <th>NUM_CIGARRILLOS_DIA</th>\n",
       "      <th>IMC</th>\n",
       "      <th>fumadora</th>\n",
       "    </tr>\n",
       "  </thead>\n",
       "  <tbody>\n",
       "    <tr>\n",
       "      <th>0</th>\n",
       "      <td>1</td>\n",
       "      <td>3057.4</td>\n",
       "      <td>38.8</td>\n",
       "      <td>21</td>\n",
       "      <td>1</td>\n",
       "      <td>1.6</td>\n",
       "      <td>45.4</td>\n",
       "      <td>0</td>\n",
       "      <td>17.734375</td>\n",
       "      <td>0</td>\n",
       "    </tr>\n",
       "    <tr>\n",
       "      <th>1</th>\n",
       "      <td>2</td>\n",
       "      <td>2716.6</td>\n",
       "      <td>38.1</td>\n",
       "      <td>26</td>\n",
       "      <td>0</td>\n",
       "      <td>1.6</td>\n",
       "      <td>61.2</td>\n",
       "      <td>9</td>\n",
       "      <td>23.906250</td>\n",
       "      <td>1</td>\n",
       "    </tr>\n",
       "    <tr>\n",
       "      <th>2</th>\n",
       "      <td>3</td>\n",
       "      <td>3230.8</td>\n",
       "      <td>39.1</td>\n",
       "      <td>18</td>\n",
       "      <td>1</td>\n",
       "      <td>1.6</td>\n",
       "      <td>52.2</td>\n",
       "      <td>2</td>\n",
       "      <td>20.390625</td>\n",
       "      <td>1</td>\n",
       "    </tr>\n",
       "    <tr>\n",
       "      <th>3</th>\n",
       "      <td>4</td>\n",
       "      <td>3473.3</td>\n",
       "      <td>41.8</td>\n",
       "      <td>28</td>\n",
       "      <td>2</td>\n",
       "      <td>1.8</td>\n",
       "      <td>86.2</td>\n",
       "      <td>0</td>\n",
       "      <td>26.604938</td>\n",
       "      <td>0</td>\n",
       "    </tr>\n",
       "    <tr>\n",
       "      <th>4</th>\n",
       "      <td>5</td>\n",
       "      <td>2951.5</td>\n",
       "      <td>38.0</td>\n",
       "      <td>29</td>\n",
       "      <td>3</td>\n",
       "      <td>1.7</td>\n",
       "      <td>56.7</td>\n",
       "      <td>4</td>\n",
       "      <td>19.619377</td>\n",
       "      <td>1</td>\n",
       "    </tr>\n",
       "  </tbody>\n",
       "</table>\n",
       "</div>"
      ],
      "text/plain": [
       "   id_madre  peso_kg_bebe  semanas_gest  edad_anios  hijos_previos  \\\n",
       "0         1        3057.4          38.8          21              1   \n",
       "1         2        2716.6          38.1          26              0   \n",
       "2         3        3230.8          39.1          18              1   \n",
       "3         4        3473.3          41.8          28              2   \n",
       "4         5        2951.5          38.0          29              3   \n",
       "\n",
       "   ALTURA_M_MUJER  PESO_KG_MUJER  NUM_CIGARRILLOS_DIA        IMC  fumadora  \n",
       "0             1.6           45.4                    0  17.734375         0  \n",
       "1             1.6           61.2                    9  23.906250         1  \n",
       "2             1.6           52.2                    2  20.390625         1  \n",
       "3             1.8           86.2                    0  26.604938         0  \n",
       "4             1.7           56.7                    4  19.619377         1  "
      ]
     },
     "execution_count": 12,
     "metadata": {},
     "output_type": "execute_result"
    }
   ],
   "source": [
    "df_unido_limpio = df_merged.drop('ID', axis=1)  # No modifica el original\n",
    "df_unido_limpio.head()"
   ]
  },
  {
   "cell_type": "code",
   "execution_count": 13,
   "id": "950a9008",
   "metadata": {},
   "outputs": [
    {
     "data": {
      "text/plain": [
       "Index(['id_madre', 'peso_kg_bebe', 'semanas_gest', 'edad_anios',\n",
       "       'hijos_previos', 'ALTURA_M_MUJER', 'PESO_KG_MUJER',\n",
       "       'NUM_CIGARRILLOS_DIA', 'IMC', 'fumadora'],\n",
       "      dtype='object')"
      ]
     },
     "execution_count": 13,
     "metadata": {},
     "output_type": "execute_result"
    }
   ],
   "source": [
    "df_unido_limpio.columns"
   ]
  },
  {
   "cell_type": "code",
   "execution_count": 14,
   "id": "c71acadb",
   "metadata": {},
   "outputs": [],
   "source": [
    "columnas_correlacionar = ['peso_kg_bebe', 'semanas_gest', 'edad_anios','hijos_previos', 'ALTURA_M_MUJER', 'PESO_KG_MUJER','NUM_CIGARRILLOS_DIA', 'IMC', 'fumadora']"
   ]
  },
  {
   "cell_type": "code",
   "execution_count": 15,
   "id": "c284f35a",
   "metadata": {},
   "outputs": [
    {
     "data": {
      "text/plain": [
       "<Axes: >"
      ]
     },
     "execution_count": 15,
     "metadata": {},
     "output_type": "execute_result"
    },
    {
     "data": {
      "image/png": "[encoded data removed]",
      "text/plain": [
       "<Figure size 640x480 with 2 Axes>"
      ]
     },
     "metadata": {},
     "output_type": "display_data"
    }
   ],
   "source": [
    "sns.heatmap(df_unido_limpio[columnas_correlacionar].corr(), annot=True, cmap='coolwarm')"
   ]
  },
  {
   "cell_type": "markdown",
   "id": "bab954d1",
   "metadata": {},
   "source": [
    "\n",
    "**PARTE II**\n",
    "\n",
    "**Objetivo:** Predecir el peso al nacer usando regresión lineal múltiple.\n",
    "\n",
    "**Variables Predictoras:**\n",
    "\n",
    "*   Semanas de gestación\n",
    "*   Número de partos previos\n",
    "*   Edad de la madre\n",
    "*   IMC de la madre\n",
    "*   Condición de fumadora (binaria)\n",
    "\n",
    "**a. Modelo Completo**\n",
    "\n",
    "*   Se ajusta un modelo de regresión lineal múltiple con todas las variables predictoras.\n",
    "*   (Se muestra la salida del modelo, incluyendo los coeficientes estimados, errores estándar, valores p, etc.)\n",
    "*   **Variables significativas al 1%:** (Se identifican las variables cuyo valor p es menor a 0.01.  La justificación es que, con un nivel de significancia del 1%, se rechaza la hipótesis nula de que el coeficiente de la variable es igual a cero.)\n"
   ]
  },
  {
   "cell_type": "code",
   "execution_count": 16,
   "id": "f0b58877",
   "metadata": {},
   "outputs": [
    {
     "data": {
      "text/plain": [
       "Index(['id_madre', 'peso_kg_bebe', 'semanas_gest', 'edad_anios',\n",
       "       'hijos_previos', 'ALTURA_M_MUJER', 'PESO_KG_MUJER',\n",
       "       'NUM_CIGARRILLOS_DIA', 'IMC', 'fumadora'],\n",
       "      dtype='object')"
      ]
     },
     "execution_count": 16,
     "metadata": {},
     "output_type": "execute_result"
    }
   ],
   "source": [
    "df_unido_limpio.columns"
   ]
  },
  {
   "cell_type": "code",
   "execution_count": 17,
   "id": "81f753aa",
   "metadata": {},
   "outputs": [
    {
     "name": "stdout",
     "output_type": "stream",
     "text": [
      "                            OLS Regression Results                            \n",
      "==============================================================================\n",
      "Dep. Variable:           peso_kg_bebe   R-squared:                       0.840\n",
      "Model:                            OLS   Adj. R-squared:                  0.838\n",
      "Method:                 Least Squares   F-statistic:                     356.2\n",
      "Date:                Thu, 03 Jul 2025   Prob (F-statistic):          1.50e-132\n",
      "Time:                        13:01:45   Log-Likelihood:                -2177.1\n",
      "No. Observations:                 345   AIC:                             4366.\n",
      "Df Residuals:                     339   BIC:                             4389.\n",
      "Df Model:                           5                                         \n",
      "Covariance Type:            nonrobust                                         \n",
      "=================================================================================\n",
      "                    coef    std err          t      P>|t|      [0.025      0.975]\n",
      "---------------------------------------------------------------------------------\n",
      "Intercept     -1531.1921    156.252     -9.799      0.000   -1838.538   -1223.846\n",
      "semanas_gest    125.5327      3.707     33.866      0.000     118.242     132.824\n",
      "hijos_previos    17.2778      5.755      3.002      0.003       5.959      28.597\n",
      "edad_anios       -6.5742      1.779     -3.696      0.000     -10.073      -3.075\n",
      "IMC              -4.2835      2.100     -2.040      0.042      -8.413      -0.154\n",
      "fumadora        -93.1241     16.336     -5.701      0.000    -125.256     -60.992\n",
      "==============================================================================\n",
      "Omnibus:                        1.279   Durbin-Watson:                   2.041\n",
      "Prob(Omnibus):                  0.527   Jarque-Bera (JB):                1.051\n",
      "Skew:                           0.119   Prob(JB):                        0.591\n",
      "Kurtosis:                       3.129   Cond. No.                     1.14e+03\n",
      "==============================================================================\n",
      "\n",
      "Notes:\n",
      "[1] Standard Errors assume that the covariance matrix of the errors is correctly specified.\n",
      "[2] The condition number is large, 1.14e+03. This might indicate that there are\n",
      "strong multicollinearity or other numerical problems.\n"
     ]
    }
   ],
   "source": [
    "import statsmodels.formula.api as smf\n",
    "\n",
    "modelo1 = smf.ols(formula = 'peso_kg_bebe ~ semanas_gest + hijos_previos + edad_anios + IMC + fumadora', \n",
    "                  data=df_unido_limpio).fit()\n",
    "print(modelo1.summary())\n"
   ]
  },
  {
   "cell_type": "code",
   "execution_count": 18,
   "id": "71725767",
   "metadata": {},
   "outputs": [
    {
     "name": "stdout",
     "output_type": "stream",
     "text": [
      "Python version: 3.12.8 (tags/v3.12.8:2dc476b, Dec  3 2024, 19:30:04) [MSC v.1942 64 bit (AMD64)]\n",
      "Scipy version: 1.11.4\n",
      "Statsmodels version: 0.14.4\n"
     ]
    }
   ],
   "source": [
    "import scipy\n",
    "import sys\n",
    "print(f\"Python version: {sys.version}\")\n",
    "print(f\"Scipy version: {scipy.__version__}\")\n",
    "\n",
    "# Try to check statsmodels version\n",
    "try:\n",
    "    import statsmodels\n",
    "    print(f\"Statsmodels version: {statsmodels.__version__}\")\n",
    "except ImportError as e:\n",
    "    print(f\"Statsmodels import error: {e}\")"
   ]
  },
  {
   "cell_type": "markdown",
   "id": "e1b79161",
   "metadata": {},
   "source": [
    "variable predictora     p-value\n",
    "semanas_gest            0.000\n",
    "hijos_previos           0.003\n",
    "edad_anios              0.000\n",
    "IMC                     0.042 --> es mayor al 1% por lo tanto no es significativa\n",
    "fumadora                0.000"
   ]
  },
  {
   "cell_type": "markdown",
   "id": "0685e4ee",
   "metadata": {},
   "source": [
    "\n",
    "**b. Modelo Reducido (Opcional)**\n",
    "\n",
    "*   (Si se encontraron variables no significativas en el modelo completo, se elimina(n) y se ajusta un nuevo modelo con las variables restantes.)\n",
    "*   (Se muestra la salida del modelo reducido.)\n",
    "\n"
   ]
  },
  {
   "cell_type": "code",
   "execution_count": 19,
   "id": "9b8c7352",
   "metadata": {},
   "outputs": [
    {
     "name": "stdout",
     "output_type": "stream",
     "text": [
      "                            OLS Regression Results                            \n",
      "==============================================================================\n",
      "Dep. Variable:           peso_kg_bebe   R-squared:                       0.838\n",
      "Model:                            OLS   Adj. R-squared:                  0.836\n",
      "Method:                 Least Squares   F-statistic:                     440.1\n",
      "Date:                Thu, 03 Jul 2025   Prob (F-statistic):          5.28e-133\n",
      "Time:                        13:01:45   Log-Likelihood:                -2179.2\n",
      "No. Observations:                 345   AIC:                             4368.\n",
      "Df Residuals:                     340   BIC:                             4388.\n",
      "Df Model:                           4                                         \n",
      "Covariance Type:            nonrobust                                         \n",
      "=================================================================================\n",
      "                    coef    std err          t      P>|t|      [0.025      0.975]\n",
      "---------------------------------------------------------------------------------\n",
      "Intercept     -1630.9673    149.089    -10.940      0.000   -1924.221   -1337.714\n",
      "semanas_gest    125.8830      3.720     33.840      0.000     118.566     133.200\n",
      "hijos_previos    17.2081      5.781      2.977      0.003       5.837      28.580\n",
      "edad_anios       -6.9303      1.778     -3.897      0.000     -10.428      -3.432\n",
      "fumadora        -91.0670     16.380     -5.560      0.000    -123.286     -58.848\n",
      "==============================================================================\n",
      "Omnibus:                        1.924   Durbin-Watson:                   2.044\n",
      "Prob(Omnibus):                  0.382   Jarque-Bera (JB):                1.650\n",
      "Skew:                           0.139   Prob(JB):                        0.438\n",
      "Kurtosis:                       3.195   Cond. No.                         983.\n",
      "==============================================================================\n",
      "\n",
      "Notes:\n",
      "[1] Standard Errors assume that the covariance matrix of the errors is correctly specified.\n"
     ]
    }
   ],
   "source": [
    "modelo2 = smf.ols(formula = 'peso_kg_bebe ~ semanas_gest + hijos_previos + edad_anios + fumadora', \n",
    "                  data=df_unido_limpio).fit()\n",
    "print(modelo2.summary())"
   ]
  },
  {
   "cell_type": "markdown",
   "id": "6d878eaa",
   "metadata": {},
   "source": [
    "**c. Ecuación del Modelo e Interpretación**\n",
    "\n",
    "*   Se escribe la ecuación del modelo ajustado (ya sea el completo o el reducido) en forma explícita:\n",
    "\n",
    "   `Peso_Nacer = Intercepto + (Coef_Semanas * Semanas_Gestacion) + (Coef_Partos * Partos_Previos) + ...`\n",
    "*   **Interpretación del coeficiente de semanas de gestación:** (Se explica que por cada semana adicional de gestación, el peso al nacer se espera que aumente en [Valor del Coeficiente] unidades, manteniendo las demás variables constantes.)\n"
   ]
  },
  {
   "cell_type": "markdown",
   "id": "77e7a949",
   "metadata": {},
   "source": [
    "Intercept     -1630.9673    \n",
    "x1: semanas_gest =  125.8830    \n",
    "x2: hijos_previos =  17.2081    \n",
    "x3: edad_anios =     -6.9303    \n",
    "x4: fumadora =      -91.0670\n",
    "\n",
    "$\\hat{y} = -1630.9673 + (125.8830 * x1) + (17.2081 * x2) - (6.9303 * x3) - (91.0670 * x4)$\n",
    "\n",
    "\n",
    "El coeficiente de semanas de gestación se interpreta que por cada semana de gestación el peso del bebé aumentará 125.8830 gramos."
   ]
  },
  {
   "cell_type": "markdown",
   "id": "b8c3f301",
   "metadata": {},
   "source": [
    "\n",
    "**d. Estimación del Peso al Nacer**\n",
    "\n",
    "*   Se introduce los valores dados (semanas de gestación = 38, partos previos = 0, fumadora = 0, edad = 25, IMC = 19.5) en la ecuación del modelo ajustado.\n",
    "*   Se calcula el peso al nacer estimado.\n"
   ]
  },
  {
   "cell_type": "code",
   "execution_count": 20,
   "id": "25eb0382",
   "metadata": {},
   "outputs": [
    {
     "name": "stdout",
     "output_type": "stream",
     "text": [
      "   semanas_gest  hijos_previos  edad_anios  fumadora\n",
      "0            38              0          25         0\n"
     ]
    },
    {
     "data": {
      "application/vnd.microsoft.datawrangler.viewer.v0+json": {
       "columns": [
        {
         "name": "index",
         "rawType": "int64",
         "type": "integer"
        },
        {
         "name": "0",
         "rawType": "float64",
         "type": "float"
        }
       ],
       "ref": "a0cd36b6-78ce-411e-b083-252edfee8a3b",
       "rows": [
        [
         "0",
         "2979.3281098214657"
        ]
       ],
       "shape": {
        "columns": 1,
        "rows": 1
       }
      },
      "text/plain": [
       "0    2979.32811\n",
       "dtype: float64"
      ]
     },
     "execution_count": 20,
     "metadata": {},
     "output_type": "execute_result"
    }
   ],
   "source": [
    "df_prediccion = pd.DataFrame({'semanas_gest' : [38],\n",
    "                              'hijos_previos' : [0],\n",
    "                              'edad_anios' : [25],\n",
    "                              'fumadora' : [0]\n",
    "                              })\n",
    "print(df_prediccion)\n",
    "\n",
    "modelo2.predict(df_prediccion)"
   ]
  },
  {
   "cell_type": "markdown",
   "id": "bfe2f386",
   "metadata": {},
   "source": [
    "\n",
    "**e. Distribución de los Residuos**\n",
    "\n",
    "*   Se genera un histograma o Q-Q plot de los residuos del modelo.\n",
    "*   **Características observadas:** (Se comenta si la distribución de los residuos parece ser aproximadamente normal, si hay patrones que sugieran no linealidad, heterocedasticidad, o la necesidad de transformar alguna variable.)"
   ]
  },
  {
   "cell_type": "markdown",
   "id": "3d71716d",
   "metadata": {},
   "source": []
  }
 ],
 "metadata": {
  "kernelspec": {
   "display_name": "venv_fcd",
   "language": "python",
   "name": "venv_fcd"
  },
  "language_info": {
   "codemirror_mode": {
    "name": "ipython",
    "version": 3
   },
   "file_extension": ".py",
   "mimetype": "text/x-python",
   "name": "python",
   "nbconvert_exporter": "python",
   "pygments_lexer": "ipython3",
   "version": "3.12.8"
  }
 },
 "nbformat": 4,
 "nbformat_minor": 5
}
