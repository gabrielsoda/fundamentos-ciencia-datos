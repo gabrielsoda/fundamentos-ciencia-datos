{
 "cells": [
  {
   "cell_type": "markdown",
   "id": "b6d20370",
   "metadata": {},
   "source": [
    "`nacimientos.csv`: contiene la siguiente información registrada en un efector de\n",
    "salud sobre un total de **345 madres que dieron a luz en el último año**: \n",
    "- peso del recién nacido (kg), \n",
    "- semanas de gestación, \n",
    "- número de partos previos atravesados y \n",
    "- edad de la madre al momento del nacimiento. \n",
    "\n",
    "`datos_madres.xlsx` :\n",
    "Luego del parto se registró de las madres, \n",
    "- peso (kg) \n",
    "- altura (m) \n",
    "- número de cigarrillos consumidos a diario,\n"
   ]
  },
  {
   "cell_type": "markdown",
   "id": "e9dbc03f",
   "metadata": {},
   "source": [
    "## Análisis de Datos de Nacimientos\n",
    "\n",
    "\n",
    "**PARTE I**\n",
    "\n",
    "**Ejercicio 1: Importación y Limpieza de Datos**\n",
    "\n",
    "*   (Aquí irían las instrucciones específicas para importar los datasets en el entorno de trabajo utilizado (e.g., R, Python con Pandas). Se detallarían los pasos para leer los archivos.)\n",
    "*   (Se describirían las tareas de limpieza realizadas: manejo de valores faltantes, corrección de errores, transformación de tipos de datos, etc.)"
   ]
  },
  {
   "cell_type": "code",
   "execution_count": null,
   "id": "9070dd73",
   "metadata": {},
   "outputs": [
    {
     "ename": "",
     "evalue": "",
     "output_type": "error",
     "traceback": [
      "\u001b[1;31mRunning cells with 'Python 3.12.5' requires the ipykernel package.\n",
      "\u001b[1;31m<a href='command:jupyter.createPythonEnvAndSelectController'>Create a Python Environment</a> with the required packages.\n",
      "\u001b[1;31mOr install 'ipykernel' using the command: 'c:/Users/gabri/AppData/Local/Programs/Python/Python312/python.exe -m pip install ipykernel -U --user --force-reinstall'"
     ]
    }
   ],
   "source": [
    "import pandas as pd\n",
    "import numpy as np\n",
    "import seaborn as sns\n",
    "import matplotlib.pyplot as plt\n",
    "nacimientos = pd.read_csv(\"datasets/nacimientos.csv\", sep=';', header=3)\n",
    "nacimientos.head(5)"
   ]
  },
  {
   "cell_type": "code",
   "execution_count": null,
   "id": "3f1f7da5",
   "metadata": {},
   "outputs": [],
   "source": [
    "# cargamos el dataset de las madres:\n",
    "madres = pd.read_excel(\"datasets/datos_madres.xlsx\")#, sep=';', header=3)\n",
    "madres.head(5)"
   ]
  },
  {
   "cell_type": "code",
   "execution_count": null,
   "id": "2d062887",
   "metadata": {},
   "outputs": [],
   "source": [
    "# lo primero que notamos es que a variable 'ALTURA_M_MUJER' tengo que transformarla a tipo de dato numérico\n",
    "# para eso reemplazamos las comas por puntos y luego transformamos a tipo float\n",
    "madres['ALTURA_M_MUJER'] = madres['ALTURA_M_MUJER'].str.replace(',','.').astype(float)\n",
    "madres.head()"
   ]
  },
  {
   "cell_type": "markdown",
   "id": "1014a471",
   "metadata": {},
   "source": [
    "\n",
    "\n",
    "**Ejercicio 2: Distribución del IMC en Mujeres**\n",
    "\n",
    "*   Se calcula el IMC (Índice de Masa Corporal) como:  `IMC = peso (kg) / (estatura (m))^2`\n",
    "*   Se genera un histograma o gráfico de densidad del IMC para las mujeres en el dataset.\n",
    "*   **Comentario sobre la simetría:** (Basado en el gráfico, se comenta si la distribución es simétrica, asimétrica positiva (sesgada a la derecha), o asimétrica negativa (sesgada a la izquierda).)"
   ]
  },
  {
   "cell_type": "code",
   "execution_count": null,
   "id": "cee16ddb",
   "metadata": {},
   "outputs": [],
   "source": [
    "madres['IMC'] = madres['PESO_KG_MUJER'] / madres['ALTURA_M_MUJER']**2\n",
    "madres.head()"
   ]
  },
  {
   "cell_type": "code",
   "execution_count": null,
   "id": "d9c4cb3d",
   "metadata": {},
   "outputs": [],
   "source": [
    "sns.histplot(data=madres, x='IMC')\n",
    "plt.title(\"Distribución de la variable IMC de las madres del dataset\", weight='bold')\n",
    "plt.ylabel(\"Frecuencia\")"
   ]
  },
  {
   "cell_type": "markdown",
   "id": "a429b4d4",
   "metadata": {},
   "source": [
    "Podemos notar que el gráfico está sesgado hacia a derecha."
   ]
  },
  {
   "cell_type": "markdown",
   "id": "a07e2f02",
   "metadata": {},
   "source": [
    "\n",
    "**Ejercicio 3: Variable Fumadora (Binaria)**\n",
    "\n",
    "*   Se crea una nueva variable categórica \"fumadora\":\n",
    "    *   `Fumadora = 1` si la mujer consume 1 o más cigarrillos al día.\n",
    "    *   `Fumadora = 0` si la mujer no consume cigarrillos.\n",
    "*   Se calcula el porcentaje de mujeres fumadoras en el dataset.\n",
    "\n"
   ]
  },
  {
   "cell_type": "code",
   "execution_count": null,
   "id": "5af28401",
   "metadata": {},
   "outputs": [],
   "source": [
    "madres[\"fumadora\"] = madres['NUM_CIGARRILLOS_DIA'].apply(lambda x: 1 if x >= 1 else 0).copy()\n",
    "madres.head()"
   ]
  },
  {
   "cell_type": "code",
   "execution_count": null,
   "id": "d0e58a65",
   "metadata": {},
   "outputs": [],
   "source": [
    "madres['fumadora'].value_counts(normalize=True)"
   ]
  },
  {
   "cell_type": "code",
   "execution_count": null,
   "id": "8be47ee2",
   "metadata": {},
   "outputs": [],
   "source": [
    "\n",
    "\n",
    "sns.countplot(data=madres, x='fumadora', stat='percent')\n",
    "plt.axhline(55.942, linestyle='--', color='darkred')\n",
    "plt.text(-0.3,56.4, \"55% fumadoras\", color='darkred')\n",
    "plt.title(\"Porcentajes de mujeres fumadoras y no fumadoras en el dataset\", weight='bold')\n",
    "plt.xlabel(\"Mujeres (1 si fuma, 0 si no fuma)\")\n",
    "plt.ylabel(\"Porcentajes\")"
   ]
  },
  {
   "cell_type": "markdown",
   "id": "5e26c1da",
   "metadata": {},
   "source": [
    "\n",
    "**Ejercicio 4: Distribución del Peso al Nacer por Condición de Fumadora**\n",
    "\n",
    "*   Se genera un gráfico (ej., boxplot, violin plot) que muestra la distribución del peso al nacer para madres fumadoras y no fumadoras.\n",
    "*   **Comentario:** (Se describe si existe una diferencia notable en el peso al nacer entre los dos grupos, y en qué dirección.)"
   ]
  },
  {
   "cell_type": "code",
   "execution_count": null,
   "id": "39a91e33",
   "metadata": {},
   "outputs": [],
   "source": [
    "sns.boxplot(data=madres, y='fumadora', x='PESO_KG_MUJER', orient='h')"
   ]
  },
  {
   "cell_type": "markdown",
   "id": "84bb282f",
   "metadata": {},
   "source": [
    "Podemos notar que el peso de las mujeres que no fuman es mayor que el de las que sí fuman"
   ]
  },
  {
   "cell_type": "code",
   "execution_count": null,
   "id": "45c98962",
   "metadata": {},
   "outputs": [],
   "source": [
    "sns.kdeplot(data=madres, x='PESO_KG_MUJER', hue='fumadora', fill=True)"
   ]
  },
  {
   "cell_type": "markdown",
   "id": "99845453",
   "metadata": {},
   "source": [
    "\n",
    "**Ejercicio 5: Correlación entre Variables Cuantitativas**\n",
    "\n",
    "*   Se calcula la matriz de correlación entre las variables cuantitativas del dataset.\n",
    "*   Se genera un heatmap o scatterplot matrix para visualizar las correlaciones.\n",
    "*   **Pares de variables con mayor asociación lineal:** (Se identifican y justifican los pares de variables que muestran las correlaciones más fuertes (positivas o negativas). La justificación se basa en el valor del coeficiente de correlación.)\n"
   ]
  },
  {
   "cell_type": "code",
   "execution_count": null,
   "id": "0f4f60a2",
   "metadata": {},
   "outputs": [],
   "source": [
    "# Unimos los dataframe así vemos la correlación de todas las variabes posibles\n",
    "\n",
    "df_merged = pd.merge(\n",
    "    left=nacimientos,\n",
    "    right=madres,\n",
    "    left_on='id_madre', # Columna clave en el df izquierdo\n",
    "    right_on='ID', # Columna clave en el df derecho\n",
    "    how='inner' # Tipo de join: 'inner', 'outer', 'left', 'right'\n",
    ")"
   ]
  },
  {
   "cell_type": "code",
   "execution_count": null,
   "id": "e2a012e9",
   "metadata": {},
   "outputs": [],
   "source": [
    "df_unido_limpio = df_merged.drop('ID', axis=1)  # No modifica el original\n",
    "df_unido_limpio.head()"
   ]
  },
  {
   "cell_type": "code",
   "execution_count": null,
   "id": "950a9008",
   "metadata": {},
   "outputs": [],
   "source": [
    "df_unido_limpio.columns"
   ]
  },
  {
   "cell_type": "code",
   "execution_count": null,
   "id": "c71acadb",
   "metadata": {},
   "outputs": [],
   "source": [
    "columnas_correlacionar = ['peso_kg_bebe', 'semanas_gest', 'edad_anios','hijos_previos', 'ALTURA_M_MUJER', 'PESO_KG_MUJER','NUM_CIGARRILLOS_DIA', 'IMC', 'fumadora']"
   ]
  },
  {
   "cell_type": "code",
   "execution_count": null,
   "id": "c284f35a",
   "metadata": {},
   "outputs": [],
   "source": [
    "sns.heatmap(df_unido_limpio[columnas_correlacionar].corr(), annot=True, cmap='coolwarm')"
   ]
  },
  {
   "cell_type": "markdown",
   "id": "bab954d1",
   "metadata": {},
   "source": [
    "\n",
    "**PARTE II**\n",
    "\n",
    "**Objetivo:** Predecir el peso al nacer usando regresión lineal múltiple.\n",
    "\n",
    "**Variables Predictoras:**\n",
    "\n",
    "*   Semanas de gestación\n",
    "*   Número de partos previos\n",
    "*   Edad de la madre\n",
    "*   IMC de la madre\n",
    "*   Condición de fumadora (binaria)\n",
    "\n",
    "**a. Modelo Completo**\n",
    "\n",
    "*   Se ajusta un modelo de regresión lineal múltiple con todas las variables predictoras.\n",
    "*   (Se muestra la salida del modelo, incluyendo los coeficientes estimados, errores estándar, valores p, etc.)\n",
    "*   **Variables significativas al 1%:** (Se identifican las variables cuyo valor p es menor a 0.01.  La justificación es que, con un nivel de significancia del 1%, se rechaza la hipótesis nula de que el coeficiente de la variable es igual a cero.)\n"
   ]
  },
  {
   "cell_type": "code",
   "execution_count": null,
   "id": "f0b58877",
   "metadata": {},
   "outputs": [],
   "source": [
    "df_unido_limpio.columns"
   ]
  },
  {
   "cell_type": "code",
   "execution_count": null,
   "id": "81f753aa",
   "metadata": {},
   "outputs": [],
   "source": [
    "import statsmodels.formula.api as smf\n",
    "\n",
    "modelo1 = smf.ols(formula = 'peso_kg_bebe ~ semanas_gest + hijos_previos + edad_anios + IMC + fumadora', \n",
    "                  data=df_unido_limpio).fit()\n",
    "print(modelo1.summary())\n"
   ]
  },
  {
   "cell_type": "code",
   "execution_count": null,
   "id": "71725767",
   "metadata": {},
   "outputs": [],
   "source": [
    "import scipy\n",
    "import sys\n",
    "print(f\"Python version: {sys.version}\")\n",
    "print(f\"Scipy version: {scipy.__version__}\")\n",
    "\n",
    "# Try to check statsmodels version\n",
    "try:\n",
    "    import statsmodels\n",
    "    print(f\"Statsmodels version: {statsmodels.__version__}\")\n",
    "except ImportError as e:\n",
    "    print(f\"Statsmodels import error: {e}\")"
   ]
  },
  {
   "cell_type": "markdown",
   "id": "e1b79161",
   "metadata": {},
   "source": [
    "variable predictora     p-value\n",
    "semanas_gest            0.000\n",
    "hijos_previos           0.003\n",
    "edad_anios              0.000\n",
    "IMC                     0.042 --> es mayor al 1% por lo tanto no es significativa\n",
    "fumadora                0.000"
   ]
  },
  {
   "cell_type": "markdown",
   "id": "0685e4ee",
   "metadata": {},
   "source": [
    "\n",
    "**b. Modelo Reducido (Opcional)**\n",
    "\n",
    "*   (Si se encontraron variables no significativas en el modelo completo, se elimina(n) y se ajusta un nuevo modelo con las variables restantes.)\n",
    "*   (Se muestra la salida del modelo reducido.)\n",
    "\n"
   ]
  },
  {
   "cell_type": "code",
   "execution_count": null,
   "id": "9b8c7352",
   "metadata": {},
   "outputs": [],
   "source": [
    "modelo2 = smf.ols(formula = 'peso_kg_bebe ~ semanas_gest + hijos_previos + edad_anios + fumadora', \n",
    "                  data=df_unido_limpio).fit()\n",
    "print(modelo2.summary())"
   ]
  },
  {
   "cell_type": "markdown",
   "id": "6d878eaa",
   "metadata": {},
   "source": [
    "**c. Ecuación del Modelo e Interpretación**\n",
    "\n",
    "*   Se escribe la ecuación del modelo ajustado (ya sea el completo o el reducido) en forma explícita:\n",
    "\n",
    "   `Peso_Nacer = Intercepto + (Coef_Semanas * Semanas_Gestacion) + (Coef_Partos * Partos_Previos) + ...`\n",
    "*   **Interpretación del coeficiente de semanas de gestación:** (Se explica que por cada semana adicional de gestación, el peso al nacer se espera que aumente en [Valor del Coeficiente] unidades, manteniendo las demás variables constantes.)\n"
   ]
  },
  {
   "cell_type": "markdown",
   "id": "77e7a949",
   "metadata": {},
   "source": [
    "Intercept     -1630.9673    \n",
    "x1: semanas_gest =  125.8830    \n",
    "x2: hijos_previos =  17.2081    \n",
    "x3: edad_anios =     -6.9303    \n",
    "x4: fumadora =      -91.0670\n",
    "\n",
    "$\\hat{y} = -1630.9673 + (125.8830 * x1) + (17.2081 * x2) - (6.9303 * x3) - (91.0670 * x4)$\n",
    "\n",
    "\n",
    "El coeficiente de semanas de gestación se interpreta que por cada semana de gestación el peso del bebé aumentará 125.8830 gramos."
   ]
  },
  {
   "cell_type": "markdown",
   "id": "b8c3f301",
   "metadata": {},
   "source": [
    "\n",
    "**d. Estimación del Peso al Nacer**\n",
    "\n",
    "*   Se introduce los valores dados (semanas de gestación = 38, partos previos = 0, fumadora = 0, edad = 25, IMC = 19.5) en la ecuación del modelo ajustado.\n",
    "*   Se calcula el peso al nacer estimado.\n"
   ]
  },
  {
   "cell_type": "code",
   "execution_count": null,
   "id": "25eb0382",
   "metadata": {},
   "outputs": [],
   "source": [
    "df_prediccion = pd.DataFrame({'semanas_gest' : [38],\n",
    "                              'hijos_previos' : [0],\n",
    "                              'edad_anios' : [25],\n",
    "                              'fumadora' : [0]\n",
    "                              })\n",
    "print(df_prediccion)\n",
    "\n",
    "modelo2.predict(df_prediccion)"
   ]
  },
  {
   "cell_type": "markdown",
   "id": "bfe2f386",
   "metadata": {},
   "source": [
    "\n",
    "**e. Distribución de los Residuos**\n",
    "\n",
    "*   Se genera un histograma o Q-Q plot de los residuos del modelo.\n",
    "*   **Características observadas:** (Se comenta si la distribución de los residuos parece ser aproximadamente normal, si hay patrones que sugieran no linealidad, heterocedasticidad, o la necesidad de transformar alguna variable.)"
   ]
  },
  {
   "cell_type": "markdown",
   "id": "3d71716d",
   "metadata": {},
   "source": []
  }
 ],
 "metadata": {
  "kernelspec": {
   "display_name": "Python 3",
   "language": "python",
   "name": "python3"
  },
  "language_info": {
   "codemirror_mode": {
    "name": "ipython",
    "version": 3
   },
   "file_extension": ".py",
   "mimetype": "text/x-python",
   "name": "python",
   "nbconvert_exporter": "python",
   "pygments_lexer": "ipython3",
   "version": "3.12.5"
  }
 },
 "nbformat": 4,
 "nbformat_minor": 5
}
