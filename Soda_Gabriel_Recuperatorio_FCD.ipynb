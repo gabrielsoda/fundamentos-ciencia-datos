{
  "cells": [
    {
      "cell_type": "code",
      "execution_count": 276,
      "metadata": {
        "id": "W9EsBNDHHvoS"
      },
      "outputs": [],
      "source": [
        "import pandas as pd\n",
        "import numpy as np\n",
        "import seaborn as sns\n",
        "import matplotlib.pyplot as plt\n",
        "import statsmodels.formula.api as smf"
      ]
    },
    {
      "cell_type": "code",
      "execution_count": 277,
      "metadata": {
        "colab": {
          "base_uri": "https://localhost:8080/",
          "height": 206
        },
        "id": "tu7FRV1KIAM0",
        "outputId": "7dcfac5c-57a9-4ad4-e3d7-357969b3dcc1"
      },
      "outputs": [
        {
          "data": {
            "application/vnd.microsoft.datawrangler.viewer.v0+json": {
              "columns": [
                {
                  "name": "index",
                  "rawType": "int64",
                  "type": "integer"
                },
                {
                  "name": "id_edificio",
                  "rawType": "int64",
                  "type": "integer"
                },
                {
                  "name": "barrio",
                  "rawType": "object",
                  "type": "string"
                }
              ],
              "ref": "9d1e384d-46b1-4ee6-acd7-65105c6f2c59",
              "rows": [
                [
                  "0",
                  "0",
                  "Norte"
                ],
                [
                  "1",
                  "1",
                  "Norte"
                ],
                [
                  "2",
                  "2",
                  "Norte"
                ],
                [
                  "3",
                  "3",
                  "Centro"
                ],
                [
                  "4",
                  "4",
                  "Oeste"
                ]
              ],
              "shape": {
                "columns": 2,
                "rows": 5
              }
            },
            "text/html": [
              "<div>\n",
              "<style scoped>\n",
              "    .dataframe tbody tr th:only-of-type {\n",
              "        vertical-align: middle;\n",
              "    }\n",
              "\n",
              "    .dataframe tbody tr th {\n",
              "        vertical-align: top;\n",
              "    }\n",
              "\n",
              "    .dataframe thead th {\n",
              "        text-align: right;\n",
              "    }\n",
              "</style>\n",
              "<table border=\"1\" class=\"dataframe\">\n",
              "  <thead>\n",
              "    <tr style=\"text-align: right;\">\n",
              "      <th></th>\n",
              "      <th>id_edificio</th>\n",
              "      <th>barrio</th>\n",
              "    </tr>\n",
              "  </thead>\n",
              "  <tbody>\n",
              "    <tr>\n",
              "      <th>0</th>\n",
              "      <td>0</td>\n",
              "      <td>Norte</td>\n",
              "    </tr>\n",
              "    <tr>\n",
              "      <th>1</th>\n",
              "      <td>1</td>\n",
              "      <td>Norte</td>\n",
              "    </tr>\n",
              "    <tr>\n",
              "      <th>2</th>\n",
              "      <td>2</td>\n",
              "      <td>Norte</td>\n",
              "    </tr>\n",
              "    <tr>\n",
              "      <th>3</th>\n",
              "      <td>3</td>\n",
              "      <td>Centro</td>\n",
              "    </tr>\n",
              "    <tr>\n",
              "      <th>4</th>\n",
              "      <td>4</td>\n",
              "      <td>Oeste</td>\n",
              "    </tr>\n",
              "  </tbody>\n",
              "</table>\n",
              "</div>"
            ],
            "text/plain": [
              "   id_edificio  barrio\n",
              "0            0   Norte\n",
              "1            1   Norte\n",
              "2            2   Norte\n",
              "3            3  Centro\n",
              "4            4   Oeste"
            ]
          },
          "execution_count": 277,
          "metadata": {},
          "output_type": "execute_result"
        }
      ],
      "source": [
        "barrio = pd.read_csv('datasets/barrio_edificio.csv')\n",
        "barrio.head()"
      ]
    },
    {
      "cell_type": "code",
      "execution_count": 278,
      "metadata": {
        "colab": {
          "base_uri": "https://localhost:8080/",
          "height": 226
        },
        "id": "NQxJvkWnIe7p",
        "outputId": "fd524130-ff29-4cf4-f443-4d842265e14a"
      },
      "outputs": [
        {
          "data": {
            "application/vnd.microsoft.datawrangler.viewer.v0+json": {
              "columns": [
                {
                  "name": "index",
                  "rawType": "int64",
                  "type": "integer"
                },
                {
                  "name": "id_edificio",
                  "rawType": "int64",
                  "type": "integer"
                },
                {
                  "name": "tipo_edificio",
                  "rawType": "object",
                  "type": "string"
                },
                {
                  "name": "numero_ocupantes",
                  "rawType": "int64",
                  "type": "integer"
                },
                {
                  "name": "electrodomesticos",
                  "rawType": "int64",
                  "type": "integer"
                },
                {
                  "name": "temperatura_media",
                  "rawType": "float64",
                  "type": "float"
                },
                {
                  "name": "dia_semana",
                  "rawType": "object",
                  "type": "string"
                },
                {
                  "name": "consumo_energia",
                  "rawType": "float64",
                  "type": "float"
                },
                {
                  "name": "metros_cuadrados",
                  "rawType": "float64",
                  "type": "float"
                }
              ],
              "ref": "ca62af31-4e9d-4da9-bf39-cfcbcd5e4816",
              "rows": [
                [
                  "0",
                  "0",
                  "Residencial",
                  "76",
                  "10",
                  "29.84",
                  "habil",
                  "3264.2352289225805",
                  "-800.5810291420312"
                ],
                [
                  "1",
                  "1",
                  "Comercial",
                  "66",
                  "45",
                  "16.72",
                  "fin_de_semana",
                  "6486.624734805464",
                  "4076.513978752818"
                ],
                [
                  "2",
                  "2",
                  "Industrial",
                  "37",
                  "17",
                  "14.3",
                  "habil",
                  "4276.656672459831",
                  "2706.630059768273"
                ],
                [
                  "3",
                  "3",
                  "Residencial",
                  "14",
                  "41",
                  "32.82",
                  "habil",
                  "3209.3882913880952",
                  "805.1126316957763"
                ],
                [
                  "4",
                  "4",
                  "Comercial",
                  "26",
                  "18",
                  "11.92",
                  "habil",
                  "3266.8712609079644",
                  "1175.46703824612"
                ]
              ],
              "shape": {
                "columns": 8,
                "rows": 5
              }
            },
            "text/html": [
              "<div>\n",
              "<style scoped>\n",
              "    .dataframe tbody tr th:only-of-type {\n",
              "        vertical-align: middle;\n",
              "    }\n",
              "\n",
              "    .dataframe tbody tr th {\n",
              "        vertical-align: top;\n",
              "    }\n",
              "\n",
              "    .dataframe thead th {\n",
              "        text-align: right;\n",
              "    }\n",
              "</style>\n",
              "<table border=\"1\" class=\"dataframe\">\n",
              "  <thead>\n",
              "    <tr style=\"text-align: right;\">\n",
              "      <th></th>\n",
              "      <th>id_edificio</th>\n",
              "      <th>tipo_edificio</th>\n",
              "      <th>numero_ocupantes</th>\n",
              "      <th>electrodomesticos</th>\n",
              "      <th>temperatura_media</th>\n",
              "      <th>dia_semana</th>\n",
              "      <th>consumo_energia</th>\n",
              "      <th>metros_cuadrados</th>\n",
              "    </tr>\n",
              "  </thead>\n",
              "  <tbody>\n",
              "    <tr>\n",
              "      <th>0</th>\n",
              "      <td>0</td>\n",
              "      <td>Residencial</td>\n",
              "      <td>76</td>\n",
              "      <td>10</td>\n",
              "      <td>29.84</td>\n",
              "      <td>habil</td>\n",
              "      <td>3264.235229</td>\n",
              "      <td>-800.581029</td>\n",
              "    </tr>\n",
              "    <tr>\n",
              "      <th>1</th>\n",
              "      <td>1</td>\n",
              "      <td>Comercial</td>\n",
              "      <td>66</td>\n",
              "      <td>45</td>\n",
              "      <td>16.72</td>\n",
              "      <td>fin_de_semana</td>\n",
              "      <td>6486.624735</td>\n",
              "      <td>4076.513979</td>\n",
              "    </tr>\n",
              "    <tr>\n",
              "      <th>2</th>\n",
              "      <td>2</td>\n",
              "      <td>Industrial</td>\n",
              "      <td>37</td>\n",
              "      <td>17</td>\n",
              "      <td>14.30</td>\n",
              "      <td>habil</td>\n",
              "      <td>4276.656672</td>\n",
              "      <td>2706.630060</td>\n",
              "    </tr>\n",
              "    <tr>\n",
              "      <th>3</th>\n",
              "      <td>3</td>\n",
              "      <td>Residencial</td>\n",
              "      <td>14</td>\n",
              "      <td>41</td>\n",
              "      <td>32.82</td>\n",
              "      <td>habil</td>\n",
              "      <td>3209.388291</td>\n",
              "      <td>805.112632</td>\n",
              "    </tr>\n",
              "    <tr>\n",
              "      <th>4</th>\n",
              "      <td>4</td>\n",
              "      <td>Comercial</td>\n",
              "      <td>26</td>\n",
              "      <td>18</td>\n",
              "      <td>11.92</td>\n",
              "      <td>habil</td>\n",
              "      <td>3266.871261</td>\n",
              "      <td>1175.467038</td>\n",
              "    </tr>\n",
              "  </tbody>\n",
              "</table>\n",
              "</div>"
            ],
            "text/plain": [
              "   id_edificio tipo_edificio  numero_ocupantes  electrodomesticos  \\\n",
              "0            0   Residencial                76                 10   \n",
              "1            1     Comercial                66                 45   \n",
              "2            2    Industrial                37                 17   \n",
              "3            3   Residencial                14                 41   \n",
              "4            4     Comercial                26                 18   \n",
              "\n",
              "   temperatura_media     dia_semana  consumo_energia  metros_cuadrados  \n",
              "0              29.84          habil      3264.235229       -800.581029  \n",
              "1              16.72  fin_de_semana      6486.624735       4076.513979  \n",
              "2              14.30          habil      4276.656672       2706.630060  \n",
              "3              32.82          habil      3209.388291        805.112632  \n",
              "4              11.92          habil      3266.871261       1175.467038  "
            ]
          },
          "execution_count": 278,
          "metadata": {},
          "output_type": "execute_result"
        }
      ],
      "source": [
        "consumo = pd.read_csv('datasets/consumo_edificio.csv')\n",
        "consumo.head()"
      ]
    },
    {
      "cell_type": "markdown",
      "metadata": {
        "id": "6Hve-gx6Ipp3"
      },
      "source": [
        "### Análisis dataset barrio"
      ]
    },
    {
      "cell_type": "code",
      "execution_count": 279,
      "metadata": {
        "colab": {
          "base_uri": "https://localhost:8080/"
        },
        "id": "RI-ovGUUInbV",
        "outputId": "2b5471fe-263f-4ea1-f67f-d32469dc5a39"
      },
      "outputs": [
        {
          "name": "stdout",
          "output_type": "stream",
          "text": [
            "<class 'pandas.core.frame.DataFrame'>\n",
            "RangeIndex: 1000 entries, 0 to 999\n",
            "Data columns (total 2 columns):\n",
            " #   Column       Non-Null Count  Dtype \n",
            "---  ------       --------------  ----- \n",
            " 0   id_edificio  1000 non-null   int64 \n",
            " 1   barrio       1000 non-null   object\n",
            "dtypes: int64(1), object(1)\n",
            "memory usage: 15.8+ KB\n"
          ]
        }
      ],
      "source": [
        "barrio.info()"
      ]
    },
    {
      "cell_type": "code",
      "execution_count": 280,
      "metadata": {
        "colab": {
          "base_uri": "https://localhost:8080/",
          "height": 209
        },
        "id": "pepqvt5vI3qD",
        "outputId": "14b380b2-f9bd-4613-dee8-a28812d23948"
      },
      "outputs": [
        {
          "data": {
            "application/vnd.microsoft.datawrangler.viewer.v0+json": {
              "columns": [
                {
                  "name": "index",
                  "rawType": "object",
                  "type": "string"
                },
                {
                  "name": "barrio",
                  "rawType": "object",
                  "type": "unknown"
                }
              ],
              "ref": "36bdfb03-701f-46a5-8b31-b3ff5643da6b",
              "rows": [
                [
                  "count",
                  "1000"
                ],
                [
                  "unique",
                  "4"
                ],
                [
                  "top",
                  "Sur"
                ],
                [
                  "freq",
                  "264"
                ]
              ],
              "shape": {
                "columns": 1,
                "rows": 4
              }
            },
            "text/plain": [
              "count     1000\n",
              "unique       4\n",
              "top        Sur\n",
              "freq       264\n",
              "Name: barrio, dtype: object"
            ]
          },
          "execution_count": 280,
          "metadata": {},
          "output_type": "execute_result"
        }
      ],
      "source": [
        "barrio['barrio'].describe()"
      ]
    },
    {
      "cell_type": "code",
      "execution_count": 281,
      "metadata": {
        "colab": {
          "base_uri": "https://localhost:8080/"
        },
        "id": "GRH9AWKwI42g",
        "outputId": "8cee969a-053c-4d26-f243-e829f7fdf283"
      },
      "outputs": [
        {
          "data": {
            "text/plain": [
              "(1000, 2)"
            ]
          },
          "execution_count": 281,
          "metadata": {},
          "output_type": "execute_result"
        }
      ],
      "source": [
        "barrio.shape"
      ]
    },
    {
      "cell_type": "code",
      "execution_count": 282,
      "metadata": {
        "colab": {
          "base_uri": "https://localhost:8080/"
        },
        "id": "lZN7Tm2nJBRC",
        "outputId": "4049009d-fed2-4142-cf98-78a83c0075f6"
      },
      "outputs": [
        {
          "name": "stdout",
          "output_type": "stream",
          "text": [
            "id_edificio    0\n",
            "barrio         0\n",
            "dtype: int64\n"
          ]
        }
      ],
      "source": [
        "print(barrio.isnull().sum())"
      ]
    },
    {
      "cell_type": "code",
      "execution_count": 283,
      "metadata": {
        "colab": {
          "base_uri": "https://localhost:8080/"
        },
        "id": "m1MKtwjhJHHT",
        "outputId": "9af2e66b-adf9-42e5-8ee0-81515bdbc708"
      },
      "outputs": [
        {
          "name": "stdout",
          "output_type": "stream",
          "text": [
            "0\n"
          ]
        }
      ],
      "source": [
        "print(barrio.duplicated().sum())"
      ]
    },
    {
      "cell_type": "code",
      "execution_count": 284,
      "metadata": {
        "colab": {
          "base_uri": "https://localhost:8080/",
          "height": 489
        },
        "id": "Ml5v3d_BJUfV",
        "outputId": "85aac27a-297e-4a8b-e6ad-6c0abdaccabd"
      },
      "outputs": [
        {
          "data": {
            "text/plain": [
              "Text(0, 0.5, 'Frecuencia')"
            ]
          },
          "execution_count": 284,
          "metadata": {},
          "output_type": "execute_result"
        },
        {
          "data": {
            "image/png": "[encoded data removed]",
            "text/plain": [
              "<Figure size 640x480 with 1 Axes>"
            ]
          },
          "metadata": {},
          "output_type": "display_data"
        }
      ],
      "source": [
        "sns.countplot(barrio, x='barrio', hue='barrio')\n",
        "plt.title(\"Cantidad de edificios por barrio\", weight='bold')\n",
        "plt.xlabel(\"Barrio\", weight='bold')\n",
        "plt.ylabel(\"Frecuencia\", weight='bold')"
      ]
    },
    {
      "cell_type": "markdown",
      "metadata": {
        "id": "5yWXjp6zJvR2"
      },
      "source": [
        "### Análisis dataset de los datos"
      ]
    },
    {
      "cell_type": "code",
      "execution_count": null,
      "metadata": {
        "colab": {
          "base_uri": "https://localhost:8080/",
          "height": 226
        },
        "id": "gm8xL_JtKekx",
        "outputId": "7ad98e3f-f457-4b73-cc1b-7a3cdf0baad7"
      },
      "outputs": [
        {
          "data": {
            "application/vnd.microsoft.datawrangler.viewer.v0+json": {
              "columns": [
                {
                  "name": "index",
                  "rawType": "int64",
                  "type": "integer"
                },
                {
                  "name": "id_edificio",
                  "rawType": "int64",
                  "type": "integer"
                },
                {
                  "name": "tipo_edificio",
                  "rawType": "object",
                  "type": "string"
                },
                {
                  "name": "numero_ocupantes",
                  "rawType": "int64",
                  "type": "integer"
                },
                {
                  "name": "electrodomesticos",
                  "rawType": "int64",
                  "type": "integer"
                },
                {
                  "name": "temperatura_media",
                  "rawType": "float64",
                  "type": "float"
                },
                {
                  "name": "dia_semana",
                  "rawType": "object",
                  "type": "string"
                },
                {
                  "name": "consumo_energia",
                  "rawType": "float64",
                  "type": "float"
                },
                {
                  "name": "metros_cuadrados",
                  "rawType": "float64",
                  "type": "float"
                }
              ],
              "ref": "b240398b-051d-4777-9c30-e8b71023f7dc",
              "rows": [
                [
                  "0",
                  "0",
                  "Residencial",
                  "76",
                  "10",
                  "29.84",
                  "habil",
                  "3264.2352289225805",
                  "-800.5810291420312"
                ],
                [
                  "1",
                  "1",
                  "Comercial",
                  "66",
                  "45",
                  "16.72",
                  "fin_de_semana",
                  "6486.624734805464",
                  "4076.513978752818"
                ],
                [
                  "2",
                  "2",
                  "Industrial",
                  "37",
                  "17",
                  "14.3",
                  "habil",
                  "4276.656672459831",
                  "2706.630059768273"
                ],
                [
                  "3",
                  "3",
                  "Residencial",
                  "14",
                  "41",
                  "32.82",
                  "habil",
                  "3209.3882913880952",
                  "805.1126316957763"
                ],
                [
                  "4",
                  "4",
                  "Comercial",
                  "26",
                  "18",
                  "11.92",
                  "habil",
                  "3266.8712609079644",
                  "1175.46703824612"
                ],
                [
                  "5",
                  "5",
                  "Comercial",
                  "26",
                  "32",
                  "16.24",
                  "habil",
                  "4345.208179131969",
                  "5049.629838357812"
                ],
                [
                  "6",
                  "6",
                  "Industrial",
                  "92",
                  "14",
                  "21.01",
                  "habil",
                  "5248.40586113906",
                  "2159.7998120772213"
                ],
                [
                  "7",
                  "7",
                  "Residencial",
                  "60",
                  "18",
                  "28.24",
                  "fin_de_semana",
                  "3837.9935540261768",
                  "3272.330350759063"
                ],
                [
                  "8",
                  "8",
                  "Industrial",
                  "99",
                  "44",
                  "13.08",
                  "fin_de_semana",
                  "5752.556278691251",
                  "2953.623232835924"
                ],
                [
                  "9",
                  "9",
                  "Residencial",
                  "42",
                  "36",
                  "28.84",
                  "fin_de_semana",
                  "4251.695027997625",
                  "1698.6230157089494"
                ],
                [
                  "10",
                  "10",
                  "Comercial",
                  "71",
                  "14",
                  "11.3",
                  "fin_de_semana",
                  "4421.674646963044",
                  "3204.629715254686"
                ],
                [
                  "11",
                  "11",
                  "Comercial",
                  "4",
                  "44",
                  "25.38",
                  "fin_de_semana",
                  "5241.551622536441",
                  "3161.224353849788"
                ],
                [
                  "12",
                  "12",
                  "Residencial",
                  "97",
                  "34",
                  "17.35",
                  "fin_de_semana",
                  "3939.902369050968",
                  "1318.4573325638232"
                ],
                [
                  "13",
                  "13",
                  "Residencial",
                  "11",
                  "8",
                  "17.8",
                  "fin_de_semana",
                  "3018.514111820281",
                  "2257.4687374614573"
                ],
                [
                  "14",
                  "14",
                  "Residencial",
                  "97",
                  "19",
                  "22.45",
                  "fin_de_semana",
                  "5139.600804341063",
                  "4521.342946852283"
                ],
                [
                  "15",
                  "15",
                  "Comercial",
                  "54",
                  "47",
                  "13.56",
                  "fin_de_semana",
                  "3732.892463311391",
                  "-328.9247025144326"
                ],
                [
                  "16",
                  "16",
                  "Comercial",
                  "34",
                  "44",
                  "24.62",
                  "habil",
                  "3084.119209456984",
                  "-1032.146618973958"
                ],
                [
                  "17",
                  "17",
                  "Industrial",
                  "97",
                  "20",
                  "23.99",
                  "fin_de_semana",
                  "5645.373188689272",
                  "1585.9535349438916"
                ],
                [
                  "18",
                  "18",
                  "Industrial",
                  "32",
                  "23",
                  "27.87",
                  "habil",
                  "3269.9946541254144",
                  "189.31276595903952"
                ],
                [
                  "19",
                  "19",
                  "Residencial",
                  "19",
                  "48",
                  "22.67",
                  "habil",
                  "2624.408676615056",
                  "-792.0173839788314"
                ],
                [
                  "20",
                  "20",
                  "Comercial",
                  "24",
                  "43",
                  "10.38",
                  "fin_de_semana",
                  "4743.410005313596",
                  "1609.426778569307"
                ],
                [
                  "21",
                  "21",
                  "Industrial",
                  "83",
                  "40",
                  "32.92",
                  "fin_de_semana",
                  "4473.448315129838",
                  "1510.1281788149086"
                ],
                [
                  "22",
                  "22",
                  "Industrial",
                  "32",
                  "22",
                  "17.87",
                  "habil",
                  "4273.332607960128",
                  "2925.08390831223"
                ],
                [
                  "23",
                  "23",
                  "Comercial",
                  "55",
                  "16",
                  "26.95",
                  "fin_de_semana",
                  "4388.919738870714",
                  "3599.762814999162"
                ],
                [
                  "24",
                  "24",
                  "Residencial",
                  "39",
                  "27",
                  "18.67",
                  "habil",
                  "4020.923100632117",
                  "4085.349150694096"
                ],
                [
                  "25",
                  "25",
                  "Industrial",
                  "22",
                  "7",
                  "31.95",
                  "habil",
                  "4874.344262447822",
                  "3630.790585430447"
                ],
                [
                  "26",
                  "26",
                  "Residencial",
                  "8",
                  "5",
                  "23.67",
                  "fin_de_semana",
                  "3814.688921506905",
                  "2249.929402823166"
                ],
                [
                  "27",
                  "27",
                  "Industrial",
                  "63",
                  "12",
                  "29.54",
                  "fin_de_semana",
                  "5390.764495520406",
                  "5460.365994544686"
                ],
                [
                  "28",
                  "28",
                  "Residencial",
                  "35",
                  "14",
                  "15.39",
                  "habil",
                  "3450.095577684369",
                  "2526.771335787401"
                ],
                [
                  "29",
                  "29",
                  "Residencial",
                  "12",
                  "30",
                  "32.89",
                  "fin_de_semana",
                  "2656.614575480612",
                  "1292.5740485026972"
                ],
                [
                  "30",
                  "30",
                  "Comercial",
                  "75",
                  "41",
                  "12.97",
                  "habil",
                  "4707.529174400159",
                  "712.7814859525151"
                ],
                [
                  "31",
                  "31",
                  "Residencial",
                  "22",
                  "36",
                  "15.41",
                  "habil",
                  "4229.268118157038",
                  "4619.068811716129"
                ],
                [
                  "32",
                  "32",
                  "Comercial",
                  "24",
                  "34",
                  "24.93",
                  "habil",
                  "3931.0819092584497",
                  "1373.0001767394788"
                ],
                [
                  "33",
                  "33",
                  "Industrial",
                  "2",
                  "13",
                  "11.36",
                  "fin_de_semana",
                  "3538.7665596925945",
                  "3120.1685421052803"
                ],
                [
                  "34",
                  "34",
                  "Residencial",
                  "5",
                  "26",
                  "20.96",
                  "habil",
                  "2174.650993346258",
                  "649.2599703635724"
                ],
                [
                  "35",
                  "35",
                  "Residencial",
                  "33",
                  "11",
                  "14.17",
                  "fin_de_semana",
                  "4135.075657597091",
                  "4639.173273898859"
                ],
                [
                  "36",
                  "36",
                  "Residencial",
                  "25",
                  "26",
                  "21.34",
                  "fin_de_semana",
                  "2012.7665221659745",
                  "928.6410315391328"
                ],
                [
                  "37",
                  "37",
                  "Industrial",
                  "77",
                  "20",
                  "22.84",
                  "habil",
                  "5238.42916466515",
                  "2151.768581599318"
                ],
                [
                  "38",
                  "38",
                  "Residencial",
                  "31",
                  "13",
                  "15.09",
                  "fin_de_semana",
                  "1977.064115245088",
                  "-354.4209295063308"
                ],
                [
                  "39",
                  "39",
                  "Residencial",
                  "64",
                  "43",
                  "24.21",
                  "fin_de_semana",
                  "4483.022825863213",
                  "3227.1634633284225"
                ],
                [
                  "40",
                  "40",
                  "Industrial",
                  "89",
                  "31",
                  "32.76",
                  "habil",
                  "4255.622624939187",
                  "774.6227820686772"
                ],
                [
                  "41",
                  "41",
                  "Comercial",
                  "58",
                  "35",
                  "10.34",
                  "habil",
                  "3835.431467512958",
                  "1382.938467936986"
                ],
                [
                  "42",
                  "42",
                  "Residencial",
                  "85",
                  "21",
                  "29.36",
                  "fin_de_semana",
                  "3894.105721042859",
                  "1643.5743274311724"
                ],
                [
                  "43",
                  "43",
                  "Residencial",
                  "20",
                  "30",
                  "31.23",
                  "fin_de_semana",
                  "3566.2540530235",
                  "4332.187224043392"
                ],
                [
                  "44",
                  "44",
                  "Industrial",
                  "85",
                  "45",
                  "12.92",
                  "fin_de_semana",
                  "6085.887695433673",
                  "3423.999978675564"
                ],
                [
                  "45",
                  "45",
                  "Industrial",
                  "73",
                  "26",
                  "14.95",
                  "habil",
                  "4068.547549486232",
                  "1556.2272782434266"
                ],
                [
                  "46",
                  "46",
                  "Industrial",
                  "99",
                  "18",
                  "33.43",
                  "fin_de_semana",
                  "5149.604155421171",
                  "3365.3565575564744"
                ],
                [
                  "47",
                  "47",
                  "Residencial",
                  "35",
                  "16",
                  "21.39",
                  "fin_de_semana",
                  "2591.3532839419727",
                  "2580.884078873825"
                ],
                [
                  "48",
                  "48",
                  "Industrial",
                  "26",
                  "48",
                  "28.64",
                  "fin_de_semana",
                  "6756.897913272274",
                  "2989.997296384224"
                ],
                [
                  "49",
                  "49",
                  "Residencial",
                  "63",
                  "13",
                  "18.75",
                  "fin_de_semana",
                  "3447.218102968356",
                  "3215.0411173064267"
                ]
              ],
              "shape": {
                "columns": 8,
                "rows": 1000
              }
            },
            "text/html": [
              "<div>\n",
              "<style scoped>\n",
              "    .dataframe tbody tr th:only-of-type {\n",
              "        vertical-align: middle;\n",
              "    }\n",
              "\n",
              "    .dataframe tbody tr th {\n",
              "        vertical-align: top;\n",
              "    }\n",
              "\n",
              "    .dataframe thead th {\n",
              "        text-align: right;\n",
              "    }\n",
              "</style>\n",
              "<table border=\"1\" class=\"dataframe\">\n",
              "  <thead>\n",
              "    <tr style=\"text-align: right;\">\n",
              "      <th></th>\n",
              "      <th>id_edificio</th>\n",
              "      <th>tipo_edificio</th>\n",
              "      <th>numero_ocupantes</th>\n",
              "      <th>electrodomesticos</th>\n",
              "      <th>temperatura_media</th>\n",
              "      <th>dia_semana</th>\n",
              "      <th>consumo_energia</th>\n",
              "      <th>metros_cuadrados</th>\n",
              "    </tr>\n",
              "  </thead>\n",
              "  <tbody>\n",
              "    <tr>\n",
              "      <th>0</th>\n",
              "      <td>0</td>\n",
              "      <td>Residencial</td>\n",
              "      <td>76</td>\n",
              "      <td>10</td>\n",
              "      <td>29.84</td>\n",
              "      <td>habil</td>\n",
              "      <td>3264.235229</td>\n",
              "      <td>-800.581029</td>\n",
              "    </tr>\n",
              "    <tr>\n",
              "      <th>1</th>\n",
              "      <td>1</td>\n",
              "      <td>Comercial</td>\n",
              "      <td>66</td>\n",
              "      <td>45</td>\n",
              "      <td>16.72</td>\n",
              "      <td>fin_de_semana</td>\n",
              "      <td>6486.624735</td>\n",
              "      <td>4076.513979</td>\n",
              "    </tr>\n",
              "    <tr>\n",
              "      <th>2</th>\n",
              "      <td>2</td>\n",
              "      <td>Industrial</td>\n",
              "      <td>37</td>\n",
              "      <td>17</td>\n",
              "      <td>14.30</td>\n",
              "      <td>habil</td>\n",
              "      <td>4276.656672</td>\n",
              "      <td>2706.630060</td>\n",
              "    </tr>\n",
              "    <tr>\n",
              "      <th>3</th>\n",
              "      <td>3</td>\n",
              "      <td>Residencial</td>\n",
              "      <td>14</td>\n",
              "      <td>41</td>\n",
              "      <td>32.82</td>\n",
              "      <td>habil</td>\n",
              "      <td>3209.388291</td>\n",
              "      <td>805.112632</td>\n",
              "    </tr>\n",
              "    <tr>\n",
              "      <th>4</th>\n",
              "      <td>4</td>\n",
              "      <td>Comercial</td>\n",
              "      <td>26</td>\n",
              "      <td>18</td>\n",
              "      <td>11.92</td>\n",
              "      <td>habil</td>\n",
              "      <td>3266.871261</td>\n",
              "      <td>1175.467038</td>\n",
              "    </tr>\n",
              "    <tr>\n",
              "      <th>...</th>\n",
              "      <td>...</td>\n",
              "      <td>...</td>\n",
              "      <td>...</td>\n",
              "      <td>...</td>\n",
              "      <td>...</td>\n",
              "      <td>...</td>\n",
              "      <td>...</td>\n",
              "      <td>...</td>\n",
              "    </tr>\n",
              "    <tr>\n",
              "      <th>995</th>\n",
              "      <td>995</td>\n",
              "      <td>Residencial</td>\n",
              "      <td>68</td>\n",
              "      <td>44</td>\n",
              "      <td>23.95</td>\n",
              "      <td>habil</td>\n",
              "      <td>3318.267025</td>\n",
              "      <td>1499.865640</td>\n",
              "    </tr>\n",
              "    <tr>\n",
              "      <th>996</th>\n",
              "      <td>996</td>\n",
              "      <td>Industrial</td>\n",
              "      <td>7</td>\n",
              "      <td>22</td>\n",
              "      <td>14.67</td>\n",
              "      <td>fin_de_semana</td>\n",
              "      <td>2558.830350</td>\n",
              "      <td>752.823635</td>\n",
              "    </tr>\n",
              "    <tr>\n",
              "      <th>997</th>\n",
              "      <td>997</td>\n",
              "      <td>Comercial</td>\n",
              "      <td>88</td>\n",
              "      <td>20</td>\n",
              "      <td>32.18</td>\n",
              "      <td>habil</td>\n",
              "      <td>5167.923798</td>\n",
              "      <td>3932.952963</td>\n",
              "    </tr>\n",
              "    <tr>\n",
              "      <th>998</th>\n",
              "      <td>998</td>\n",
              "      <td>Residencial</td>\n",
              "      <td>67</td>\n",
              "      <td>37</td>\n",
              "      <td>16.48</td>\n",
              "      <td>fin_de_semana</td>\n",
              "      <td>2460.767051</td>\n",
              "      <td>551.695329</td>\n",
              "    </tr>\n",
              "    <tr>\n",
              "      <th>999</th>\n",
              "      <td>999</td>\n",
              "      <td>Comercial</td>\n",
              "      <td>57</td>\n",
              "      <td>11</td>\n",
              "      <td>31.40</td>\n",
              "      <td>habil</td>\n",
              "      <td>3482.848706</td>\n",
              "      <td>1284.031040</td>\n",
              "    </tr>\n",
              "  </tbody>\n",
              "</table>\n",
              "<p>1000 rows × 8 columns</p>\n",
              "</div>"
            ],
            "text/plain": [
              "     id_edificio tipo_edificio  numero_ocupantes  electrodomesticos  \\\n",
              "0              0   Residencial                76                 10   \n",
              "1              1     Comercial                66                 45   \n",
              "2              2    Industrial                37                 17   \n",
              "3              3   Residencial                14                 41   \n",
              "4              4     Comercial                26                 18   \n",
              "..           ...           ...               ...                ...   \n",
              "995          995   Residencial                68                 44   \n",
              "996          996    Industrial                 7                 22   \n",
              "997          997     Comercial                88                 20   \n",
              "998          998   Residencial                67                 37   \n",
              "999          999     Comercial                57                 11   \n",
              "\n",
              "     temperatura_media     dia_semana  consumo_energia  metros_cuadrados  \n",
              "0                29.84          habil      3264.235229       -800.581029  \n",
              "1                16.72  fin_de_semana      6486.624735       4076.513979  \n",
              "2                14.30          habil      4276.656672       2706.630060  \n",
              "3                32.82          habil      3209.388291        805.112632  \n",
              "4                11.92          habil      3266.871261       1175.467038  \n",
              "..                 ...            ...              ...               ...  \n",
              "995              23.95          habil      3318.267025       1499.865640  \n",
              "996              14.67  fin_de_semana      2558.830350        752.823635  \n",
              "997              32.18          habil      5167.923798       3932.952963  \n",
              "998              16.48  fin_de_semana      2460.767051        551.695329  \n",
              "999              31.40          habil      3482.848706       1284.031040  \n",
              "\n",
              "[1000 rows x 8 columns]"
            ]
          },
          "execution_count": 285,
          "metadata": {},
          "output_type": "execute_result"
        }
      ],
      "source": [
        "consumo.head()"
      ]
    },
    {
      "cell_type": "code",
      "execution_count": 286,
      "metadata": {
        "colab": {
          "base_uri": "https://localhost:8080/"
        },
        "id": "4GEwXvYdJYaT",
        "outputId": "6476165c-ef84-491a-c547-7da356e95de2"
      },
      "outputs": [
        {
          "name": "stdout",
          "output_type": "stream",
          "text": [
            "<class 'pandas.core.frame.DataFrame'>\n",
            "RangeIndex: 1000 entries, 0 to 999\n",
            "Data columns (total 8 columns):\n",
            " #   Column             Non-Null Count  Dtype  \n",
            "---  ------             --------------  -----  \n",
            " 0   id_edificio        1000 non-null   int64  \n",
            " 1   tipo_edificio      1000 non-null   object \n",
            " 2   numero_ocupantes   1000 non-null   int64  \n",
            " 3   electrodomesticos  1000 non-null   int64  \n",
            " 4   temperatura_media  1000 non-null   float64\n",
            " 5   dia_semana         1000 non-null   object \n",
            " 6   consumo_energia    1000 non-null   float64\n",
            " 7   metros_cuadrados   1000 non-null   float64\n",
            "dtypes: float64(3), int64(3), object(2)\n",
            "memory usage: 62.6+ KB\n"
          ]
        }
      ],
      "source": [
        "consumo.info()"
      ]
    },
    {
      "cell_type": "code",
      "execution_count": 287,
      "metadata": {
        "colab": {
          "base_uri": "https://localhost:8080/"
        },
        "id": "N7l3ISSHKp4q",
        "outputId": "2748cda7-bbfd-4969-baf4-f18a42d842e1"
      },
      "outputs": [
        {
          "data": {
            "text/plain": [
              "Index(['id_edificio', 'tipo_edificio', 'numero_ocupantes', 'electrodomesticos',\n",
              "       'temperatura_media', 'dia_semana', 'consumo_energia',\n",
              "       'metros_cuadrados'],\n",
              "      dtype='object')"
            ]
          },
          "execution_count": 287,
          "metadata": {},
          "output_type": "execute_result"
        }
      ],
      "source": [
        "consumo.columns"
      ]
    },
    {
      "cell_type": "code",
      "execution_count": 288,
      "metadata": {
        "colab": {
          "base_uri": "https://localhost:8080/",
          "height": 300
        },
        "id": "3PCx4nASKNQS",
        "outputId": "2f020dc2-0006-439f-af42-460383f46a8e"
      },
      "outputs": [
        {
          "data": {
            "application/vnd.microsoft.datawrangler.viewer.v0+json": {
              "columns": [
                {
                  "name": "index",
                  "rawType": "object",
                  "type": "string"
                },
                {
                  "name": "numero_ocupantes",
                  "rawType": "float64",
                  "type": "float"
                },
                {
                  "name": "electrodomesticos",
                  "rawType": "float64",
                  "type": "float"
                },
                {
                  "name": "temperatura_media",
                  "rawType": "float64",
                  "type": "float"
                },
                {
                  "name": "consumo_energia",
                  "rawType": "float64",
                  "type": "float"
                },
                {
                  "name": "metros_cuadrados",
                  "rawType": "float64",
                  "type": "float"
                }
              ],
              "ref": "09c38692-5ffc-4c0a-b311-5af53310c27c",
              "rows": [
                [
                  "count",
                  "1000.0",
                  "1000.0",
                  "1000.0",
                  "1000.0",
                  "1000.0"
                ],
                [
                  "mean",
                  "48.372",
                  "25.606",
                  "22.61139",
                  "4096.041891762611",
                  "2365.8148259904297"
                ],
                [
                  "std",
                  "29.061971960178724",
                  "14.105166419426597",
                  "7.139942517068821",
                  "1034.9962104662534",
                  "1550.6363619174185"
                ],
                [
                  "min",
                  "1.0",
                  "1.0",
                  "10.05",
                  "1302.7488602174565",
                  "-1972.5939767075288"
                ],
                [
                  "25%",
                  "22.0",
                  "13.0",
                  "16.475",
                  "3404.3200131980175",
                  "1193.1543768010417"
                ],
                [
                  "50%",
                  "47.0",
                  "26.0",
                  "22.814999999999998",
                  "4080.7439311157714",
                  "2327.8409426823755"
                ],
                [
                  "75%",
                  "73.25",
                  "38.0",
                  "28.85",
                  "4819.3044582934945",
                  "3582.601752666945"
                ],
                [
                  "max",
                  "99.0",
                  "49.0",
                  "34.99",
                  "7097.948429862843",
                  "6823.252617594946"
                ]
              ],
              "shape": {
                "columns": 5,
                "rows": 8
              }
            },
            "text/html": [
              "<div>\n",
              "<style scoped>\n",
              "    .dataframe tbody tr th:only-of-type {\n",
              "        vertical-align: middle;\n",
              "    }\n",
              "\n",
              "    .dataframe tbody tr th {\n",
              "        vertical-align: top;\n",
              "    }\n",
              "\n",
              "    .dataframe thead th {\n",
              "        text-align: right;\n",
              "    }\n",
              "</style>\n",
              "<table border=\"1\" class=\"dataframe\">\n",
              "  <thead>\n",
              "    <tr style=\"text-align: right;\">\n",
              "      <th></th>\n",
              "      <th>numero_ocupantes</th>\n",
              "      <th>electrodomesticos</th>\n",
              "      <th>temperatura_media</th>\n",
              "      <th>consumo_energia</th>\n",
              "      <th>metros_cuadrados</th>\n",
              "    </tr>\n",
              "  </thead>\n",
              "  <tbody>\n",
              "    <tr>\n",
              "      <th>count</th>\n",
              "      <td>1000.000000</td>\n",
              "      <td>1000.000000</td>\n",
              "      <td>1000.000000</td>\n",
              "      <td>1000.000000</td>\n",
              "      <td>1000.000000</td>\n",
              "    </tr>\n",
              "    <tr>\n",
              "      <th>mean</th>\n",
              "      <td>48.372000</td>\n",
              "      <td>25.606000</td>\n",
              "      <td>22.611390</td>\n",
              "      <td>4096.041892</td>\n",
              "      <td>2365.814826</td>\n",
              "    </tr>\n",
              "    <tr>\n",
              "      <th>std</th>\n",
              "      <td>29.061972</td>\n",
              "      <td>14.105166</td>\n",
              "      <td>7.139943</td>\n",
              "      <td>1034.996210</td>\n",
              "      <td>1550.636362</td>\n",
              "    </tr>\n",
              "    <tr>\n",
              "      <th>min</th>\n",
              "      <td>1.000000</td>\n",
              "      <td>1.000000</td>\n",
              "      <td>10.050000</td>\n",
              "      <td>1302.748860</td>\n",
              "      <td>-1972.593977</td>\n",
              "    </tr>\n",
              "    <tr>\n",
              "      <th>25%</th>\n",
              "      <td>22.000000</td>\n",
              "      <td>13.000000</td>\n",
              "      <td>16.475000</td>\n",
              "      <td>3404.320013</td>\n",
              "      <td>1193.154377</td>\n",
              "    </tr>\n",
              "    <tr>\n",
              "      <th>50%</th>\n",
              "      <td>47.000000</td>\n",
              "      <td>26.000000</td>\n",
              "      <td>22.815000</td>\n",
              "      <td>4080.743931</td>\n",
              "      <td>2327.840943</td>\n",
              "    </tr>\n",
              "    <tr>\n",
              "      <th>75%</th>\n",
              "      <td>73.250000</td>\n",
              "      <td>38.000000</td>\n",
              "      <td>28.850000</td>\n",
              "      <td>4819.304458</td>\n",
              "      <td>3582.601753</td>\n",
              "    </tr>\n",
              "    <tr>\n",
              "      <th>max</th>\n",
              "      <td>99.000000</td>\n",
              "      <td>49.000000</td>\n",
              "      <td>34.990000</td>\n",
              "      <td>7097.948430</td>\n",
              "      <td>6823.252618</td>\n",
              "    </tr>\n",
              "  </tbody>\n",
              "</table>\n",
              "</div>"
            ],
            "text/plain": [
              "       numero_ocupantes  electrodomesticos  temperatura_media  \\\n",
              "count       1000.000000        1000.000000        1000.000000   \n",
              "mean          48.372000          25.606000          22.611390   \n",
              "std           29.061972          14.105166           7.139943   \n",
              "min            1.000000           1.000000          10.050000   \n",
              "25%           22.000000          13.000000          16.475000   \n",
              "50%           47.000000          26.000000          22.815000   \n",
              "75%           73.250000          38.000000          28.850000   \n",
              "max           99.000000          49.000000          34.990000   \n",
              "\n",
              "       consumo_energia  metros_cuadrados  \n",
              "count      1000.000000       1000.000000  \n",
              "mean       4096.041892       2365.814826  \n",
              "std        1034.996210       1550.636362  \n",
              "min        1302.748860      -1972.593977  \n",
              "25%        3404.320013       1193.154377  \n",
              "50%        4080.743931       2327.840943  \n",
              "75%        4819.304458       3582.601753  \n",
              "max        7097.948430       6823.252618  "
            ]
          },
          "execution_count": 288,
          "metadata": {},
          "output_type": "execute_result"
        }
      ],
      "source": [
        "columnas_describe = ['tipo_edificio', \n",
        "                     'numero_ocupantes', \n",
        "                     'electrodomesticos',\n",
        "                     'temperatura_media', \n",
        "                     'dia_semana', \n",
        "                     'consumo_energia',\n",
        "                     'metros_cuadrados']\n",
        "consumo[columnas_describe].describe() # sin id_edificio"
      ]
    },
    {
      "cell_type": "code",
      "execution_count": 289,
      "metadata": {},
      "outputs": [
        {
          "name": "stdout",
          "output_type": "stream",
          "text": [
            "Hay 66 departamentos con el valor de metros cuadrados incorrecto. No pueden ser negativos.\n"
          ]
        }
      ],
      "source": [
        "metros_cuadrados_negativo = (consumo[\"metros_cuadrados\"] <= 0).sum()\n",
        "print(f'Hay {metros_cuadrados_negativo} departamentos con el valor de metros cuadrados incorrecto. No pueden ser negativos.')"
      ]
    },
    {
      "cell_type": "code",
      "execution_count": 290,
      "metadata": {},
      "outputs": [
        {
          "data": {
            "application/vnd.microsoft.datawrangler.viewer.v0+json": {
              "columns": [
                {
                  "name": "index",
                  "rawType": "int64",
                  "type": "integer"
                },
                {
                  "name": "id_edificio",
                  "rawType": "int64",
                  "type": "integer"
                },
                {
                  "name": "tipo_edificio",
                  "rawType": "object",
                  "type": "string"
                },
                {
                  "name": "numero_ocupantes",
                  "rawType": "int64",
                  "type": "integer"
                },
                {
                  "name": "electrodomesticos",
                  "rawType": "int64",
                  "type": "integer"
                },
                {
                  "name": "temperatura_media",
                  "rawType": "float64",
                  "type": "float"
                },
                {
                  "name": "dia_semana",
                  "rawType": "object",
                  "type": "string"
                },
                {
                  "name": "consumo_energia",
                  "rawType": "float64",
                  "type": "float"
                },
                {
                  "name": "metros_cuadrados",
                  "rawType": "float64",
                  "type": "float"
                }
              ],
              "ref": "eddd43c4-6510-450b-aa20-5f20d9a7c678",
              "rows": [
                [
                  "0",
                  "0",
                  "Residencial",
                  "76",
                  "10",
                  "29.84",
                  "habil",
                  "3264.2352289225805",
                  "-800.5810291420312"
                ],
                [
                  "15",
                  "15",
                  "Comercial",
                  "54",
                  "47",
                  "13.56",
                  "fin_de_semana",
                  "3732.892463311391",
                  "-328.9247025144326"
                ],
                [
                  "16",
                  "16",
                  "Comercial",
                  "34",
                  "44",
                  "24.62",
                  "habil",
                  "3084.119209456984",
                  "-1032.146618973958"
                ],
                [
                  "19",
                  "19",
                  "Residencial",
                  "19",
                  "48",
                  "22.67",
                  "habil",
                  "2624.408676615056",
                  "-792.0173839788314"
                ],
                [
                  "38",
                  "38",
                  "Residencial",
                  "31",
                  "13",
                  "15.09",
                  "fin_de_semana",
                  "1977.064115245088",
                  "-354.4209295063308"
                ],
                [
                  "63",
                  "63",
                  "Comercial",
                  "33",
                  "20",
                  "25.24",
                  "fin_de_semana",
                  "2752.70304151664",
                  "-44.486957516809504"
                ],
                [
                  "80",
                  "80",
                  "Comercial",
                  "68",
                  "13",
                  "25.69",
                  "habil",
                  "4050.671943021642",
                  "-504.6546150361001"
                ],
                [
                  "87",
                  "87",
                  "Residencial",
                  "22",
                  "45",
                  "24.88",
                  "fin_de_semana",
                  "2604.412457289552",
                  "-911.4834970421668"
                ],
                [
                  "89",
                  "89",
                  "Comercial",
                  "22",
                  "32",
                  "25.42",
                  "fin_de_semana",
                  "3497.3271317681456",
                  "-27.06227228806793"
                ],
                [
                  "95",
                  "95",
                  "Comercial",
                  "68",
                  "3",
                  "33.63",
                  "fin_de_semana",
                  "3483.6157061197814",
                  "-162.85942497670268"
                ],
                [
                  "104",
                  "104",
                  "Industrial",
                  "3",
                  "12",
                  "28.85",
                  "fin_de_semana",
                  "3098.0649883383685",
                  "-362.7502748856463"
                ],
                [
                  "106",
                  "106",
                  "Comercial",
                  "84",
                  "29",
                  "17.2",
                  "habil",
                  "3809.751385437273",
                  "-491.4466937382119"
                ],
                [
                  "109",
                  "109",
                  "Residencial",
                  "32",
                  "15",
                  "26.19",
                  "fin_de_semana",
                  "2185.0202792390305",
                  "-187.33831722750577"
                ],
                [
                  "153",
                  "153",
                  "Comercial",
                  "42",
                  "27",
                  "15.63",
                  "habil",
                  "3158.904742932946",
                  "-235.0051126853832"
                ],
                [
                  "160",
                  "160",
                  "Residencial",
                  "81",
                  "37",
                  "23.68",
                  "fin_de_semana",
                  "3159.7738706203995",
                  "-373.7692718014399"
                ],
                [
                  "161",
                  "161",
                  "Industrial",
                  "85",
                  "21",
                  "28.01",
                  "fin_de_semana",
                  "3120.1625349271017",
                  "-237.009463000692"
                ],
                [
                  "227",
                  "227",
                  "Residencial",
                  "4",
                  "38",
                  "31.41",
                  "fin_de_semana",
                  "1817.9512551564287",
                  "-281.4149973742885"
                ],
                [
                  "251",
                  "251",
                  "Residencial",
                  "34",
                  "30",
                  "19.68",
                  "habil",
                  "3715.388577193689",
                  "-261.1277544006001"
                ],
                [
                  "252",
                  "252",
                  "Residencial",
                  "11",
                  "2",
                  "29.34",
                  "fin_de_semana",
                  "1734.877799994453",
                  "-1142.2677632902382"
                ],
                [
                  "259",
                  "259",
                  "Industrial",
                  "62",
                  "34",
                  "19.48",
                  "habil",
                  "5103.160683733709",
                  "-1012.0666457982342"
                ],
                [
                  "269",
                  "269",
                  "Comercial",
                  "16",
                  "36",
                  "16.95",
                  "fin_de_semana",
                  "3047.5863458373024",
                  "-1135.2376016494252"
                ],
                [
                  "275",
                  "275",
                  "Industrial",
                  "14",
                  "36",
                  "18.67",
                  "habil",
                  "3295.5520624283145",
                  "-4.5646656581788925"
                ],
                [
                  "280",
                  "280",
                  "Industrial",
                  "37",
                  "23",
                  "34.76",
                  "habil",
                  "2985.512045926377",
                  "-585.3703499451314"
                ],
                [
                  "286",
                  "286",
                  "Industrial",
                  "58",
                  "17",
                  "17.56",
                  "fin_de_semana",
                  "2714.161704781517",
                  "-327.7393116050012"
                ],
                [
                  "300",
                  "300",
                  "Comercial",
                  "64",
                  "45",
                  "13.45",
                  "habil",
                  "4385.032124768387",
                  "-4.814241726199634"
                ],
                [
                  "343",
                  "343",
                  "Comercial",
                  "79",
                  "5",
                  "10.37",
                  "habil",
                  "3016.7202293220275",
                  "-521.891788633849"
                ],
                [
                  "369",
                  "369",
                  "Industrial",
                  "49",
                  "13",
                  "18.44",
                  "fin_de_semana",
                  "3485.8741113411324",
                  "-739.7675375682338"
                ],
                [
                  "392",
                  "392",
                  "Comercial",
                  "39",
                  "18",
                  "16.16",
                  "habil",
                  "3271.811692381814",
                  "-355.02933508120987"
                ],
                [
                  "412",
                  "412",
                  "Industrial",
                  "69",
                  "41",
                  "12.68",
                  "fin_de_semana",
                  "3932.039452588048",
                  "-1972.5939767075288"
                ],
                [
                  "425",
                  "425",
                  "Residencial",
                  "90",
                  "49",
                  "11.14",
                  "fin_de_semana",
                  "3084.1344749479053",
                  "-75.0039519986371"
                ],
                [
                  "439",
                  "439",
                  "Residencial",
                  "45",
                  "12",
                  "34.26",
                  "habil",
                  "1912.896935998326",
                  "-400.8662091332507"
                ],
                [
                  "441",
                  "441",
                  "Comercial",
                  "70",
                  "8",
                  "34.79",
                  "fin_de_semana",
                  "2551.4500305442925",
                  "-1355.517109647354"
                ],
                [
                  "462",
                  "462",
                  "Residencial",
                  "44",
                  "9",
                  "21.22",
                  "habil",
                  "1630.4460694677732",
                  "-349.37219476522057"
                ],
                [
                  "485",
                  "485",
                  "Comercial",
                  "52",
                  "39",
                  "28.23",
                  "fin_de_semana",
                  "3188.215780677584",
                  "-186.2958701459341"
                ],
                [
                  "495",
                  "495",
                  "Industrial",
                  "46",
                  "46",
                  "13.74",
                  "habil",
                  "3582.825661020679",
                  "-38.38855019231611"
                ],
                [
                  "496",
                  "496",
                  "Residencial",
                  "81",
                  "48",
                  "13.6",
                  "fin_de_semana",
                  "3557.281070933267",
                  "-1.5593142437686238"
                ],
                [
                  "498",
                  "498",
                  "Residencial",
                  "98",
                  "2",
                  "15.1",
                  "fin_de_semana",
                  "3057.303122483793",
                  "-107.88777665405264"
                ],
                [
                  "509",
                  "509",
                  "Comercial",
                  "33",
                  "28",
                  "10.16",
                  "habil",
                  "3602.258980649115",
                  "-765.1433806957402"
                ],
                [
                  "512",
                  "512",
                  "Comercial",
                  "74",
                  "38",
                  "15.66",
                  "habil",
                  "2733.3316932528896",
                  "-1373.9947827954898"
                ],
                [
                  "518",
                  "518",
                  "Residencial",
                  "25",
                  "4",
                  "28.84",
                  "fin_de_semana",
                  "1302.7488602174565",
                  "-662.657910579431"
                ],
                [
                  "543",
                  "543",
                  "Comercial",
                  "81",
                  "2",
                  "15.38",
                  "fin_de_semana",
                  "3649.666185935871",
                  "-223.03266896256144"
                ],
                [
                  "564",
                  "564",
                  "Industrial",
                  "7",
                  "32",
                  "15.67",
                  "fin_de_semana",
                  "3427.5966857580506",
                  "-137.3190965583982"
                ],
                [
                  "574",
                  "574",
                  "Industrial",
                  "28",
                  "48",
                  "24.41",
                  "habil",
                  "3162.087504367678",
                  "-41.48589414209561"
                ],
                [
                  "599",
                  "599",
                  "Comercial",
                  "85",
                  "27",
                  "15.09",
                  "habil",
                  "2512.690764342454",
                  "-214.40672850960132"
                ],
                [
                  "606",
                  "606",
                  "Comercial",
                  "72",
                  "18",
                  "26.98",
                  "habil",
                  "3244.40707949436",
                  "-232.0639537690692"
                ],
                [
                  "647",
                  "647",
                  "Comercial",
                  "61",
                  "49",
                  "12.65",
                  "habil",
                  "3150.7335104848025",
                  "-651.383568945855"
                ],
                [
                  "648",
                  "648",
                  "Comercial",
                  "15",
                  "13",
                  "11.71",
                  "habil",
                  "2249.4493232816185",
                  "-844.2213477092387"
                ],
                [
                  "665",
                  "665",
                  "Residencial",
                  "17",
                  "40",
                  "20.5",
                  "habil",
                  "2245.279172046361",
                  "-871.5827217768011"
                ],
                [
                  "685",
                  "685",
                  "Comercial",
                  "15",
                  "34",
                  "21.32",
                  "fin_de_semana",
                  "2934.7794078567617",
                  "-6.588748409023456"
                ],
                [
                  "688",
                  "688",
                  "Comercial",
                  "60",
                  "27",
                  "34.94",
                  "fin_de_semana",
                  "3775.796178918295",
                  "-490.4784104865094"
                ]
              ],
              "shape": {
                "columns": 8,
                "rows": 66
              }
            },
            "text/html": [
              "<div>\n",
              "<style scoped>\n",
              "    .dataframe tbody tr th:only-of-type {\n",
              "        vertical-align: middle;\n",
              "    }\n",
              "\n",
              "    .dataframe tbody tr th {\n",
              "        vertical-align: top;\n",
              "    }\n",
              "\n",
              "    .dataframe thead th {\n",
              "        text-align: right;\n",
              "    }\n",
              "</style>\n",
              "<table border=\"1\" class=\"dataframe\">\n",
              "  <thead>\n",
              "    <tr style=\"text-align: right;\">\n",
              "      <th></th>\n",
              "      <th>id_edificio</th>\n",
              "      <th>tipo_edificio</th>\n",
              "      <th>numero_ocupantes</th>\n",
              "      <th>electrodomesticos</th>\n",
              "      <th>temperatura_media</th>\n",
              "      <th>dia_semana</th>\n",
              "      <th>consumo_energia</th>\n",
              "      <th>metros_cuadrados</th>\n",
              "    </tr>\n",
              "  </thead>\n",
              "  <tbody>\n",
              "    <tr>\n",
              "      <th>0</th>\n",
              "      <td>0</td>\n",
              "      <td>Residencial</td>\n",
              "      <td>76</td>\n",
              "      <td>10</td>\n",
              "      <td>29.84</td>\n",
              "      <td>habil</td>\n",
              "      <td>3264.235229</td>\n",
              "      <td>-800.581029</td>\n",
              "    </tr>\n",
              "    <tr>\n",
              "      <th>15</th>\n",
              "      <td>15</td>\n",
              "      <td>Comercial</td>\n",
              "      <td>54</td>\n",
              "      <td>47</td>\n",
              "      <td>13.56</td>\n",
              "      <td>fin_de_semana</td>\n",
              "      <td>3732.892463</td>\n",
              "      <td>-328.924703</td>\n",
              "    </tr>\n",
              "    <tr>\n",
              "      <th>16</th>\n",
              "      <td>16</td>\n",
              "      <td>Comercial</td>\n",
              "      <td>34</td>\n",
              "      <td>44</td>\n",
              "      <td>24.62</td>\n",
              "      <td>habil</td>\n",
              "      <td>3084.119209</td>\n",
              "      <td>-1032.146619</td>\n",
              "    </tr>\n",
              "    <tr>\n",
              "      <th>19</th>\n",
              "      <td>19</td>\n",
              "      <td>Residencial</td>\n",
              "      <td>19</td>\n",
              "      <td>48</td>\n",
              "      <td>22.67</td>\n",
              "      <td>habil</td>\n",
              "      <td>2624.408677</td>\n",
              "      <td>-792.017384</td>\n",
              "    </tr>\n",
              "    <tr>\n",
              "      <th>38</th>\n",
              "      <td>38</td>\n",
              "      <td>Residencial</td>\n",
              "      <td>31</td>\n",
              "      <td>13</td>\n",
              "      <td>15.09</td>\n",
              "      <td>fin_de_semana</td>\n",
              "      <td>1977.064115</td>\n",
              "      <td>-354.420930</td>\n",
              "    </tr>\n",
              "    <tr>\n",
              "      <th>...</th>\n",
              "      <td>...</td>\n",
              "      <td>...</td>\n",
              "      <td>...</td>\n",
              "      <td>...</td>\n",
              "      <td>...</td>\n",
              "      <td>...</td>\n",
              "      <td>...</td>\n",
              "      <td>...</td>\n",
              "    </tr>\n",
              "    <tr>\n",
              "      <th>889</th>\n",
              "      <td>889</td>\n",
              "      <td>Residencial</td>\n",
              "      <td>16</td>\n",
              "      <td>10</td>\n",
              "      <td>26.17</td>\n",
              "      <td>habil</td>\n",
              "      <td>1307.441130</td>\n",
              "      <td>-190.516798</td>\n",
              "    </tr>\n",
              "    <tr>\n",
              "      <th>900</th>\n",
              "      <td>900</td>\n",
              "      <td>Residencial</td>\n",
              "      <td>20</td>\n",
              "      <td>33</td>\n",
              "      <td>13.16</td>\n",
              "      <td>habil</td>\n",
              "      <td>2595.861370</td>\n",
              "      <td>-388.580389</td>\n",
              "    </tr>\n",
              "    <tr>\n",
              "      <th>920</th>\n",
              "      <td>920</td>\n",
              "      <td>Comercial</td>\n",
              "      <td>66</td>\n",
              "      <td>37</td>\n",
              "      <td>28.67</td>\n",
              "      <td>fin_de_semana</td>\n",
              "      <td>3926.746675</td>\n",
              "      <td>-527.852946</td>\n",
              "    </tr>\n",
              "    <tr>\n",
              "      <th>983</th>\n",
              "      <td>983</td>\n",
              "      <td>Residencial</td>\n",
              "      <td>65</td>\n",
              "      <td>46</td>\n",
              "      <td>20.94</td>\n",
              "      <td>fin_de_semana</td>\n",
              "      <td>3599.104447</td>\n",
              "      <td>-300.085437</td>\n",
              "    </tr>\n",
              "    <tr>\n",
              "      <th>984</th>\n",
              "      <td>984</td>\n",
              "      <td>Residencial</td>\n",
              "      <td>60</td>\n",
              "      <td>46</td>\n",
              "      <td>24.71</td>\n",
              "      <td>habil</td>\n",
              "      <td>3272.260070</td>\n",
              "      <td>-164.436905</td>\n",
              "    </tr>\n",
              "  </tbody>\n",
              "</table>\n",
              "<p>66 rows × 8 columns</p>\n",
              "</div>"
            ],
            "text/plain": [
              "     id_edificio tipo_edificio  numero_ocupantes  electrodomesticos  \\\n",
              "0              0   Residencial                76                 10   \n",
              "15            15     Comercial                54                 47   \n",
              "16            16     Comercial                34                 44   \n",
              "19            19   Residencial                19                 48   \n",
              "38            38   Residencial                31                 13   \n",
              "..           ...           ...               ...                ...   \n",
              "889          889   Residencial                16                 10   \n",
              "900          900   Residencial                20                 33   \n",
              "920          920     Comercial                66                 37   \n",
              "983          983   Residencial                65                 46   \n",
              "984          984   Residencial                60                 46   \n",
              "\n",
              "     temperatura_media     dia_semana  consumo_energia  metros_cuadrados  \n",
              "0                29.84          habil      3264.235229       -800.581029  \n",
              "15               13.56  fin_de_semana      3732.892463       -328.924703  \n",
              "16               24.62          habil      3084.119209      -1032.146619  \n",
              "19               22.67          habil      2624.408677       -792.017384  \n",
              "38               15.09  fin_de_semana      1977.064115       -354.420930  \n",
              "..                 ...            ...              ...               ...  \n",
              "889              26.17          habil      1307.441130       -190.516798  \n",
              "900              13.16          habil      2595.861370       -388.580389  \n",
              "920              28.67  fin_de_semana      3926.746675       -527.852946  \n",
              "983              20.94  fin_de_semana      3599.104447       -300.085437  \n",
              "984              24.71          habil      3272.260070       -164.436905  \n",
              "\n",
              "[66 rows x 8 columns]"
            ]
          },
          "execution_count": 290,
          "metadata": {},
          "output_type": "execute_result"
        }
      ],
      "source": [
        "consumo[consumo[\"metros_cuadrados\"] <= 0]"
      ]
    },
    {
      "cell_type": "code",
      "execution_count": null,
      "metadata": {},
      "outputs": [],
      "source": []
    },
    {
      "cell_type": "code",
      "execution_count": 291,
      "metadata": {
        "id": "ytTIS1bQK6JG"
      },
      "outputs": [],
      "source": [
        "# acá noto que metros_cuadrados tiene valores en negativo. Esto no tiene sentido.\n",
        "# tome la decisión de aplicarles el valor absoluto a aquellos valores negativos\n",
        "# suponiendo que debió haber sido un error\n",
        "consumo['metros_cuadrados'] = consumo['metros_cuadrados'].apply(lambda x: x if x>= 0 else abs(x))"
      ]
    },
    {
      "cell_type": "code",
      "execution_count": 292,
      "metadata": {
        "colab": {
          "base_uri": "https://localhost:8080/",
          "height": 300
        },
        "id": "cYHgyKlALfmV",
        "outputId": "b8a89608-b1da-49d7-df25-452eee88bd7e"
      },
      "outputs": [
        {
          "data": {
            "application/vnd.microsoft.datawrangler.viewer.v0+json": {
              "columns": [
                {
                  "name": "index",
                  "rawType": "object",
                  "type": "string"
                },
                {
                  "name": "numero_ocupantes",
                  "rawType": "float64",
                  "type": "float"
                },
                {
                  "name": "electrodomesticos",
                  "rawType": "float64",
                  "type": "float"
                },
                {
                  "name": "temperatura_media",
                  "rawType": "float64",
                  "type": "float"
                },
                {
                  "name": "consumo_energia",
                  "rawType": "float64",
                  "type": "float"
                },
                {
                  "name": "metros_cuadrados",
                  "rawType": "float64",
                  "type": "float"
                }
              ],
              "ref": "031d0d62-ceef-4224-8da4-4d25e92385d7",
              "rows": [
                [
                  "count",
                  "1000.0",
                  "1000.0",
                  "1000.0",
                  "1000.0",
                  "1000.0"
                ],
                [
                  "mean",
                  "48.372",
                  "25.606",
                  "22.61139",
                  "4096.041891762611",
                  "2423.62868210675"
                ],
                [
                  "std",
                  "29.061971960178724",
                  "14.105166419426597",
                  "7.139942517068821",
                  "1034.9962104662534",
                  "1458.5265700956181"
                ],
                [
                  "min",
                  "1.0",
                  "1.0",
                  "10.05",
                  "1302.7488602174565",
                  "1.5593142437686238"
                ],
                [
                  "25%",
                  "22.0",
                  "13.0",
                  "16.475",
                  "3404.3200131980175",
                  "1227.3415678371687"
                ],
                [
                  "50%",
                  "47.0",
                  "26.0",
                  "22.814999999999998",
                  "4080.7439311157714",
                  "2327.8409426823755"
                ],
                [
                  "75%",
                  "73.25",
                  "38.0",
                  "28.85",
                  "4819.3044582934945",
                  "3582.601752666945"
                ],
                [
                  "max",
                  "99.0",
                  "49.0",
                  "34.99",
                  "7097.948429862843",
                  "6823.252617594946"
                ]
              ],
              "shape": {
                "columns": 5,
                "rows": 8
              }
            },
            "text/html": [
              "<div>\n",
              "<style scoped>\n",
              "    .dataframe tbody tr th:only-of-type {\n",
              "        vertical-align: middle;\n",
              "    }\n",
              "\n",
              "    .dataframe tbody tr th {\n",
              "        vertical-align: top;\n",
              "    }\n",
              "\n",
              "    .dataframe thead th {\n",
              "        text-align: right;\n",
              "    }\n",
              "</style>\n",
              "<table border=\"1\" class=\"dataframe\">\n",
              "  <thead>\n",
              "    <tr style=\"text-align: right;\">\n",
              "      <th></th>\n",
              "      <th>numero_ocupantes</th>\n",
              "      <th>electrodomesticos</th>\n",
              "      <th>temperatura_media</th>\n",
              "      <th>consumo_energia</th>\n",
              "      <th>metros_cuadrados</th>\n",
              "    </tr>\n",
              "  </thead>\n",
              "  <tbody>\n",
              "    <tr>\n",
              "      <th>count</th>\n",
              "      <td>1000.000000</td>\n",
              "      <td>1000.000000</td>\n",
              "      <td>1000.000000</td>\n",
              "      <td>1000.000000</td>\n",
              "      <td>1000.000000</td>\n",
              "    </tr>\n",
              "    <tr>\n",
              "      <th>mean</th>\n",
              "      <td>48.372000</td>\n",
              "      <td>25.606000</td>\n",
              "      <td>22.611390</td>\n",
              "      <td>4096.041892</td>\n",
              "      <td>2423.628682</td>\n",
              "    </tr>\n",
              "    <tr>\n",
              "      <th>std</th>\n",
              "      <td>29.061972</td>\n",
              "      <td>14.105166</td>\n",
              "      <td>7.139943</td>\n",
              "      <td>1034.996210</td>\n",
              "      <td>1458.526570</td>\n",
              "    </tr>\n",
              "    <tr>\n",
              "      <th>min</th>\n",
              "      <td>1.000000</td>\n",
              "      <td>1.000000</td>\n",
              "      <td>10.050000</td>\n",
              "      <td>1302.748860</td>\n",
              "      <td>1.559314</td>\n",
              "    </tr>\n",
              "    <tr>\n",
              "      <th>25%</th>\n",
              "      <td>22.000000</td>\n",
              "      <td>13.000000</td>\n",
              "      <td>16.475000</td>\n",
              "      <td>3404.320013</td>\n",
              "      <td>1227.341568</td>\n",
              "    </tr>\n",
              "    <tr>\n",
              "      <th>50%</th>\n",
              "      <td>47.000000</td>\n",
              "      <td>26.000000</td>\n",
              "      <td>22.815000</td>\n",
              "      <td>4080.743931</td>\n",
              "      <td>2327.840943</td>\n",
              "    </tr>\n",
              "    <tr>\n",
              "      <th>75%</th>\n",
              "      <td>73.250000</td>\n",
              "      <td>38.000000</td>\n",
              "      <td>28.850000</td>\n",
              "      <td>4819.304458</td>\n",
              "      <td>3582.601753</td>\n",
              "    </tr>\n",
              "    <tr>\n",
              "      <th>max</th>\n",
              "      <td>99.000000</td>\n",
              "      <td>49.000000</td>\n",
              "      <td>34.990000</td>\n",
              "      <td>7097.948430</td>\n",
              "      <td>6823.252618</td>\n",
              "    </tr>\n",
              "  </tbody>\n",
              "</table>\n",
              "</div>"
            ],
            "text/plain": [
              "       numero_ocupantes  electrodomesticos  temperatura_media  \\\n",
              "count       1000.000000        1000.000000        1000.000000   \n",
              "mean          48.372000          25.606000          22.611390   \n",
              "std           29.061972          14.105166           7.139943   \n",
              "min            1.000000           1.000000          10.050000   \n",
              "25%           22.000000          13.000000          16.475000   \n",
              "50%           47.000000          26.000000          22.815000   \n",
              "75%           73.250000          38.000000          28.850000   \n",
              "max           99.000000          49.000000          34.990000   \n",
              "\n",
              "       consumo_energia  metros_cuadrados  \n",
              "count      1000.000000       1000.000000  \n",
              "mean       4096.041892       2423.628682  \n",
              "std        1034.996210       1458.526570  \n",
              "min        1302.748860          1.559314  \n",
              "25%        3404.320013       1227.341568  \n",
              "50%        4080.743931       2327.840943  \n",
              "75%        4819.304458       3582.601753  \n",
              "max        7097.948430       6823.252618  "
            ]
          },
          "execution_count": 292,
          "metadata": {},
          "output_type": "execute_result"
        }
      ],
      "source": [
        "consumo[columnas_describe].describe() # sin id_edificio"
      ]
    },
    {
      "cell_type": "code",
      "execution_count": 293,
      "metadata": {
        "colab": {
          "base_uri": "https://localhost:8080/"
        },
        "id": "lAOggbQ7KPR1",
        "outputId": "f5f9bb9b-b9f8-4399-ec77-12df65e61c16"
      },
      "outputs": [
        {
          "data": {
            "text/plain": [
              "(1000, 8)"
            ]
          },
          "execution_count": 293,
          "metadata": {},
          "output_type": "execute_result"
        }
      ],
      "source": [
        "consumo.shape"
      ]
    },
    {
      "cell_type": "markdown",
      "metadata": {
        "id": "QjLUoTAgL8Jw"
      },
      "source": [
        "Misma cantidad de filas (1000) que barrios, no habría problema en aplicar un merge entre los dos datatsets"
      ]
    },
    {
      "cell_type": "code",
      "execution_count": 294,
      "metadata": {
        "colab": {
          "base_uri": "https://localhost:8080/"
        },
        "id": "AhccBJMaKVP-",
        "outputId": "4fd3e308-43ed-4a2c-a287-dc66cc5fc67e"
      },
      "outputs": [
        {
          "name": "stdout",
          "output_type": "stream",
          "text": [
            "id_edificio          0\n",
            "tipo_edificio        0\n",
            "numero_ocupantes     0\n",
            "electrodomesticos    0\n",
            "temperatura_media    0\n",
            "dia_semana           0\n",
            "consumo_energia      0\n",
            "metros_cuadrados     0\n",
            "dtype: int64\n"
          ]
        }
      ],
      "source": [
        "print(consumo.isnull().sum())"
      ]
    },
    {
      "cell_type": "code",
      "execution_count": 295,
      "metadata": {
        "colab": {
          "base_uri": "https://localhost:8080/"
        },
        "id": "Akr4HSpCKY89",
        "outputId": "ba90acf2-b511-4f82-cd89-09a5d1447010"
      },
      "outputs": [
        {
          "name": "stdout",
          "output_type": "stream",
          "text": [
            "0\n"
          ]
        }
      ],
      "source": [
        "print(barrio.duplicated().sum())"
      ]
    },
    {
      "cell_type": "code",
      "execution_count": 296,
      "metadata": {
        "id": "mEW6oTowMYSV"
      },
      "outputs": [],
      "source": [
        "df = pd.merge(\n",
        "    left=barrio,\n",
        "    right=consumo,\n",
        "    left_on='id_edificio',\n",
        "    right_on='id_edificio',\n",
        "    how='inner'\n",
        ")"
      ]
    },
    {
      "cell_type": "markdown",
      "metadata": {
        "id": "4AeS4oUQMDkO"
      },
      "source": [
        "Ambos datasets tienen 1000 registros"
      ]
    },
    {
      "cell_type": "code",
      "execution_count": 297,
      "metadata": {
        "colab": {
          "base_uri": "https://localhost:8080/"
        },
        "id": "9j2F9XnZMPBs",
        "outputId": "04769814-9b1d-496c-86a0-9fdf0b8d160c"
      },
      "outputs": [
        {
          "data": {
            "text/plain": [
              "Index(['id_edificio', 'barrio', 'tipo_edificio', 'numero_ocupantes',\n",
              "       'electrodomesticos', 'temperatura_media', 'dia_semana',\n",
              "       'consumo_energia', 'metros_cuadrados'],\n",
              "      dtype='object')"
            ]
          },
          "execution_count": 297,
          "metadata": {},
          "output_type": "execute_result"
        }
      ],
      "source": [
        "df.columns"
      ]
    },
    {
      "cell_type": "markdown",
      "metadata": {
        "id": "In75gYnfMJ-y"
      },
      "source": [
        "### Ejercicio 2"
      ]
    },
    {
      "cell_type": "code",
      "execution_count": 298,
      "metadata": {
        "colab": {
          "base_uri": "https://localhost:8080/"
        },
        "id": "K3OZiLlcMz5b",
        "outputId": "88ea434a-c7c8-4825-8124-66ebebb322d0"
      },
      "outputs": [
        {
          "data": {
            "text/plain": [
              "array(['Residencial', 'Comercial', 'Industrial'], dtype=object)"
            ]
          },
          "execution_count": 298,
          "metadata": {},
          "output_type": "execute_result"
        }
      ],
      "source": [
        "df[\"tipo_edificio\"].unique()"
      ]
    },
    {
      "cell_type": "code",
      "execution_count": 299,
      "metadata": {
        "colab": {
          "base_uri": "https://localhost:8080/",
          "height": 474
        },
        "id": "3a1c6yohML9U",
        "outputId": "a3641106-f523-4f95-9fee-2c54dbba2698"
      },
      "outputs": [
        {
          "data": {
            "image/png": "[encoded data removed]",
            "text/plain": [
              "<Figure size 640x480 with 1 Axes>"
            ]
          },
          "metadata": {},
          "output_type": "display_data"
        }
      ],
      "source": [
        "#sns.histplot(df, x='consumo_energia', hue='tipo_edificio', kde=True)\n",
        "sns.boxplot(df, x='consumo_energia', hue='tipo_edificio', palette='pastel')\n",
        "plt.title(\"Distribución de consumo de energía por tipo de edificio\", fontsize=14, weight='bold')\n",
        "plt.ylabel(\"Edificios\", weight='bold')\n",
        "plt.xlabel(\"Consumo (en KWh)\", weight='bold')\n",
        "plt.show()"
      ]
    },
    {
      "cell_type": "markdown",
      "metadata": {
        "id": "eacjowcXNkfn"
      },
      "source": [
        "La explicación a la clienta podría ser\n",
        "Los edificios de tipo industrial tienen un consumo mayor al resto, comenzando aproximadamente en 2200KWh extendiendose hasta los 7000KWh.La mayoría de estos se concentran entre 4000 y 5500 KWh.\n",
        "\n",
        "Le siguen los comerciales, Que van desde apenas un poco menos de 2000KWh hasta los 6500 aproximadamente y poseen la mayor concentración entre 3500 y 4500 KWh\n",
        "\n",
        "Luego, los de menos consumo son los residenciales, con un consumo que va desde 1500KWh hasta los 6000, y sus valores se concentran entre 3900 y 4100 KWh"
      ]
    },
    {
      "cell_type": "markdown",
      "metadata": {
        "id": "Z-A8qZJVOcSJ"
      },
      "source": [
        "### Ejercicio 3"
      ]
    },
    {
      "cell_type": "code",
      "execution_count": 300,
      "metadata": {
        "colab": {
          "base_uri": "https://localhost:8080/",
          "height": 474
        },
        "id": "5dn72TS-M66g",
        "outputId": "e3f8bfea-c4b8-4e93-d5e3-247420b60457"
      },
      "outputs": [
        {
          "data": {
            "image/png": "[encoded data removed]",
            "text/plain": [
              "<Figure size 640x480 with 1 Axes>"
            ]
          },
          "metadata": {},
          "output_type": "display_data"
        }
      ],
      "source": [
        "sns.histplot(df, x='temperatura_media', kde=True)\n",
        "plt.title(\"Distribución de la variable temperatura\", fontsize=14, weight='bold')\n",
        "plt.ylabel(\"Frecuencia\", weight='bold')\n",
        "plt.xlabel(\"Temperatura\", weight='bold')\n",
        "plt.show()"
      ]
    },
    {
      "cell_type": "markdown",
      "metadata": {
        "id": "78otfe_kOzrq"
      },
      "source": [
        "No parece ser cierto que los datos de temperatura estén sesgados, están distribuidos simétricamente."
      ]
    },
    {
      "cell_type": "markdown",
      "metadata": {
        "id": "L5eQaxBbO9p7"
      },
      "source": [
        "### Ejercicio 4"
      ]
    },
    {
      "cell_type": "code",
      "execution_count": 301,
      "metadata": {
        "colab": {
          "base_uri": "https://localhost:8080/",
          "height": 226
        },
        "id": "bDmJJCHAPfIp",
        "outputId": "ab91b7b6-cf16-43a4-c4f1-36e7dccbc33d"
      },
      "outputs": [
        {
          "data": {
            "application/vnd.microsoft.datawrangler.viewer.v0+json": {
              "columns": [
                {
                  "name": "index",
                  "rawType": "int64",
                  "type": "integer"
                },
                {
                  "name": "id_edificio",
                  "rawType": "int64",
                  "type": "integer"
                },
                {
                  "name": "barrio",
                  "rawType": "object",
                  "type": "string"
                },
                {
                  "name": "tipo_edificio",
                  "rawType": "object",
                  "type": "string"
                },
                {
                  "name": "numero_ocupantes",
                  "rawType": "int64",
                  "type": "integer"
                },
                {
                  "name": "electrodomesticos",
                  "rawType": "int64",
                  "type": "integer"
                },
                {
                  "name": "temperatura_media",
                  "rawType": "float64",
                  "type": "float"
                },
                {
                  "name": "dia_semana",
                  "rawType": "object",
                  "type": "string"
                },
                {
                  "name": "consumo_energia",
                  "rawType": "float64",
                  "type": "float"
                },
                {
                  "name": "metros_cuadrados",
                  "rawType": "float64",
                  "type": "float"
                }
              ],
              "ref": "4261afd5-22d1-4355-8292-d45910e74605",
              "rows": [
                [
                  "0",
                  "0",
                  "Norte",
                  "Residencial",
                  "76",
                  "10",
                  "29.84",
                  "habil",
                  "3264.2352289225805",
                  "800.5810291420312"
                ],
                [
                  "1",
                  "1",
                  "Norte",
                  "Comercial",
                  "66",
                  "45",
                  "16.72",
                  "fin_de_semana",
                  "6486.624734805464",
                  "4076.513978752818"
                ],
                [
                  "2",
                  "2",
                  "Norte",
                  "Industrial",
                  "37",
                  "17",
                  "14.3",
                  "habil",
                  "4276.656672459831",
                  "2706.630059768273"
                ],
                [
                  "3",
                  "3",
                  "Centro",
                  "Residencial",
                  "14",
                  "41",
                  "32.82",
                  "habil",
                  "3209.3882913880952",
                  "805.1126316957763"
                ],
                [
                  "4",
                  "4",
                  "Oeste",
                  "Comercial",
                  "26",
                  "18",
                  "11.92",
                  "habil",
                  "3266.8712609079644",
                  "1175.46703824612"
                ]
              ],
              "shape": {
                "columns": 9,
                "rows": 5
              }
            },
            "text/html": [
              "<div>\n",
              "<style scoped>\n",
              "    .dataframe tbody tr th:only-of-type {\n",
              "        vertical-align: middle;\n",
              "    }\n",
              "\n",
              "    .dataframe tbody tr th {\n",
              "        vertical-align: top;\n",
              "    }\n",
              "\n",
              "    .dataframe thead th {\n",
              "        text-align: right;\n",
              "    }\n",
              "</style>\n",
              "<table border=\"1\" class=\"dataframe\">\n",
              "  <thead>\n",
              "    <tr style=\"text-align: right;\">\n",
              "      <th></th>\n",
              "      <th>id_edificio</th>\n",
              "      <th>barrio</th>\n",
              "      <th>tipo_edificio</th>\n",
              "      <th>numero_ocupantes</th>\n",
              "      <th>electrodomesticos</th>\n",
              "      <th>temperatura_media</th>\n",
              "      <th>dia_semana</th>\n",
              "      <th>consumo_energia</th>\n",
              "      <th>metros_cuadrados</th>\n",
              "    </tr>\n",
              "  </thead>\n",
              "  <tbody>\n",
              "    <tr>\n",
              "      <th>0</th>\n",
              "      <td>0</td>\n",
              "      <td>Norte</td>\n",
              "      <td>Residencial</td>\n",
              "      <td>76</td>\n",
              "      <td>10</td>\n",
              "      <td>29.84</td>\n",
              "      <td>habil</td>\n",
              "      <td>3264.235229</td>\n",
              "      <td>800.581029</td>\n",
              "    </tr>\n",
              "    <tr>\n",
              "      <th>1</th>\n",
              "      <td>1</td>\n",
              "      <td>Norte</td>\n",
              "      <td>Comercial</td>\n",
              "      <td>66</td>\n",
              "      <td>45</td>\n",
              "      <td>16.72</td>\n",
              "      <td>fin_de_semana</td>\n",
              "      <td>6486.624735</td>\n",
              "      <td>4076.513979</td>\n",
              "    </tr>\n",
              "    <tr>\n",
              "      <th>2</th>\n",
              "      <td>2</td>\n",
              "      <td>Norte</td>\n",
              "      <td>Industrial</td>\n",
              "      <td>37</td>\n",
              "      <td>17</td>\n",
              "      <td>14.30</td>\n",
              "      <td>habil</td>\n",
              "      <td>4276.656672</td>\n",
              "      <td>2706.630060</td>\n",
              "    </tr>\n",
              "    <tr>\n",
              "      <th>3</th>\n",
              "      <td>3</td>\n",
              "      <td>Centro</td>\n",
              "      <td>Residencial</td>\n",
              "      <td>14</td>\n",
              "      <td>41</td>\n",
              "      <td>32.82</td>\n",
              "      <td>habil</td>\n",
              "      <td>3209.388291</td>\n",
              "      <td>805.112632</td>\n",
              "    </tr>\n",
              "    <tr>\n",
              "      <th>4</th>\n",
              "      <td>4</td>\n",
              "      <td>Oeste</td>\n",
              "      <td>Comercial</td>\n",
              "      <td>26</td>\n",
              "      <td>18</td>\n",
              "      <td>11.92</td>\n",
              "      <td>habil</td>\n",
              "      <td>3266.871261</td>\n",
              "      <td>1175.467038</td>\n",
              "    </tr>\n",
              "  </tbody>\n",
              "</table>\n",
              "</div>"
            ],
            "text/plain": [
              "   id_edificio  barrio tipo_edificio  numero_ocupantes  electrodomesticos  \\\n",
              "0            0   Norte   Residencial                76                 10   \n",
              "1            1   Norte     Comercial                66                 45   \n",
              "2            2   Norte    Industrial                37                 17   \n",
              "3            3  Centro   Residencial                14                 41   \n",
              "4            4   Oeste     Comercial                26                 18   \n",
              "\n",
              "   temperatura_media     dia_semana  consumo_energia  metros_cuadrados  \n",
              "0              29.84          habil      3264.235229        800.581029  \n",
              "1              16.72  fin_de_semana      6486.624735       4076.513979  \n",
              "2              14.30          habil      4276.656672       2706.630060  \n",
              "3              32.82          habil      3209.388291        805.112632  \n",
              "4              11.92          habil      3266.871261       1175.467038  "
            ]
          },
          "execution_count": 301,
          "metadata": {},
          "output_type": "execute_result"
        }
      ],
      "source": [
        "df.head()"
      ]
    },
    {
      "cell_type": "code",
      "execution_count": 302,
      "metadata": {
        "colab": {
          "base_uri": "https://localhost:8080/"
        },
        "id": "VPf5bGOMOlfF",
        "outputId": "68b29888-c079-4bc3-da0d-15ca82bab897"
      },
      "outputs": [
        {
          "data": {
            "text/plain": [
              "Index(['id_edificio', 'barrio', 'tipo_edificio', 'numero_ocupantes',\n",
              "       'electrodomesticos', 'temperatura_media', 'dia_semana',\n",
              "       'consumo_energia', 'metros_cuadrados'],\n",
              "      dtype='object')"
            ]
          },
          "execution_count": 302,
          "metadata": {},
          "output_type": "execute_result"
        }
      ],
      "source": [
        "df.columns"
      ]
    },
    {
      "cell_type": "code",
      "execution_count": 303,
      "metadata": {
        "colab": {
          "base_uri": "https://localhost:8080/",
          "height": 487
        },
        "id": "zECE-6Z5PDgM",
        "outputId": "0c6094c7-b4f3-4117-ffe6-1f9cf7902757"
      },
      "outputs": [
        {
          "data": {
            "image/png": "[encoded data removed]",
            "text/plain": [
              "<Figure size 640x480 with 2 Axes>"
            ]
          },
          "metadata": {},
          "output_type": "display_data"
        }
      ],
      "source": [
        "columnas_correlacionar = ['numero_ocupantes',\n",
        "       'electrodomesticos', 'temperatura_media',\n",
        "       'consumo_energia', 'metros_cuadrados']\n",
        "sns.heatmap(df[columnas_correlacionar].corr(), annot=True, cmap='coolwarm')\n",
        "plt.title(\"Correlograma de las variables numéricas del dataset\", fontsize=14, weight='bold')\n",
        "plt.tight_layout()\n",
        "plt.show()"
      ]
    },
    {
      "cell_type": "markdown",
      "metadata": {
        "id": "qolbx5zeP0LY"
      },
      "source": [
        "### Ejercicio 5"
      ]
    },
    {
      "cell_type": "code",
      "execution_count": 304,
      "metadata": {
        "colab": {
          "base_uri": "https://localhost:8080/",
          "height": 474
        },
        "id": "nISbKGMRPt3c",
        "outputId": "57db4666-7252-471d-814b-6cde233a0101"
      },
      "outputs": [
        {
          "data": {
            "image/png": "[encoded data removed]",
            "text/plain": [
              "<Figure size 640x480 with 1 Axes>"
            ]
          },
          "metadata": {},
          "output_type": "display_data"
        }
      ],
      "source": [
        "sns.scatterplot(df, x='consumo_energia', y='numero_ocupantes')\n",
        "plt.title(\"Relación entre número de ocupantes y consumo\", fontsize=14, weight='bold')\n",
        "plt.ylabel(\"Número de ocupantes\", weight='bold')\n",
        "plt.xlabel(\"Consumo (en KWh)\", weight='bold')\n",
        "plt.show()"
      ]
    },
    {
      "cell_type": "markdown",
      "metadata": {
        "id": "C0_qHNGnQG5d"
      },
      "source": [
        "Parece haber una relación directa muy ligera. Pero principalmente los datos muestran una nube sin una relación lineal identificable.\n",
        "\n",
        "El correlograma nos muestra que el valor de correlación de pearson es de 0.32 entre estas dos variables. Por eso podría verse la sutil relación directa pero muy ligera.\n"
      ]
    },
    {
      "cell_type": "markdown",
      "metadata": {
        "id": "Yqf19iXoQ71G"
      },
      "source": [
        "## Parte 2"
      ]
    },
    {
      "cell_type": "code",
      "execution_count": 305,
      "metadata": {
        "colab": {
          "base_uri": "https://localhost:8080/"
        },
        "id": "IS_KwijYVCv_",
        "outputId": "94110c77-245f-466a-fb92-7e4735cc84d7"
      },
      "outputs": [
        {
          "data": {
            "text/plain": [
              "['numero_ocupantes',\n",
              " 'electrodomesticos',\n",
              " 'temperatura_media',\n",
              " 'consumo_energia',\n",
              " 'metros_cuadrados']"
            ]
          },
          "execution_count": 305,
          "metadata": {},
          "output_type": "execute_result"
        }
      ],
      "source": [
        "columnas_correlacionar"
      ]
    },
    {
      "cell_type": "code",
      "execution_count": 306,
      "metadata": {
        "colab": {
          "base_uri": "https://localhost:8080/",
          "height": 663
        },
        "id": "9dxTVcqpP8fq",
        "outputId": "5c1124f4-e351-4a9f-bf8f-b9d85b1c02b2"
      },
      "outputs": [
        {
          "data": {
            "image/png": "[encoded data removed]",
            "text/plain": [
              "<Figure size 1200x800 with 4 Axes>"
            ]
          },
          "metadata": {},
          "output_type": "display_data"
        }
      ],
      "source": [
        "from sklearn.preprocessing import StandardScaler\n",
        "columnas_relevantes = ['numero_ocupantes','electrodomesticos','consumo_energia','metros_cuadrados']\n",
        "# Quito temperatura porque no tiene relación lineal con ninguna otra variable\n",
        "std_scaler = StandardScaler()\n",
        "df_std = pd.DataFrame(std_scaler.fit_transform(df[columnas_relevantes]), columns=columnas_relevantes)\n",
        "\n",
        "fig, axes = plt.subplots(2,2,figsize=(12,8))\n",
        "sns.histplot(df,kde=True, ax=axes[0,0])\n",
        "sns.histplot(df_std,kde=True, ax=axes[1,0])\n",
        "sns.boxplot(df, ax=axes[0,1], orient='h')\n",
        "sns.boxplot(df_std, ax=axes[1,1], orient='h')\n",
        "axes[0,0].set_title(\"DataFrame original\")\n",
        "axes[1,0].set_title(\"DataFrame estandarizado\")\n",
        "plt.tight_layout()\n",
        "plt.show()"
      ]
    },
    {
      "cell_type": "code",
      "execution_count": 307,
      "metadata": {
        "colab": {
          "base_uri": "https://localhost:8080/"
        },
        "id": "W_9gzVqsTAAI",
        "outputId": "18658f05-090a-45cb-f911-7437c7325c4c"
      },
      "outputs": [
        {
          "name": "stdout",
          "output_type": "stream",
          "text": [
            "<class 'pandas.core.frame.DataFrame'>\n",
            "RangeIndex: 1000 entries, 0 to 999\n",
            "Data columns (total 4 columns):\n",
            " #   Column             Non-Null Count  Dtype  \n",
            "---  ------             --------------  -----  \n",
            " 0   numero_ocupantes   1000 non-null   float64\n",
            " 1   electrodomesticos  1000 non-null   float64\n",
            " 2   consumo_energia    1000 non-null   float64\n",
            " 3   metros_cuadrados   1000 non-null   float64\n",
            "dtypes: float64(4)\n",
            "memory usage: 31.4 KB\n"
          ]
        }
      ],
      "source": [
        "df_std.info()"
      ]
    },
    {
      "cell_type": "code",
      "execution_count": 308,
      "metadata": {
        "colab": {
          "base_uri": "https://localhost:8080/",
          "height": 206
        },
        "id": "rbfVNw3nTPSH",
        "outputId": "8582d5b5-5eec-4d01-89ab-29315b1e63dc"
      },
      "outputs": [
        {
          "data": {
            "application/vnd.microsoft.datawrangler.viewer.v0+json": {
              "columns": [
                {
                  "name": "index",
                  "rawType": "int64",
                  "type": "integer"
                },
                {
                  "name": "numero_ocupantes",
                  "rawType": "float64",
                  "type": "float"
                },
                {
                  "name": "electrodomesticos",
                  "rawType": "float64",
                  "type": "float"
                },
                {
                  "name": "consumo_energia",
                  "rawType": "float64",
                  "type": "float"
                },
                {
                  "name": "metros_cuadrados",
                  "rawType": "float64",
                  "type": "float"
                }
              ],
              "ref": "2cc059c9-928e-47e6-9484-e67574df7b1d",
              "rows": [
                [
                  "0",
                  "0.9511338186898217",
                  "-1.1069567272617744",
                  "-0.8040830197670096",
                  "-1.1133563277049254"
                ],
                [
                  "1",
                  "0.6068693700544439",
                  "1.375645185730799",
                  "2.310906076267839",
                  "1.1338239518906688"
                ],
                [
                  "2",
                  "-0.3914975309881516",
                  "-0.6104363446632598",
                  "0.17459499276156465",
                  "0.19412946625019203"
                ],
                [
                  "3",
                  "-1.1833057628495205",
                  "1.091919252817362",
                  "-0.8571019400616922",
                  "-1.1102478001341916"
                ],
                [
                  "4",
                  "-0.7701884244870671",
                  "-0.5395048614349005",
                  "-0.8015348452287425",
                  "-0.8561970818616635"
                ]
              ],
              "shape": {
                "columns": 4,
                "rows": 5
              }
            },
            "text/html": [
              "<div>\n",
              "<style scoped>\n",
              "    .dataframe tbody tr th:only-of-type {\n",
              "        vertical-align: middle;\n",
              "    }\n",
              "\n",
              "    .dataframe tbody tr th {\n",
              "        vertical-align: top;\n",
              "    }\n",
              "\n",
              "    .dataframe thead th {\n",
              "        text-align: right;\n",
              "    }\n",
              "</style>\n",
              "<table border=\"1\" class=\"dataframe\">\n",
              "  <thead>\n",
              "    <tr style=\"text-align: right;\">\n",
              "      <th></th>\n",
              "      <th>numero_ocupantes</th>\n",
              "      <th>electrodomesticos</th>\n",
              "      <th>consumo_energia</th>\n",
              "      <th>metros_cuadrados</th>\n",
              "    </tr>\n",
              "  </thead>\n",
              "  <tbody>\n",
              "    <tr>\n",
              "      <th>0</th>\n",
              "      <td>0.951134</td>\n",
              "      <td>-1.106957</td>\n",
              "      <td>-0.804083</td>\n",
              "      <td>-1.113356</td>\n",
              "    </tr>\n",
              "    <tr>\n",
              "      <th>1</th>\n",
              "      <td>0.606869</td>\n",
              "      <td>1.375645</td>\n",
              "      <td>2.310906</td>\n",
              "      <td>1.133824</td>\n",
              "    </tr>\n",
              "    <tr>\n",
              "      <th>2</th>\n",
              "      <td>-0.391498</td>\n",
              "      <td>-0.610436</td>\n",
              "      <td>0.174595</td>\n",
              "      <td>0.194129</td>\n",
              "    </tr>\n",
              "    <tr>\n",
              "      <th>3</th>\n",
              "      <td>-1.183306</td>\n",
              "      <td>1.091919</td>\n",
              "      <td>-0.857102</td>\n",
              "      <td>-1.110248</td>\n",
              "    </tr>\n",
              "    <tr>\n",
              "      <th>4</th>\n",
              "      <td>-0.770188</td>\n",
              "      <td>-0.539505</td>\n",
              "      <td>-0.801535</td>\n",
              "      <td>-0.856197</td>\n",
              "    </tr>\n",
              "  </tbody>\n",
              "</table>\n",
              "</div>"
            ],
            "text/plain": [
              "   numero_ocupantes  electrodomesticos  consumo_energia  metros_cuadrados\n",
              "0          0.951134          -1.106957        -0.804083         -1.113356\n",
              "1          0.606869           1.375645         2.310906          1.133824\n",
              "2         -0.391498          -0.610436         0.174595          0.194129\n",
              "3         -1.183306           1.091919        -0.857102         -1.110248\n",
              "4         -0.770188          -0.539505        -0.801535         -0.856197"
            ]
          },
          "execution_count": 308,
          "metadata": {},
          "output_type": "execute_result"
        }
      ],
      "source": [
        "df_std.head()"
      ]
    },
    {
      "cell_type": "code",
      "execution_count": 309,
      "metadata": {
        "id": "dG0QxeE9S44y"
      },
      "outputs": [],
      "source": [
        "# # Generación de las dummies\n",
        "# columnas_categoricas = ['barrio','tipo_edificio', 'dia_semana']\n",
        "# df = pd.get_dummies(df, columns=[\"barrio\"], dtype=int)\n",
        "# df = pd.get_dummies(df, columns=[\"tipo_edificio\"], dtype=int)\n",
        "# df = pd.get_dummies(df, columns=[\"dia_semana\"], dtype=int)"
      ]
    },
    {
      "cell_type": "code",
      "execution_count": 310,
      "metadata": {
        "colab": {
          "base_uri": "https://localhost:8080/",
          "height": 443
        },
        "id": "lmnVz22MTzX9",
        "outputId": "7568d14e-1db9-4a7a-ef65-6ff0fd7b4322"
      },
      "outputs": [
        {
          "data": {
            "application/vnd.microsoft.datawrangler.viewer.v0+json": {
              "columns": [
                {
                  "name": "index",
                  "rawType": "int64",
                  "type": "integer"
                },
                {
                  "name": "id_edificio",
                  "rawType": "int64",
                  "type": "integer"
                },
                {
                  "name": "barrio",
                  "rawType": "object",
                  "type": "string"
                },
                {
                  "name": "tipo_edificio",
                  "rawType": "object",
                  "type": "string"
                },
                {
                  "name": "numero_ocupantes",
                  "rawType": "int64",
                  "type": "integer"
                },
                {
                  "name": "electrodomesticos",
                  "rawType": "int64",
                  "type": "integer"
                },
                {
                  "name": "temperatura_media",
                  "rawType": "float64",
                  "type": "float"
                },
                {
                  "name": "dia_semana",
                  "rawType": "object",
                  "type": "string"
                },
                {
                  "name": "consumo_energia",
                  "rawType": "float64",
                  "type": "float"
                },
                {
                  "name": "metros_cuadrados",
                  "rawType": "float64",
                  "type": "float"
                }
              ],
              "ref": "d92be6df-f0ba-49d2-9544-87b26a105728",
              "rows": [
                [
                  "0",
                  "0",
                  "Norte",
                  "Residencial",
                  "76",
                  "10",
                  "29.84",
                  "habil",
                  "3264.2352289225805",
                  "800.5810291420312"
                ],
                [
                  "1",
                  "1",
                  "Norte",
                  "Comercial",
                  "66",
                  "45",
                  "16.72",
                  "fin_de_semana",
                  "6486.624734805464",
                  "4076.513978752818"
                ],
                [
                  "2",
                  "2",
                  "Norte",
                  "Industrial",
                  "37",
                  "17",
                  "14.3",
                  "habil",
                  "4276.656672459831",
                  "2706.630059768273"
                ],
                [
                  "3",
                  "3",
                  "Centro",
                  "Residencial",
                  "14",
                  "41",
                  "32.82",
                  "habil",
                  "3209.3882913880952",
                  "805.1126316957763"
                ],
                [
                  "4",
                  "4",
                  "Oeste",
                  "Comercial",
                  "26",
                  "18",
                  "11.92",
                  "habil",
                  "3266.8712609079644",
                  "1175.46703824612"
                ],
                [
                  "5",
                  "5",
                  "Centro",
                  "Comercial",
                  "26",
                  "32",
                  "16.24",
                  "habil",
                  "4345.208179131969",
                  "5049.629838357812"
                ],
                [
                  "6",
                  "6",
                  "Norte",
                  "Industrial",
                  "92",
                  "14",
                  "21.01",
                  "habil",
                  "5248.40586113906",
                  "2159.7998120772213"
                ],
                [
                  "7",
                  "7",
                  "Norte",
                  "Residencial",
                  "60",
                  "18",
                  "28.24",
                  "fin_de_semana",
                  "3837.9935540261768",
                  "3272.330350759063"
                ],
                [
                  "8",
                  "8",
                  "Centro",
                  "Industrial",
                  "99",
                  "44",
                  "13.08",
                  "fin_de_semana",
                  "5752.556278691251",
                  "2953.623232835924"
                ],
                [
                  "9",
                  "9",
                  "Oeste",
                  "Residencial",
                  "42",
                  "36",
                  "28.84",
                  "fin_de_semana",
                  "4251.695027997625",
                  "1698.6230157089494"
                ],
                [
                  "10",
                  "10",
                  "Oeste",
                  "Comercial",
                  "71",
                  "14",
                  "11.3",
                  "fin_de_semana",
                  "4421.674646963044",
                  "3204.629715254686"
                ],
                [
                  "11",
                  "11",
                  "Centro",
                  "Comercial",
                  "4",
                  "44",
                  "25.38",
                  "fin_de_semana",
                  "5241.551622536441",
                  "3161.224353849788"
                ],
                [
                  "12",
                  "12",
                  "Oeste",
                  "Residencial",
                  "97",
                  "34",
                  "17.35",
                  "fin_de_semana",
                  "3939.902369050968",
                  "1318.4573325638232"
                ],
                [
                  "13",
                  "13",
                  "Centro",
                  "Residencial",
                  "11",
                  "8",
                  "17.8",
                  "fin_de_semana",
                  "3018.514111820281",
                  "2257.4687374614573"
                ],
                [
                  "14",
                  "14",
                  "Oeste",
                  "Residencial",
                  "97",
                  "19",
                  "22.45",
                  "fin_de_semana",
                  "5139.600804341063",
                  "4521.342946852283"
                ],
                [
                  "15",
                  "15",
                  "Oeste",
                  "Comercial",
                  "54",
                  "47",
                  "13.56",
                  "fin_de_semana",
                  "3732.892463311391",
                  "328.9247025144326"
                ],
                [
                  "16",
                  "16",
                  "Sur",
                  "Comercial",
                  "34",
                  "44",
                  "24.62",
                  "habil",
                  "3084.119209456984",
                  "1032.146618973958"
                ],
                [
                  "17",
                  "17",
                  "Oeste",
                  "Industrial",
                  "97",
                  "20",
                  "23.99",
                  "fin_de_semana",
                  "5645.373188689272",
                  "1585.9535349438916"
                ],
                [
                  "18",
                  "18",
                  "Sur",
                  "Industrial",
                  "32",
                  "23",
                  "27.87",
                  "habil",
                  "3269.9946541254144",
                  "189.31276595903952"
                ],
                [
                  "19",
                  "19",
                  "Norte",
                  "Residencial",
                  "19",
                  "48",
                  "22.67",
                  "habil",
                  "2624.408676615056",
                  "792.0173839788314"
                ],
                [
                  "20",
                  "20",
                  "Sur",
                  "Comercial",
                  "24",
                  "43",
                  "10.38",
                  "fin_de_semana",
                  "4743.410005313596",
                  "1609.426778569307"
                ],
                [
                  "21",
                  "21",
                  "Sur",
                  "Industrial",
                  "83",
                  "40",
                  "32.92",
                  "fin_de_semana",
                  "4473.448315129838",
                  "1510.1281788149086"
                ],
                [
                  "22",
                  "22",
                  "Sur",
                  "Industrial",
                  "32",
                  "22",
                  "17.87",
                  "habil",
                  "4273.332607960128",
                  "2925.08390831223"
                ],
                [
                  "23",
                  "23",
                  "Centro",
                  "Comercial",
                  "55",
                  "16",
                  "26.95",
                  "fin_de_semana",
                  "4388.919738870714",
                  "3599.762814999162"
                ],
                [
                  "24",
                  "24",
                  "Sur",
                  "Residencial",
                  "39",
                  "27",
                  "18.67",
                  "habil",
                  "4020.923100632117",
                  "4085.349150694096"
                ],
                [
                  "25",
                  "25",
                  "Norte",
                  "Industrial",
                  "22",
                  "7",
                  "31.95",
                  "habil",
                  "4874.344262447822",
                  "3630.790585430447"
                ],
                [
                  "26",
                  "26",
                  "Norte",
                  "Residencial",
                  "8",
                  "5",
                  "23.67",
                  "fin_de_semana",
                  "3814.688921506905",
                  "2249.929402823166"
                ],
                [
                  "27",
                  "27",
                  "Norte",
                  "Industrial",
                  "63",
                  "12",
                  "29.54",
                  "fin_de_semana",
                  "5390.764495520406",
                  "5460.365994544686"
                ],
                [
                  "28",
                  "28",
                  "Norte",
                  "Residencial",
                  "35",
                  "14",
                  "15.39",
                  "habil",
                  "3450.095577684369",
                  "2526.771335787401"
                ],
                [
                  "29",
                  "29",
                  "Oeste",
                  "Residencial",
                  "12",
                  "30",
                  "32.89",
                  "fin_de_semana",
                  "2656.614575480612",
                  "1292.5740485026972"
                ],
                [
                  "30",
                  "30",
                  "Centro",
                  "Comercial",
                  "75",
                  "41",
                  "12.97",
                  "habil",
                  "4707.529174400159",
                  "712.7814859525151"
                ],
                [
                  "31",
                  "31",
                  "Sur",
                  "Residencial",
                  "22",
                  "36",
                  "15.41",
                  "habil",
                  "4229.268118157038",
                  "4619.068811716129"
                ],
                [
                  "32",
                  "32",
                  "Oeste",
                  "Comercial",
                  "24",
                  "34",
                  "24.93",
                  "habil",
                  "3931.0819092584497",
                  "1373.0001767394788"
                ],
                [
                  "33",
                  "33",
                  "Sur",
                  "Industrial",
                  "2",
                  "13",
                  "11.36",
                  "fin_de_semana",
                  "3538.7665596925945",
                  "3120.1685421052803"
                ],
                [
                  "34",
                  "34",
                  "Oeste",
                  "Residencial",
                  "5",
                  "26",
                  "20.96",
                  "habil",
                  "2174.650993346258",
                  "649.2599703635724"
                ],
                [
                  "35",
                  "35",
                  "Sur",
                  "Residencial",
                  "33",
                  "11",
                  "14.17",
                  "fin_de_semana",
                  "4135.075657597091",
                  "4639.173273898859"
                ],
                [
                  "36",
                  "36",
                  "Oeste",
                  "Residencial",
                  "25",
                  "26",
                  "21.34",
                  "fin_de_semana",
                  "2012.7665221659745",
                  "928.6410315391328"
                ],
                [
                  "37",
                  "37",
                  "Norte",
                  "Industrial",
                  "77",
                  "20",
                  "22.84",
                  "habil",
                  "5238.42916466515",
                  "2151.768581599318"
                ],
                [
                  "38",
                  "38",
                  "Sur",
                  "Residencial",
                  "31",
                  "13",
                  "15.09",
                  "fin_de_semana",
                  "1977.064115245088",
                  "354.4209295063308"
                ],
                [
                  "39",
                  "39",
                  "Oeste",
                  "Residencial",
                  "64",
                  "43",
                  "24.21",
                  "fin_de_semana",
                  "4483.022825863213",
                  "3227.1634633284225"
                ],
                [
                  "40",
                  "40",
                  "Sur",
                  "Industrial",
                  "89",
                  "31",
                  "32.76",
                  "habil",
                  "4255.622624939187",
                  "774.6227820686772"
                ],
                [
                  "41",
                  "41",
                  "Sur",
                  "Comercial",
                  "58",
                  "35",
                  "10.34",
                  "habil",
                  "3835.431467512958",
                  "1382.938467936986"
                ],
                [
                  "42",
                  "42",
                  "Centro",
                  "Residencial",
                  "85",
                  "21",
                  "29.36",
                  "fin_de_semana",
                  "3894.105721042859",
                  "1643.5743274311724"
                ],
                [
                  "43",
                  "43",
                  "Sur",
                  "Residencial",
                  "20",
                  "30",
                  "31.23",
                  "fin_de_semana",
                  "3566.2540530235",
                  "4332.187224043392"
                ],
                [
                  "44",
                  "44",
                  "Norte",
                  "Industrial",
                  "85",
                  "45",
                  "12.92",
                  "fin_de_semana",
                  "6085.887695433673",
                  "3423.999978675564"
                ],
                [
                  "45",
                  "45",
                  "Norte",
                  "Industrial",
                  "73",
                  "26",
                  "14.95",
                  "habil",
                  "4068.547549486232",
                  "1556.2272782434266"
                ],
                [
                  "46",
                  "46",
                  "Sur",
                  "Industrial",
                  "99",
                  "18",
                  "33.43",
                  "fin_de_semana",
                  "5149.604155421171",
                  "3365.3565575564744"
                ],
                [
                  "47",
                  "47",
                  "Norte",
                  "Residencial",
                  "35",
                  "16",
                  "21.39",
                  "fin_de_semana",
                  "2591.3532839419727",
                  "2580.884078873825"
                ],
                [
                  "48",
                  "48",
                  "Norte",
                  "Industrial",
                  "26",
                  "48",
                  "28.64",
                  "fin_de_semana",
                  "6756.897913272274",
                  "2989.997296384224"
                ],
                [
                  "49",
                  "49",
                  "Sur",
                  "Residencial",
                  "63",
                  "13",
                  "18.75",
                  "fin_de_semana",
                  "3447.218102968356",
                  "3215.0411173064267"
                ]
              ],
              "shape": {
                "columns": 9,
                "rows": 1000
              }
            },
            "text/html": [
              "<div>\n",
              "<style scoped>\n",
              "    .dataframe tbody tr th:only-of-type {\n",
              "        vertical-align: middle;\n",
              "    }\n",
              "\n",
              "    .dataframe tbody tr th {\n",
              "        vertical-align: top;\n",
              "    }\n",
              "\n",
              "    .dataframe thead th {\n",
              "        text-align: right;\n",
              "    }\n",
              "</style>\n",
              "<table border=\"1\" class=\"dataframe\">\n",
              "  <thead>\n",
              "    <tr style=\"text-align: right;\">\n",
              "      <th></th>\n",
              "      <th>id_edificio</th>\n",
              "      <th>barrio</th>\n",
              "      <th>tipo_edificio</th>\n",
              "      <th>numero_ocupantes</th>\n",
              "      <th>electrodomesticos</th>\n",
              "      <th>temperatura_media</th>\n",
              "      <th>dia_semana</th>\n",
              "      <th>consumo_energia</th>\n",
              "      <th>metros_cuadrados</th>\n",
              "    </tr>\n",
              "  </thead>\n",
              "  <tbody>\n",
              "    <tr>\n",
              "      <th>0</th>\n",
              "      <td>0</td>\n",
              "      <td>Norte</td>\n",
              "      <td>Residencial</td>\n",
              "      <td>76</td>\n",
              "      <td>10</td>\n",
              "      <td>29.84</td>\n",
              "      <td>habil</td>\n",
              "      <td>3264.235229</td>\n",
              "      <td>800.581029</td>\n",
              "    </tr>\n",
              "    <tr>\n",
              "      <th>1</th>\n",
              "      <td>1</td>\n",
              "      <td>Norte</td>\n",
              "      <td>Comercial</td>\n",
              "      <td>66</td>\n",
              "      <td>45</td>\n",
              "      <td>16.72</td>\n",
              "      <td>fin_de_semana</td>\n",
              "      <td>6486.624735</td>\n",
              "      <td>4076.513979</td>\n",
              "    </tr>\n",
              "    <tr>\n",
              "      <th>2</th>\n",
              "      <td>2</td>\n",
              "      <td>Norte</td>\n",
              "      <td>Industrial</td>\n",
              "      <td>37</td>\n",
              "      <td>17</td>\n",
              "      <td>14.30</td>\n",
              "      <td>habil</td>\n",
              "      <td>4276.656672</td>\n",
              "      <td>2706.630060</td>\n",
              "    </tr>\n",
              "    <tr>\n",
              "      <th>3</th>\n",
              "      <td>3</td>\n",
              "      <td>Centro</td>\n",
              "      <td>Residencial</td>\n",
              "      <td>14</td>\n",
              "      <td>41</td>\n",
              "      <td>32.82</td>\n",
              "      <td>habil</td>\n",
              "      <td>3209.388291</td>\n",
              "      <td>805.112632</td>\n",
              "    </tr>\n",
              "    <tr>\n",
              "      <th>4</th>\n",
              "      <td>4</td>\n",
              "      <td>Oeste</td>\n",
              "      <td>Comercial</td>\n",
              "      <td>26</td>\n",
              "      <td>18</td>\n",
              "      <td>11.92</td>\n",
              "      <td>habil</td>\n",
              "      <td>3266.871261</td>\n",
              "      <td>1175.467038</td>\n",
              "    </tr>\n",
              "    <tr>\n",
              "      <th>...</th>\n",
              "      <td>...</td>\n",
              "      <td>...</td>\n",
              "      <td>...</td>\n",
              "      <td>...</td>\n",
              "      <td>...</td>\n",
              "      <td>...</td>\n",
              "      <td>...</td>\n",
              "      <td>...</td>\n",
              "      <td>...</td>\n",
              "    </tr>\n",
              "    <tr>\n",
              "      <th>995</th>\n",
              "      <td>995</td>\n",
              "      <td>Norte</td>\n",
              "      <td>Residencial</td>\n",
              "      <td>68</td>\n",
              "      <td>44</td>\n",
              "      <td>23.95</td>\n",
              "      <td>habil</td>\n",
              "      <td>3318.267025</td>\n",
              "      <td>1499.865640</td>\n",
              "    </tr>\n",
              "    <tr>\n",
              "      <th>996</th>\n",
              "      <td>996</td>\n",
              "      <td>Sur</td>\n",
              "      <td>Industrial</td>\n",
              "      <td>7</td>\n",
              "      <td>22</td>\n",
              "      <td>14.67</td>\n",
              "      <td>fin_de_semana</td>\n",
              "      <td>2558.830350</td>\n",
              "      <td>752.823635</td>\n",
              "    </tr>\n",
              "    <tr>\n",
              "      <th>997</th>\n",
              "      <td>997</td>\n",
              "      <td>Norte</td>\n",
              "      <td>Comercial</td>\n",
              "      <td>88</td>\n",
              "      <td>20</td>\n",
              "      <td>32.18</td>\n",
              "      <td>habil</td>\n",
              "      <td>5167.923798</td>\n",
              "      <td>3932.952963</td>\n",
              "    </tr>\n",
              "    <tr>\n",
              "      <th>998</th>\n",
              "      <td>998</td>\n",
              "      <td>Oeste</td>\n",
              "      <td>Residencial</td>\n",
              "      <td>67</td>\n",
              "      <td>37</td>\n",
              "      <td>16.48</td>\n",
              "      <td>fin_de_semana</td>\n",
              "      <td>2460.767051</td>\n",
              "      <td>551.695329</td>\n",
              "    </tr>\n",
              "    <tr>\n",
              "      <th>999</th>\n",
              "      <td>999</td>\n",
              "      <td>Norte</td>\n",
              "      <td>Comercial</td>\n",
              "      <td>57</td>\n",
              "      <td>11</td>\n",
              "      <td>31.40</td>\n",
              "      <td>habil</td>\n",
              "      <td>3482.848706</td>\n",
              "      <td>1284.031040</td>\n",
              "    </tr>\n",
              "  </tbody>\n",
              "</table>\n",
              "<p>1000 rows × 9 columns</p>\n",
              "</div>"
            ],
            "text/plain": [
              "     id_edificio  barrio tipo_edificio  numero_ocupantes  electrodomesticos  \\\n",
              "0              0   Norte   Residencial                76                 10   \n",
              "1              1   Norte     Comercial                66                 45   \n",
              "2              2   Norte    Industrial                37                 17   \n",
              "3              3  Centro   Residencial                14                 41   \n",
              "4              4   Oeste     Comercial                26                 18   \n",
              "..           ...     ...           ...               ...                ...   \n",
              "995          995   Norte   Residencial                68                 44   \n",
              "996          996     Sur    Industrial                 7                 22   \n",
              "997          997   Norte     Comercial                88                 20   \n",
              "998          998   Oeste   Residencial                67                 37   \n",
              "999          999   Norte     Comercial                57                 11   \n",
              "\n",
              "     temperatura_media     dia_semana  consumo_energia  metros_cuadrados  \n",
              "0                29.84          habil      3264.235229        800.581029  \n",
              "1                16.72  fin_de_semana      6486.624735       4076.513979  \n",
              "2                14.30          habil      4276.656672       2706.630060  \n",
              "3                32.82          habil      3209.388291        805.112632  \n",
              "4                11.92          habil      3266.871261       1175.467038  \n",
              "..                 ...            ...              ...               ...  \n",
              "995              23.95          habil      3318.267025       1499.865640  \n",
              "996              14.67  fin_de_semana      2558.830350        752.823635  \n",
              "997              32.18          habil      5167.923798       3932.952963  \n",
              "998              16.48  fin_de_semana      2460.767051        551.695329  \n",
              "999              31.40          habil      3482.848706       1284.031040  \n",
              "\n",
              "[1000 rows x 9 columns]"
            ]
          },
          "execution_count": 310,
          "metadata": {},
          "output_type": "execute_result"
        }
      ],
      "source": [
        "df"
      ]
    },
    {
      "cell_type": "code",
      "execution_count": 311,
      "metadata": {
        "colab": {
          "base_uri": "https://localhost:8080/"
        },
        "id": "Kw3bCE6uVvuX",
        "outputId": "e20a489b-6839-4b6f-dbd8-66d3a5565d7f"
      },
      "outputs": [
        {
          "data": {
            "text/plain": [
              "Index(['numero_ocupantes', 'electrodomesticos', 'consumo_energia',\n",
              "       'metros_cuadrados'],\n",
              "      dtype='object')"
            ]
          },
          "execution_count": 311,
          "metadata": {},
          "output_type": "execute_result"
        }
      ],
      "source": [
        "df_std.columns"
      ]
    },
    {
      "cell_type": "code",
      "execution_count": 312,
      "metadata": {
        "colab": {
          "base_uri": "https://localhost:8080/"
        },
        "id": "A04OeAdcSsIM",
        "outputId": "361a6d0c-e79c-4541-eb5f-09551a2c7bf0"
      },
      "outputs": [
        {
          "name": "stdout",
          "output_type": "stream",
          "text": [
            "                            OLS Regression Results                            \n",
            "==============================================================================\n",
            "Dep. Variable:        consumo_energia   R-squared:                       0.531\n",
            "Model:                            OLS   Adj. R-squared:                  0.529\n",
            "Method:                 Least Squares   F-statistic:                     375.6\n",
            "Date:              jue., 03 jul. 2025   Prob (F-statistic):          3.87e-163\n",
            "Time:                        19:01:31   Log-Likelihood:                -1040.5\n",
            "No. Observations:                1000   AIC:                             2089.\n",
            "Df Residuals:                     996   BIC:                             2109.\n",
            "Df Model:                           3                                         \n",
            "Covariance Type:            nonrobust                                         \n",
            "=====================================================================================\n",
            "                        coef    std err          t      P>|t|      [0.025      0.975]\n",
            "-------------------------------------------------------------------------------------\n",
            "Intercept           -3.4e-16      0.022  -1.57e-14      1.000      -0.043       0.043\n",
            "numero_ocupantes      0.2812      0.022     12.939      0.000       0.239       0.324\n",
            "electrodomesticos     0.2819      0.022     12.984      0.000       0.239       0.325\n",
            "metros_cuadrados      0.5977      0.022     27.505      0.000       0.555       0.640\n",
            "==============================================================================\n",
            "Omnibus:                        0.988   Durbin-Watson:                   2.002\n",
            "Prob(Omnibus):                  0.610   Jarque-Bera (JB):                1.055\n",
            "Skew:                           0.071   Prob(JB):                        0.590\n",
            "Kurtosis:                       2.928   Cond. No.                         1.06\n",
            "==============================================================================\n",
            "\n",
            "Notes:\n",
            "[1] Standard Errors assume that the covariance matrix of the errors is correctly specified.\n"
          ]
        }
      ],
      "source": [
        "import statsmodels.formula.api as smf\n",
        "\n",
        "modelo1 = smf.ols(formula = 'consumo_energia ~ numero_ocupantes + electrodomesticos + metros_cuadrados',\n",
        "                  data=df_std).fit()\n",
        "print(modelo1.summary())"
      ]
    },
    {
      "cell_type": "markdown",
      "metadata": {
        "id": "1unBvOJhSnZr"
      },
      "source": [
        "### Ejercicio 2"
      ]
    },
    {
      "cell_type": "code",
      "execution_count": 313,
      "metadata": {
        "id": "x1aAwWXsRinS"
      },
      "outputs": [],
      "source": [
        "# viendo los p values, todas las variables son explicativas\n",
        "# todos están cercanos al 0% de evidencia que no sean importantes en la predicción"
      ]
    },
    {
      "cell_type": "markdown",
      "metadata": {
        "id": "nKLlc1VEWeGu"
      },
      "source": [
        "### Ejercicio 3"
      ]
    },
    {
      "cell_type": "code",
      "execution_count": 314,
      "metadata": {
        "colab": {
          "base_uri": "https://localhost:8080/"
        },
        "id": "E1oqN8tRWuiA",
        "outputId": "abb4bdca-d13d-4abb-db63-2e4b8f0ee496"
      },
      "outputs": [
        {
          "data": {
            "text/plain": [
              "Index(['numero_ocupantes', 'electrodomesticos', 'consumo_energia',\n",
              "       'metros_cuadrados'],\n",
              "      dtype='object')"
            ]
          },
          "execution_count": 314,
          "metadata": {},
          "output_type": "execute_result"
        }
      ],
      "source": [
        "df_std.columns"
      ]
    },
    {
      "cell_type": "code",
      "execution_count": 315,
      "metadata": {
        "colab": {
          "base_uri": "https://localhost:8080/",
          "height": 150
        },
        "id": "EPUtkuFRWdVx",
        "outputId": "0c8f5c4e-e83c-4545-c6b8-f42b8e42546f"
      },
      "outputs": [
        {
          "name": "stdout",
          "output_type": "stream",
          "text": [
            "   numero_ocupantes  electrodomesticos  metros_cuadrados\n",
            "0                26                 19              5000\n"
          ]
        },
        {
          "data": {
            "application/vnd.microsoft.datawrangler.viewer.v0+json": {
              "columns": [
                {
                  "name": "index",
                  "rawType": "int64",
                  "type": "integer"
                },
                {
                  "name": "0",
                  "rawType": "float64",
                  "type": "float"
                }
              ],
              "ref": "83b0545d-e679-4edc-a8a8-1e1df0bca58f",
              "rows": [
                [
                  "0",
                  "3001.23892886732"
                ]
              ],
              "shape": {
                "columns": 1,
                "rows": 1
              }
            },
            "text/plain": [
              "0    3001.238929\n",
              "dtype: float64"
            ]
          },
          "execution_count": 315,
          "metadata": {},
          "output_type": "execute_result"
        }
      ],
      "source": [
        "df_prediccion = pd.DataFrame({'numero_ocupantes' : [26],\n",
        "                              'electrodomesticos': [19],\n",
        "                              'metros_cuadrados': [5000]})\n",
        "print(df_prediccion)\n",
        "modelo1.predict(df_prediccion)"
      ]
    },
    {
      "cell_type": "markdown",
      "metadata": {
        "id": "AhUBWCqYXNbf"
      },
      "source": [
        "Viendo la predicción del modelo, vemos que lo que la empresa \"AlfajoresRicos\" es casi igual. Por lo tanto no podemos suponer que sea necesario iniciar una investigación"
      ]
    },
    {
      "cell_type": "markdown",
      "metadata": {
        "id": "fVyS_HeeaKud"
      },
      "source": [
        "### Ejercicio 4"
      ]
    },
    {
      "cell_type": "code",
      "execution_count": 316,
      "metadata": {
        "id": "9sqmyyIeXIqs"
      },
      "outputs": [],
      "source": [
        "# como no tomamos los valores categóricos de las dummies, lo generamos ahora en un modelo2\n",
        "df = pd.get_dummies(df, columns=[\"barrio\"], dtype=int)"
      ]
    },
    {
      "cell_type": "code",
      "execution_count": 317,
      "metadata": {
        "id": "3zHMt5zhX84I"
      },
      "outputs": [],
      "source": [
        "df_std['barrio_Centro'] = df['barrio_Centro']\n",
        "df_std['barrio_Norte'] = df['barrio_Norte']\n",
        "df_std['barrio_Oeste'] = df['barrio_Oeste']\n",
        "df_std['barrio_Sur'] = df['barrio_Sur']"
      ]
    },
    {
      "cell_type": "code",
      "execution_count": 318,
      "metadata": {
        "colab": {
          "base_uri": "https://localhost:8080/"
        },
        "id": "L4dDfV4TX2sp",
        "outputId": "258f0523-0b54-4583-b035-37ccb6e13c68"
      },
      "outputs": [
        {
          "name": "stdout",
          "output_type": "stream",
          "text": [
            "                            OLS Regression Results                            \n",
            "==============================================================================\n",
            "Dep. Variable:        consumo_energia   R-squared:                       0.605\n",
            "Model:                            OLS   Adj. R-squared:                  0.602\n",
            "Method:                 Least Squares   F-statistic:                     253.3\n",
            "Date:              jue., 03 jul. 2025   Prob (F-statistic):          3.03e-196\n",
            "Time:                        19:01:31   Log-Likelihood:                -954.77\n",
            "No. Observations:                1000   AIC:                             1924.\n",
            "Df Residuals:                     993   BIC:                             1958.\n",
            "Df Model:                           6                                         \n",
            "Covariance Type:            nonrobust                                         \n",
            "=====================================================================================\n",
            "                        coef    std err          t      P>|t|      [0.025      0.975]\n",
            "-------------------------------------------------------------------------------------\n",
            "Intercept            -0.1507      0.040     -3.791      0.000      -0.229      -0.073\n",
            "numero_ocupantes      0.2764      0.020     13.810      0.000       0.237       0.316\n",
            "electrodomesticos     0.2888      0.020     14.461      0.000       0.250       0.328\n",
            "metros_cuadrados      0.5984      0.020     29.928      0.000       0.559       0.638\n",
            "barrio_Centro         0.5710      0.057     10.055      0.000       0.460       0.682\n",
            "barrio_Norte          0.2193      0.057      3.854      0.000       0.108       0.331\n",
            "barrio_Sur           -0.1535      0.056     -2.761      0.006      -0.263      -0.044\n",
            "==============================================================================\n",
            "Omnibus:                        2.437   Durbin-Watson:                   2.038\n",
            "Prob(Omnibus):                  0.296   Jarque-Bera (JB):                2.199\n",
            "Skew:                          -0.030   Prob(JB):                        0.333\n",
            "Kurtosis:                       2.778   Cond. No.                         4.78\n",
            "==============================================================================\n",
            "\n",
            "Notes:\n",
            "[1] Standard Errors assume that the covariance matrix of the errors is correctly specified.\n"
          ]
        }
      ],
      "source": [
        "modelo2 = smf.ols(formula = 'consumo_energia ~ numero_ocupantes + electrodomesticos + metros_cuadrados + barrio_Centro\t+ barrio_Norte + barrio_Sur',\n",
        "                  data=df_std).fit()\n",
        "print(modelo2.summary())"
      ]
    },
    {
      "cell_type": "code",
      "execution_count": 319,
      "metadata": {
        "colab": {
          "base_uri": "https://localhost:8080/"
        },
        "id": "O5BSeJxEZZia",
        "outputId": "504425bd-2c30-446b-d06d-689e3b0fe8d4"
      },
      "outputs": [
        {
          "data": {
            "text/plain": [
              "-0.7245"
            ]
          },
          "execution_count": 319,
          "metadata": {},
          "output_type": "execute_result"
        }
      ],
      "source": [
        "round(-0.1535 - 0.5710, 4)"
      ]
    },
    {
      "cell_type": "markdown",
      "metadata": {
        "id": "SAXwEsMtY46c"
      },
      "source": [
        "Según el modelo número 2 que se hizo, podemos decir que si un edificio está en el centro y otro en zona sur, el del centro tendrá un consumo mayor, de un 0,5710 KWh y si es de zona sur tendrá un consumo menor, -0.1535 KWh. Existiendo una diferencia entre ambos de -0.7245 KWh\n"
      ]
    }
  ],
  "metadata": {
    "colab": {
      "provenance": []
    },
    "kernelspec": {
      "display_name": "venv_fcd",
      "language": "python",
      "name": "venv_fcd"
    },
    "language_info": {
      "codemirror_mode": {
        "name": "ipython",
        "version": 3
      },
      "file_extension": ".py",
      "mimetype": "text/x-python",
      "name": "python",
      "nbconvert_exporter": "python",
      "pygments_lexer": "ipython3",
      "version": "3.12.8"
    }
  },
  "nbformat": 4,
  "nbformat_minor": 0
}
