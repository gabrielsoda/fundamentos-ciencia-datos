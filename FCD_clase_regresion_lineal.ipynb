{
 "cells": [
  {
   "cell_type": "code",
   "execution_count": 114,
   "id": "71a4fbe0",
   "metadata": {},
   "outputs": [],
   "source": [
    "import pandas as pd\n",
    "import matplotlib.pyplot as plt\n",
    "import seaborn as sns\n",
    "import statsmodels.formula.api as smf"
   ]
  },
  {
   "cell_type": "code",
   "execution_count": 115,
   "id": "2785e205",
   "metadata": {},
   "outputs": [
    {
     "data": {
      "application/vnd.microsoft.datawrangler.viewer.v0+json": {
       "columns": [
        {
         "name": "index",
         "rawType": "int64",
         "type": "integer"
        },
        {
         "name": "species",
         "rawType": "object",
         "type": "string"
        },
        {
         "name": "island",
         "rawType": "object",
         "type": "string"
        },
        {
         "name": "bill_length_mm",
         "rawType": "float64",
         "type": "float"
        },
        {
         "name": "bill_depth_mm",
         "rawType": "float64",
         "type": "float"
        },
        {
         "name": "flipper_length_mm",
         "rawType": "float64",
         "type": "float"
        },
        {
         "name": "body_mass_g",
         "rawType": "float64",
         "type": "float"
        },
        {
         "name": "sex",
         "rawType": "object",
         "type": "unknown"
        }
       ],
       "ref": "f4c2c728-28d8-44dc-8e97-5d5f96455a74",
       "rows": [
        [
         "0",
         "Adelie",
         "Torgersen",
         "39.1",
         "18.7",
         "181.0",
         "3750.0",
         "Male"
        ],
        [
         "1",
         "Adelie",
         "Torgersen",
         "39.5",
         "17.4",
         "186.0",
         "3800.0",
         "Female"
        ],
        [
         "2",
         "Adelie",
         "Torgersen",
         "40.3",
         "18.0",
         "195.0",
         "3250.0",
         "Female"
        ],
        [
         "3",
         "Adelie",
         "Torgersen",
         null,
         null,
         null,
         null,
         null
        ],
        [
         "4",
         "Adelie",
         "Torgersen",
         "36.7",
         "19.3",
         "193.0",
         "3450.0",
         "Female"
        ],
        [
         "5",
         "Adelie",
         "Torgersen",
         "39.3",
         "20.6",
         "190.0",
         "3650.0",
         "Male"
        ],
        [
         "6",
         "Adelie",
         "Torgersen",
         "38.9",
         "17.8",
         "181.0",
         "3625.0",
         "Female"
        ],
        [
         "7",
         "Adelie",
         "Torgersen",
         "39.2",
         "19.6",
         "195.0",
         "4675.0",
         "Male"
        ],
        [
         "8",
         "Adelie",
         "Torgersen",
         "34.1",
         "18.1",
         "193.0",
         "3475.0",
         null
        ],
        [
         "9",
         "Adelie",
         "Torgersen",
         "42.0",
         "20.2",
         "190.0",
         "4250.0",
         null
        ],
        [
         "10",
         "Adelie",
         "Torgersen",
         "37.8",
         "17.1",
         "186.0",
         "3300.0",
         null
        ],
        [
         "11",
         "Adelie",
         "Torgersen",
         "37.8",
         "17.3",
         "180.0",
         "3700.0",
         null
        ],
        [
         "12",
         "Adelie",
         "Torgersen",
         "41.1",
         "17.6",
         "182.0",
         "3200.0",
         "Female"
        ],
        [
         "13",
         "Adelie",
         "Torgersen",
         "38.6",
         "21.2",
         "191.0",
         "3800.0",
         "Male"
        ],
        [
         "14",
         "Adelie",
         "Torgersen",
         "34.6",
         "21.1",
         "198.0",
         "4400.0",
         "Male"
        ],
        [
         "15",
         "Adelie",
         "Torgersen",
         "36.6",
         "17.8",
         "185.0",
         "3700.0",
         "Female"
        ],
        [
         "16",
         "Adelie",
         "Torgersen",
         "38.7",
         "19.0",
         "195.0",
         "3450.0",
         "Female"
        ],
        [
         "17",
         "Adelie",
         "Torgersen",
         "42.5",
         "20.7",
         "197.0",
         "4500.0",
         "Male"
        ],
        [
         "18",
         "Adelie",
         "Torgersen",
         "34.4",
         "18.4",
         "184.0",
         "3325.0",
         "Female"
        ],
        [
         "19",
         "Adelie",
         "Torgersen",
         "46.0",
         "21.5",
         "194.0",
         "4200.0",
         "Male"
        ],
        [
         "20",
         "Adelie",
         "Biscoe",
         "37.8",
         "18.3",
         "174.0",
         "3400.0",
         "Female"
        ],
        [
         "21",
         "Adelie",
         "Biscoe",
         "37.7",
         "18.7",
         "180.0",
         "3600.0",
         "Male"
        ],
        [
         "22",
         "Adelie",
         "Biscoe",
         "35.9",
         "19.2",
         "189.0",
         "3800.0",
         "Female"
        ],
        [
         "23",
         "Adelie",
         "Biscoe",
         "38.2",
         "18.1",
         "185.0",
         "3950.0",
         "Male"
        ],
        [
         "24",
         "Adelie",
         "Biscoe",
         "38.8",
         "17.2",
         "180.0",
         "3800.0",
         "Male"
        ],
        [
         "25",
         "Adelie",
         "Biscoe",
         "35.3",
         "18.9",
         "187.0",
         "3800.0",
         "Female"
        ],
        [
         "26",
         "Adelie",
         "Biscoe",
         "40.6",
         "18.6",
         "183.0",
         "3550.0",
         "Male"
        ],
        [
         "27",
         "Adelie",
         "Biscoe",
         "40.5",
         "17.9",
         "187.0",
         "3200.0",
         "Female"
        ],
        [
         "28",
         "Adelie",
         "Biscoe",
         "37.9",
         "18.6",
         "172.0",
         "3150.0",
         "Female"
        ],
        [
         "29",
         "Adelie",
         "Biscoe",
         "40.5",
         "18.9",
         "180.0",
         "3950.0",
         "Male"
        ],
        [
         "30",
         "Adelie",
         "Dream",
         "39.5",
         "16.7",
         "178.0",
         "3250.0",
         "Female"
        ],
        [
         "31",
         "Adelie",
         "Dream",
         "37.2",
         "18.1",
         "178.0",
         "3900.0",
         "Male"
        ],
        [
         "32",
         "Adelie",
         "Dream",
         "39.5",
         "17.8",
         "188.0",
         "3300.0",
         "Female"
        ],
        [
         "33",
         "Adelie",
         "Dream",
         "40.9",
         "18.9",
         "184.0",
         "3900.0",
         "Male"
        ],
        [
         "34",
         "Adelie",
         "Dream",
         "36.4",
         "17.0",
         "195.0",
         "3325.0",
         "Female"
        ],
        [
         "35",
         "Adelie",
         "Dream",
         "39.2",
         "21.1",
         "196.0",
         "4150.0",
         "Male"
        ],
        [
         "36",
         "Adelie",
         "Dream",
         "38.8",
         "20.0",
         "190.0",
         "3950.0",
         "Male"
        ],
        [
         "37",
         "Adelie",
         "Dream",
         "42.2",
         "18.5",
         "180.0",
         "3550.0",
         "Female"
        ],
        [
         "38",
         "Adelie",
         "Dream",
         "37.6",
         "19.3",
         "181.0",
         "3300.0",
         "Female"
        ],
        [
         "39",
         "Adelie",
         "Dream",
         "39.8",
         "19.1",
         "184.0",
         "4650.0",
         "Male"
        ],
        [
         "40",
         "Adelie",
         "Dream",
         "36.5",
         "18.0",
         "182.0",
         "3150.0",
         "Female"
        ],
        [
         "41",
         "Adelie",
         "Dream",
         "40.8",
         "18.4",
         "195.0",
         "3900.0",
         "Male"
        ],
        [
         "42",
         "Adelie",
         "Dream",
         "36.0",
         "18.5",
         "186.0",
         "3100.0",
         "Female"
        ],
        [
         "43",
         "Adelie",
         "Dream",
         "44.1",
         "19.7",
         "196.0",
         "4400.0",
         "Male"
        ],
        [
         "44",
         "Adelie",
         "Dream",
         "37.0",
         "16.9",
         "185.0",
         "3000.0",
         "Female"
        ],
        [
         "45",
         "Adelie",
         "Dream",
         "39.6",
         "18.8",
         "190.0",
         "4600.0",
         "Male"
        ],
        [
         "46",
         "Adelie",
         "Dream",
         "41.1",
         "19.0",
         "182.0",
         "3425.0",
         "Male"
        ],
        [
         "47",
         "Adelie",
         "Dream",
         "37.5",
         "18.9",
         "179.0",
         "2975.0",
         null
        ],
        [
         "48",
         "Adelie",
         "Dream",
         "36.0",
         "17.9",
         "190.0",
         "3450.0",
         "Female"
        ],
        [
         "49",
         "Adelie",
         "Dream",
         "42.3",
         "21.2",
         "191.0",
         "4150.0",
         "Male"
        ]
       ],
       "shape": {
        "columns": 7,
        "rows": 344
       }
      },
      "text/html": [
       "<div>\n",
       "<style scoped>\n",
       "    .dataframe tbody tr th:only-of-type {\n",
       "        vertical-align: middle;\n",
       "    }\n",
       "\n",
       "    .dataframe tbody tr th {\n",
       "        vertical-align: top;\n",
       "    }\n",
       "\n",
       "    .dataframe thead th {\n",
       "        text-align: right;\n",
       "    }\n",
       "</style>\n",
       "<table border=\"1\" class=\"dataframe\">\n",
       "  <thead>\n",
       "    <tr style=\"text-align: right;\">\n",
       "      <th></th>\n",
       "      <th>species</th>\n",
       "      <th>island</th>\n",
       "      <th>bill_length_mm</th>\n",
       "      <th>bill_depth_mm</th>\n",
       "      <th>flipper_length_mm</th>\n",
       "      <th>body_mass_g</th>\n",
       "      <th>sex</th>\n",
       "    </tr>\n",
       "  </thead>\n",
       "  <tbody>\n",
       "    <tr>\n",
       "      <th>0</th>\n",
       "      <td>Adelie</td>\n",
       "      <td>Torgersen</td>\n",
       "      <td>39.1</td>\n",
       "      <td>18.7</td>\n",
       "      <td>181.0</td>\n",
       "      <td>3750.0</td>\n",
       "      <td>Male</td>\n",
       "    </tr>\n",
       "    <tr>\n",
       "      <th>1</th>\n",
       "      <td>Adelie</td>\n",
       "      <td>Torgersen</td>\n",
       "      <td>39.5</td>\n",
       "      <td>17.4</td>\n",
       "      <td>186.0</td>\n",
       "      <td>3800.0</td>\n",
       "      <td>Female</td>\n",
       "    </tr>\n",
       "    <tr>\n",
       "      <th>2</th>\n",
       "      <td>Adelie</td>\n",
       "      <td>Torgersen</td>\n",
       "      <td>40.3</td>\n",
       "      <td>18.0</td>\n",
       "      <td>195.0</td>\n",
       "      <td>3250.0</td>\n",
       "      <td>Female</td>\n",
       "    </tr>\n",
       "    <tr>\n",
       "      <th>3</th>\n",
       "      <td>Adelie</td>\n",
       "      <td>Torgersen</td>\n",
       "      <td>NaN</td>\n",
       "      <td>NaN</td>\n",
       "      <td>NaN</td>\n",
       "      <td>NaN</td>\n",
       "      <td>NaN</td>\n",
       "    </tr>\n",
       "    <tr>\n",
       "      <th>4</th>\n",
       "      <td>Adelie</td>\n",
       "      <td>Torgersen</td>\n",
       "      <td>36.7</td>\n",
       "      <td>19.3</td>\n",
       "      <td>193.0</td>\n",
       "      <td>3450.0</td>\n",
       "      <td>Female</td>\n",
       "    </tr>\n",
       "    <tr>\n",
       "      <th>...</th>\n",
       "      <td>...</td>\n",
       "      <td>...</td>\n",
       "      <td>...</td>\n",
       "      <td>...</td>\n",
       "      <td>...</td>\n",
       "      <td>...</td>\n",
       "      <td>...</td>\n",
       "    </tr>\n",
       "    <tr>\n",
       "      <th>339</th>\n",
       "      <td>Gentoo</td>\n",
       "      <td>Biscoe</td>\n",
       "      <td>NaN</td>\n",
       "      <td>NaN</td>\n",
       "      <td>NaN</td>\n",
       "      <td>NaN</td>\n",
       "      <td>NaN</td>\n",
       "    </tr>\n",
       "    <tr>\n",
       "      <th>340</th>\n",
       "      <td>Gentoo</td>\n",
       "      <td>Biscoe</td>\n",
       "      <td>46.8</td>\n",
       "      <td>14.3</td>\n",
       "      <td>215.0</td>\n",
       "      <td>4850.0</td>\n",
       "      <td>Female</td>\n",
       "    </tr>\n",
       "    <tr>\n",
       "      <th>341</th>\n",
       "      <td>Gentoo</td>\n",
       "      <td>Biscoe</td>\n",
       "      <td>50.4</td>\n",
       "      <td>15.7</td>\n",
       "      <td>222.0</td>\n",
       "      <td>5750.0</td>\n",
       "      <td>Male</td>\n",
       "    </tr>\n",
       "    <tr>\n",
       "      <th>342</th>\n",
       "      <td>Gentoo</td>\n",
       "      <td>Biscoe</td>\n",
       "      <td>45.2</td>\n",
       "      <td>14.8</td>\n",
       "      <td>212.0</td>\n",
       "      <td>5200.0</td>\n",
       "      <td>Female</td>\n",
       "    </tr>\n",
       "    <tr>\n",
       "      <th>343</th>\n",
       "      <td>Gentoo</td>\n",
       "      <td>Biscoe</td>\n",
       "      <td>49.9</td>\n",
       "      <td>16.1</td>\n",
       "      <td>213.0</td>\n",
       "      <td>5400.0</td>\n",
       "      <td>Male</td>\n",
       "    </tr>\n",
       "  </tbody>\n",
       "</table>\n",
       "<p>344 rows × 7 columns</p>\n",
       "</div>"
      ],
      "text/plain": [
       "    species     island  bill_length_mm  bill_depth_mm  flipper_length_mm  \\\n",
       "0    Adelie  Torgersen            39.1           18.7              181.0   \n",
       "1    Adelie  Torgersen            39.5           17.4              186.0   \n",
       "2    Adelie  Torgersen            40.3           18.0              195.0   \n",
       "3    Adelie  Torgersen             NaN            NaN                NaN   \n",
       "4    Adelie  Torgersen            36.7           19.3              193.0   \n",
       "..      ...        ...             ...            ...                ...   \n",
       "339  Gentoo     Biscoe             NaN            NaN                NaN   \n",
       "340  Gentoo     Biscoe            46.8           14.3              215.0   \n",
       "341  Gentoo     Biscoe            50.4           15.7              222.0   \n",
       "342  Gentoo     Biscoe            45.2           14.8              212.0   \n",
       "343  Gentoo     Biscoe            49.9           16.1              213.0   \n",
       "\n",
       "     body_mass_g     sex  \n",
       "0         3750.0    Male  \n",
       "1         3800.0  Female  \n",
       "2         3250.0  Female  \n",
       "3            NaN     NaN  \n",
       "4         3450.0  Female  \n",
       "..           ...     ...  \n",
       "339          NaN     NaN  \n",
       "340       4850.0  Female  \n",
       "341       5750.0    Male  \n",
       "342       5200.0  Female  \n",
       "343       5400.0    Male  \n",
       "\n",
       "[344 rows x 7 columns]"
      ]
     },
     "execution_count": 115,
     "metadata": {},
     "output_type": "execute_result"
    }
   ],
   "source": [
    "# Importar el dataset\n",
    "data_penguins = sns.load_dataset('penguins')\n",
    "data_penguins"
   ]
  },
  {
   "cell_type": "markdown",
   "id": "d908e7a8",
   "metadata": {},
   "source": [
    "### Ajustar un modelo de regresión lineal simple que permita predecir la masa corporal de un pingüino de esta región en función de la longitud de su aleta."
   ]
  },
  {
   "cell_type": "code",
   "execution_count": 116,
   "id": "80472857",
   "metadata": {},
   "outputs": [
    {
     "data": {
      "text/plain": [
       "<Axes: xlabel='flipper_length_mm', ylabel='body_mass_g'>"
      ]
     },
     "execution_count": 116,
     "metadata": {},
     "output_type": "execute_result"
    },
    {
     "data": {
      "image/png": "[encoded data removed]",
      "text/plain": [
       "<Figure size 640x480 with 1 Axes>"
      ]
     },
     "metadata": {},
     "output_type": "display_data"
    }
   ],
   "source": [
    "sns.scatterplot(data=data_penguins, y='body_mass_g', x='flipper_length_mm')\n",
    "# body mass es la variable a predecir (dependiente) y flipper length es la predictora (independiente)"
   ]
  },
  {
   "cell_type": "code",
   "execution_count": 117,
   "id": "f72d50ab",
   "metadata": {},
   "outputs": [
    {
     "data": {
      "text/plain": [
       "<Axes: xlabel='body_mass_g', ylabel='flipper_length_mm'>"
      ]
     },
     "execution_count": 117,
     "metadata": {},
     "output_type": "execute_result"
    },
    {
     "data": {
      "image/png": "[encoded data removed]",
      "text/plain": [
       "<Figure size 640x480 with 1 Axes>"
      ]
     },
     "metadata": {},
     "output_type": "display_data"
    }
   ],
   "source": [
    "sns.regplot(data=data_penguins, x='body_mass_g', y='flipper_length_mm')"
   ]
  },
  {
   "cell_type": "code",
   "execution_count": 118,
   "id": "f26adbca",
   "metadata": {},
   "outputs": [
    {
     "name": "stdout",
     "output_type": "stream",
     "text": [
      "                            OLS Regression Results                            \n",
      "==============================================================================\n",
      "Dep. Variable:            body_mass_g   R-squared:                       0.759\n",
      "Model:                            OLS   Adj. R-squared:                  0.758\n",
      "Method:                 Least Squares   F-statistic:                     1071.\n",
      "Date:              jue., 26 jun. 2025   Prob (F-statistic):          4.37e-107\n",
      "Time:                        19:51:23   Log-Likelihood:                -2528.4\n",
      "No. Observations:                 342   AIC:                             5061.\n",
      "Df Residuals:                     340   BIC:                             5069.\n",
      "Df Model:                           1                                         \n",
      "Covariance Type:            nonrobust                                         \n",
      "=====================================================================================\n",
      "                        coef    std err          t      P>|t|      [0.025      0.975]\n",
      "-------------------------------------------------------------------------------------\n",
      "Intercept         -5780.8314    305.815    -18.903      0.000   -6382.358   -5179.305\n",
      "flipper_length_mm    49.6856      1.518     32.722      0.000      46.699      52.672\n",
      "==============================================================================\n",
      "Omnibus:                        5.634   Durbin-Watson:                   2.176\n",
      "Prob(Omnibus):                  0.060   Jarque-Bera (JB):                5.585\n",
      "Skew:                           0.313   Prob(JB):                       0.0613\n",
      "Kurtosis:                       3.019   Cond. No.                     2.89e+03\n",
      "==============================================================================\n",
      "\n",
      "Notes:\n",
      "[1] Standard Errors assume that the covariance matrix of the errors is correctly specified.\n",
      "[2] The condition number is large, 2.89e+03. This might indicate that there are\n",
      "strong multicollinearity or other numerical problems.\n"
     ]
    }
   ],
   "source": [
    "# Ajustamos el modelo\n",
    "modelo1 = smf.ols(formula = 'body_mass_g ~ flipper_length_mm', data=data_penguins).fit()\n",
    "print(modelo1.summary())\n",
    "#print(modelo1.summary2())\n"
   ]
  },
  {
   "cell_type": "markdown",
   "id": "1f4092a9",
   "metadata": {},
   "source": [
    "\n",
    "### Utilizar el modelo ajustado para predecir la masa corporal de un pingüino con una longitud de aleta de 207 mm."
   ]
  },
  {
   "cell_type": "markdown",
   "id": "28e175f7",
   "metadata": {},
   "source": [
    "$x =$ flipper_length_mm\n",
    "\n",
    "Ecuación de la recta:\n",
    "\n",
    "$\\hat{y} = -5780.8314 + 49.6856x$"
   ]
  },
  {
   "cell_type": "code",
   "execution_count": 119,
   "id": "85f5f679",
   "metadata": {},
   "outputs": [
    {
     "name": "stdout",
     "output_type": "stream",
     "text": [
      "Un pingüino con una aleta de 207mm tendrá aproximadamente 4504.09 gramos de masa corporal\n"
     ]
    }
   ],
   "source": [
    "# PREDICCIÓN de la masa corporal para un pingüino de 207 mm de aleta\n",
    "prediccion207 = -5780.8314 + 49.6856 * 207\n",
    "print(f'Un pingüino con una aleta de 207mm tendrá aproximadamente {prediccion207:.2f} gramos de masa corporal')\n"
   ]
  },
  {
   "cell_type": "markdown",
   "id": "2e4f41d7",
   "metadata": {},
   "source": [
    "\n",
    "### Utilizar el modelo ajustado para predecir la masa corporal de un pingüino **hembra** con una longitud de aleta de 207 mm."
   ]
  },
  {
   "cell_type": "markdown",
   "id": "39d850d4",
   "metadata": {},
   "source": [
    "En realidad la información de hembra no influye en el proceso de nuestro modelo porque no toma esas variables para predecir la masa corporal en gramos.\n",
    "\n",
    "La única información explicativa que utiliza nuestro modelo es la **LONGITUD DE LA ALETA**"
   ]
  },
  {
   "cell_type": "code",
   "execution_count": 120,
   "id": "9525efd7",
   "metadata": {},
   "outputs": [
    {
     "data": {
      "text/plain": [
       "<Axes: xlabel='flipper_length_mm', ylabel='body_mass_g'>"
      ]
     },
     "execution_count": 120,
     "metadata": {},
     "output_type": "execute_result"
    },
    {
     "data": {
      "image/png": "[encoded data removed]",
      "text/plain": [
       "<Figure size 640x480 with 1 Axes>"
      ]
     },
     "metadata": {},
     "output_type": "display_data"
    }
   ],
   "source": [
    "# Observemos la distinción entre sexo\n",
    "sns.scatterplot(data=data_penguins, y='body_mass_g', x='flipper_length_mm', hue='sex')\n",
    "# body mass es la variable a predecir (dependiente) y flipper length es la predictora (independiente)"
   ]
  },
  {
   "cell_type": "markdown",
   "id": "ef724108",
   "metadata": {},
   "source": [
    "Cómo hacemos para meter en el modelo de regresión lineal variables categóricas?\n",
    "one hot encoding\n",
    "variables dummies\n",
    "son como variables ficticias creadas artificialmente para poder incluirlas en el modelo.\n",
    "Cuántos niveles tiene la variable?\n",
    "macho y hembra. solo dos\n",
    "vamos a crear una variable x2 que va a asumir dos valores: 1 si es macho y 0 si es hembra"
   ]
  },
  {
   "cell_type": "code",
   "execution_count": 121,
   "id": "b79782a0",
   "metadata": {},
   "outputs": [],
   "source": [
    "# Incorporamos una variable cualitativa al modelo\n",
    "# Tenemos que tener cuidado con los faltantes. Tener faltantes en una variable cualitativa sí puede traer problemas.\n",
    "# Eliminamos faltantes en la columna sex\n",
    "data_penguins_sin_nan = data_penguins.dropna(subset='sex').copy()\n"
   ]
  },
  {
   "cell_type": "code",
   "execution_count": 122,
   "id": "e11f9388",
   "metadata": {},
   "outputs": [],
   "source": [
    "# Forma artesanal de generar variables dummies \n",
    "data_penguins_sin_nan['male_dummy'] = data_penguins_sin_nan['sex'].apply(lambda x : 1 if x == 'Male' else 0)"
   ]
  },
  {
   "cell_type": "code",
   "execution_count": 125,
   "id": "5fbd1b1b",
   "metadata": {},
   "outputs": [],
   "source": [
    "# Usando método get_dummies() de pandas\n",
    "data_penguins_sin_nan['sexo'] = data_penguins_sin_nan['sex']\n",
    "data_penguins_sin_nan = pd.get_dummies(data_penguins_sin_nan, columns=['sexo'], dtype=int, drop_first=False).copy()"
   ]
  },
  {
   "cell_type": "code",
   "execution_count": null,
   "id": "d44106bc",
   "metadata": {},
   "outputs": [
    {
     "data": {
      "application/vnd.microsoft.datawrangler.viewer.v0+json": {
       "columns": [
        {
         "name": "index",
         "rawType": "int64",
         "type": "integer"
        },
        {
         "name": "species",
         "rawType": "object",
         "type": "string"
        },
        {
         "name": "island",
         "rawType": "object",
         "type": "string"
        },
        {
         "name": "bill_length_mm",
         "rawType": "float64",
         "type": "float"
        },
        {
         "name": "bill_depth_mm",
         "rawType": "float64",
         "type": "float"
        },
        {
         "name": "flipper_length_mm",
         "rawType": "float64",
         "type": "float"
        },
        {
         "name": "body_mass_g",
         "rawType": "float64",
         "type": "float"
        },
        {
         "name": "sex",
         "rawType": "object",
         "type": "string"
        },
        {
         "name": "male_dummy",
         "rawType": "int64",
         "type": "integer"
        },
        {
         "name": "sexo_Female",
         "rawType": "int32",
         "type": "integer"
        },
        {
         "name": "sexo_Male",
         "rawType": "int32",
         "type": "integer"
        }
       ],
       "ref": "48963be5-436a-45ae-88da-ad271336c6a8",
       "rows": [
        [
         "0",
         "Adelie",
         "Torgersen",
         "39.1",
         "18.7",
         "181.0",
         "3750.0",
         "Male",
         "1",
         "0",
         "1"
        ],
        [
         "1",
         "Adelie",
         "Torgersen",
         "39.5",
         "17.4",
         "186.0",
         "3800.0",
         "Female",
         "0",
         "1",
         "0"
        ],
        [
         "2",
         "Adelie",
         "Torgersen",
         "40.3",
         "18.0",
         "195.0",
         "3250.0",
         "Female",
         "0",
         "1",
         "0"
        ],
        [
         "4",
         "Adelie",
         "Torgersen",
         "36.7",
         "19.3",
         "193.0",
         "3450.0",
         "Female",
         "0",
         "1",
         "0"
        ],
        [
         "5",
         "Adelie",
         "Torgersen",
         "39.3",
         "20.6",
         "190.0",
         "3650.0",
         "Male",
         "1",
         "0",
         "1"
        ],
        [
         "6",
         "Adelie",
         "Torgersen",
         "38.9",
         "17.8",
         "181.0",
         "3625.0",
         "Female",
         "0",
         "1",
         "0"
        ],
        [
         "7",
         "Adelie",
         "Torgersen",
         "39.2",
         "19.6",
         "195.0",
         "4675.0",
         "Male",
         "1",
         "0",
         "1"
        ],
        [
         "12",
         "Adelie",
         "Torgersen",
         "41.1",
         "17.6",
         "182.0",
         "3200.0",
         "Female",
         "0",
         "1",
         "0"
        ],
        [
         "13",
         "Adelie",
         "Torgersen",
         "38.6",
         "21.2",
         "191.0",
         "3800.0",
         "Male",
         "1",
         "0",
         "1"
        ],
        [
         "14",
         "Adelie",
         "Torgersen",
         "34.6",
         "21.1",
         "198.0",
         "4400.0",
         "Male",
         "1",
         "0",
         "1"
        ],
        [
         "15",
         "Adelie",
         "Torgersen",
         "36.6",
         "17.8",
         "185.0",
         "3700.0",
         "Female",
         "0",
         "1",
         "0"
        ],
        [
         "16",
         "Adelie",
         "Torgersen",
         "38.7",
         "19.0",
         "195.0",
         "3450.0",
         "Female",
         "0",
         "1",
         "0"
        ],
        [
         "17",
         "Adelie",
         "Torgersen",
         "42.5",
         "20.7",
         "197.0",
         "4500.0",
         "Male",
         "1",
         "0",
         "1"
        ],
        [
         "18",
         "Adelie",
         "Torgersen",
         "34.4",
         "18.4",
         "184.0",
         "3325.0",
         "Female",
         "0",
         "1",
         "0"
        ],
        [
         "19",
         "Adelie",
         "Torgersen",
         "46.0",
         "21.5",
         "194.0",
         "4200.0",
         "Male",
         "1",
         "0",
         "1"
        ],
        [
         "20",
         "Adelie",
         "Biscoe",
         "37.8",
         "18.3",
         "174.0",
         "3400.0",
         "Female",
         "0",
         "1",
         "0"
        ],
        [
         "21",
         "Adelie",
         "Biscoe",
         "37.7",
         "18.7",
         "180.0",
         "3600.0",
         "Male",
         "1",
         "0",
         "1"
        ],
        [
         "22",
         "Adelie",
         "Biscoe",
         "35.9",
         "19.2",
         "189.0",
         "3800.0",
         "Female",
         "0",
         "1",
         "0"
        ],
        [
         "23",
         "Adelie",
         "Biscoe",
         "38.2",
         "18.1",
         "185.0",
         "3950.0",
         "Male",
         "1",
         "0",
         "1"
        ],
        [
         "24",
         "Adelie",
         "Biscoe",
         "38.8",
         "17.2",
         "180.0",
         "3800.0",
         "Male",
         "1",
         "0",
         "1"
        ],
        [
         "25",
         "Adelie",
         "Biscoe",
         "35.3",
         "18.9",
         "187.0",
         "3800.0",
         "Female",
         "0",
         "1",
         "0"
        ],
        [
         "26",
         "Adelie",
         "Biscoe",
         "40.6",
         "18.6",
         "183.0",
         "3550.0",
         "Male",
         "1",
         "0",
         "1"
        ],
        [
         "27",
         "Adelie",
         "Biscoe",
         "40.5",
         "17.9",
         "187.0",
         "3200.0",
         "Female",
         "0",
         "1",
         "0"
        ],
        [
         "28",
         "Adelie",
         "Biscoe",
         "37.9",
         "18.6",
         "172.0",
         "3150.0",
         "Female",
         "0",
         "1",
         "0"
        ],
        [
         "29",
         "Adelie",
         "Biscoe",
         "40.5",
         "18.9",
         "180.0",
         "3950.0",
         "Male",
         "1",
         "0",
         "1"
        ],
        [
         "30",
         "Adelie",
         "Dream",
         "39.5",
         "16.7",
         "178.0",
         "3250.0",
         "Female",
         "0",
         "1",
         "0"
        ],
        [
         "31",
         "Adelie",
         "Dream",
         "37.2",
         "18.1",
         "178.0",
         "3900.0",
         "Male",
         "1",
         "0",
         "1"
        ],
        [
         "32",
         "Adelie",
         "Dream",
         "39.5",
         "17.8",
         "188.0",
         "3300.0",
         "Female",
         "0",
         "1",
         "0"
        ],
        [
         "33",
         "Adelie",
         "Dream",
         "40.9",
         "18.9",
         "184.0",
         "3900.0",
         "Male",
         "1",
         "0",
         "1"
        ],
        [
         "34",
         "Adelie",
         "Dream",
         "36.4",
         "17.0",
         "195.0",
         "3325.0",
         "Female",
         "0",
         "1",
         "0"
        ],
        [
         "35",
         "Adelie",
         "Dream",
         "39.2",
         "21.1",
         "196.0",
         "4150.0",
         "Male",
         "1",
         "0",
         "1"
        ],
        [
         "36",
         "Adelie",
         "Dream",
         "38.8",
         "20.0",
         "190.0",
         "3950.0",
         "Male",
         "1",
         "0",
         "1"
        ],
        [
         "37",
         "Adelie",
         "Dream",
         "42.2",
         "18.5",
         "180.0",
         "3550.0",
         "Female",
         "0",
         "1",
         "0"
        ],
        [
         "38",
         "Adelie",
         "Dream",
         "37.6",
         "19.3",
         "181.0",
         "3300.0",
         "Female",
         "0",
         "1",
         "0"
        ],
        [
         "39",
         "Adelie",
         "Dream",
         "39.8",
         "19.1",
         "184.0",
         "4650.0",
         "Male",
         "1",
         "0",
         "1"
        ],
        [
         "40",
         "Adelie",
         "Dream",
         "36.5",
         "18.0",
         "182.0",
         "3150.0",
         "Female",
         "0",
         "1",
         "0"
        ],
        [
         "41",
         "Adelie",
         "Dream",
         "40.8",
         "18.4",
         "195.0",
         "3900.0",
         "Male",
         "1",
         "0",
         "1"
        ],
        [
         "42",
         "Adelie",
         "Dream",
         "36.0",
         "18.5",
         "186.0",
         "3100.0",
         "Female",
         "0",
         "1",
         "0"
        ],
        [
         "43",
         "Adelie",
         "Dream",
         "44.1",
         "19.7",
         "196.0",
         "4400.0",
         "Male",
         "1",
         "0",
         "1"
        ],
        [
         "44",
         "Adelie",
         "Dream",
         "37.0",
         "16.9",
         "185.0",
         "3000.0",
         "Female",
         "0",
         "1",
         "0"
        ],
        [
         "45",
         "Adelie",
         "Dream",
         "39.6",
         "18.8",
         "190.0",
         "4600.0",
         "Male",
         "1",
         "0",
         "1"
        ],
        [
         "46",
         "Adelie",
         "Dream",
         "41.1",
         "19.0",
         "182.0",
         "3425.0",
         "Male",
         "1",
         "0",
         "1"
        ],
        [
         "48",
         "Adelie",
         "Dream",
         "36.0",
         "17.9",
         "190.0",
         "3450.0",
         "Female",
         "0",
         "1",
         "0"
        ],
        [
         "49",
         "Adelie",
         "Dream",
         "42.3",
         "21.2",
         "191.0",
         "4150.0",
         "Male",
         "1",
         "0",
         "1"
        ],
        [
         "50",
         "Adelie",
         "Biscoe",
         "39.6",
         "17.7",
         "186.0",
         "3500.0",
         "Female",
         "0",
         "1",
         "0"
        ],
        [
         "51",
         "Adelie",
         "Biscoe",
         "40.1",
         "18.9",
         "188.0",
         "4300.0",
         "Male",
         "1",
         "0",
         "1"
        ],
        [
         "52",
         "Adelie",
         "Biscoe",
         "35.0",
         "17.9",
         "190.0",
         "3450.0",
         "Female",
         "0",
         "1",
         "0"
        ],
        [
         "53",
         "Adelie",
         "Biscoe",
         "42.0",
         "19.5",
         "200.0",
         "4050.0",
         "Male",
         "1",
         "0",
         "1"
        ],
        [
         "54",
         "Adelie",
         "Biscoe",
         "34.5",
         "18.1",
         "187.0",
         "2900.0",
         "Female",
         "0",
         "1",
         "0"
        ],
        [
         "55",
         "Adelie",
         "Biscoe",
         "41.4",
         "18.6",
         "191.0",
         "3700.0",
         "Male",
         "1",
         "0",
         "1"
        ]
       ],
       "shape": {
        "columns": 10,
        "rows": 333
       }
      },
      "text/html": [
       "<div>\n",
       "<style scoped>\n",
       "    .dataframe tbody tr th:only-of-type {\n",
       "        vertical-align: middle;\n",
       "    }\n",
       "\n",
       "    .dataframe tbody tr th {\n",
       "        vertical-align: top;\n",
       "    }\n",
       "\n",
       "    .dataframe thead th {\n",
       "        text-align: right;\n",
       "    }\n",
       "</style>\n",
       "<table border=\"1\" class=\"dataframe\">\n",
       "  <thead>\n",
       "    <tr style=\"text-align: right;\">\n",
       "      <th></th>\n",
       "      <th>species</th>\n",
       "      <th>island</th>\n",
       "      <th>bill_length_mm</th>\n",
       "      <th>bill_depth_mm</th>\n",
       "      <th>flipper_length_mm</th>\n",
       "      <th>body_mass_g</th>\n",
       "      <th>sex</th>\n",
       "      <th>male_dummy</th>\n",
       "      <th>sexo_Female</th>\n",
       "      <th>sexo_Male</th>\n",
       "    </tr>\n",
       "  </thead>\n",
       "  <tbody>\n",
       "    <tr>\n",
       "      <th>0</th>\n",
       "      <td>Adelie</td>\n",
       "      <td>Torgersen</td>\n",
       "      <td>39.1</td>\n",
       "      <td>18.7</td>\n",
       "      <td>181.0</td>\n",
       "      <td>3750.0</td>\n",
       "      <td>Male</td>\n",
       "      <td>1</td>\n",
       "      <td>0</td>\n",
       "      <td>1</td>\n",
       "    </tr>\n",
       "    <tr>\n",
       "      <th>1</th>\n",
       "      <td>Adelie</td>\n",
       "      <td>Torgersen</td>\n",
       "      <td>39.5</td>\n",
       "      <td>17.4</td>\n",
       "      <td>186.0</td>\n",
       "      <td>3800.0</td>\n",
       "      <td>Female</td>\n",
       "      <td>0</td>\n",
       "      <td>1</td>\n",
       "      <td>0</td>\n",
       "    </tr>\n",
       "    <tr>\n",
       "      <th>2</th>\n",
       "      <td>Adelie</td>\n",
       "      <td>Torgersen</td>\n",
       "      <td>40.3</td>\n",
       "      <td>18.0</td>\n",
       "      <td>195.0</td>\n",
       "      <td>3250.0</td>\n",
       "      <td>Female</td>\n",
       "      <td>0</td>\n",
       "      <td>1</td>\n",
       "      <td>0</td>\n",
       "    </tr>\n",
       "    <tr>\n",
       "      <th>4</th>\n",
       "      <td>Adelie</td>\n",
       "      <td>Torgersen</td>\n",
       "      <td>36.7</td>\n",
       "      <td>19.3</td>\n",
       "      <td>193.0</td>\n",
       "      <td>3450.0</td>\n",
       "      <td>Female</td>\n",
       "      <td>0</td>\n",
       "      <td>1</td>\n",
       "      <td>0</td>\n",
       "    </tr>\n",
       "    <tr>\n",
       "      <th>5</th>\n",
       "      <td>Adelie</td>\n",
       "      <td>Torgersen</td>\n",
       "      <td>39.3</td>\n",
       "      <td>20.6</td>\n",
       "      <td>190.0</td>\n",
       "      <td>3650.0</td>\n",
       "      <td>Male</td>\n",
       "      <td>1</td>\n",
       "      <td>0</td>\n",
       "      <td>1</td>\n",
       "    </tr>\n",
       "    <tr>\n",
       "      <th>...</th>\n",
       "      <td>...</td>\n",
       "      <td>...</td>\n",
       "      <td>...</td>\n",
       "      <td>...</td>\n",
       "      <td>...</td>\n",
       "      <td>...</td>\n",
       "      <td>...</td>\n",
       "      <td>...</td>\n",
       "      <td>...</td>\n",
       "      <td>...</td>\n",
       "    </tr>\n",
       "    <tr>\n",
       "      <th>338</th>\n",
       "      <td>Gentoo</td>\n",
       "      <td>Biscoe</td>\n",
       "      <td>47.2</td>\n",
       "      <td>13.7</td>\n",
       "      <td>214.0</td>\n",
       "      <td>4925.0</td>\n",
       "      <td>Female</td>\n",
       "      <td>0</td>\n",
       "      <td>1</td>\n",
       "      <td>0</td>\n",
       "    </tr>\n",
       "    <tr>\n",
       "      <th>340</th>\n",
       "      <td>Gentoo</td>\n",
       "      <td>Biscoe</td>\n",
       "      <td>46.8</td>\n",
       "      <td>14.3</td>\n",
       "      <td>215.0</td>\n",
       "      <td>4850.0</td>\n",
       "      <td>Female</td>\n",
       "      <td>0</td>\n",
       "      <td>1</td>\n",
       "      <td>0</td>\n",
       "    </tr>\n",
       "    <tr>\n",
       "      <th>341</th>\n",
       "      <td>Gentoo</td>\n",
       "      <td>Biscoe</td>\n",
       "      <td>50.4</td>\n",
       "      <td>15.7</td>\n",
       "      <td>222.0</td>\n",
       "      <td>5750.0</td>\n",
       "      <td>Male</td>\n",
       "      <td>1</td>\n",
       "      <td>0</td>\n",
       "      <td>1</td>\n",
       "    </tr>\n",
       "    <tr>\n",
       "      <th>342</th>\n",
       "      <td>Gentoo</td>\n",
       "      <td>Biscoe</td>\n",
       "      <td>45.2</td>\n",
       "      <td>14.8</td>\n",
       "      <td>212.0</td>\n",
       "      <td>5200.0</td>\n",
       "      <td>Female</td>\n",
       "      <td>0</td>\n",
       "      <td>1</td>\n",
       "      <td>0</td>\n",
       "    </tr>\n",
       "    <tr>\n",
       "      <th>343</th>\n",
       "      <td>Gentoo</td>\n",
       "      <td>Biscoe</td>\n",
       "      <td>49.9</td>\n",
       "      <td>16.1</td>\n",
       "      <td>213.0</td>\n",
       "      <td>5400.0</td>\n",
       "      <td>Male</td>\n",
       "      <td>1</td>\n",
       "      <td>0</td>\n",
       "      <td>1</td>\n",
       "    </tr>\n",
       "  </tbody>\n",
       "</table>\n",
       "<p>333 rows × 10 columns</p>\n",
       "</div>"
      ],
      "text/plain": [
       "    species     island  bill_length_mm  bill_depth_mm  flipper_length_mm  \\\n",
       "0    Adelie  Torgersen            39.1           18.7              181.0   \n",
       "1    Adelie  Torgersen            39.5           17.4              186.0   \n",
       "2    Adelie  Torgersen            40.3           18.0              195.0   \n",
       "4    Adelie  Torgersen            36.7           19.3              193.0   \n",
       "5    Adelie  Torgersen            39.3           20.6              190.0   \n",
       "..      ...        ...             ...            ...                ...   \n",
       "338  Gentoo     Biscoe            47.2           13.7              214.0   \n",
       "340  Gentoo     Biscoe            46.8           14.3              215.0   \n",
       "341  Gentoo     Biscoe            50.4           15.7              222.0   \n",
       "342  Gentoo     Biscoe            45.2           14.8              212.0   \n",
       "343  Gentoo     Biscoe            49.9           16.1              213.0   \n",
       "\n",
       "     body_mass_g     sex  male_dummy  sexo_Female  sexo_Male  \n",
       "0         3750.0    Male           1            0          1  \n",
       "1         3800.0  Female           0            1          0  \n",
       "2         3250.0  Female           0            1          0  \n",
       "4         3450.0  Female           0            1          0  \n",
       "5         3650.0    Male           1            0          1  \n",
       "..           ...     ...         ...          ...        ...  \n",
       "338       4925.0  Female           0            1          0  \n",
       "340       4850.0  Female           0            1          0  \n",
       "341       5750.0    Male           1            0          1  \n",
       "342       5200.0  Female           0            1          0  \n",
       "343       5400.0    Male           1            0          1  \n",
       "\n",
       "[333 rows x 10 columns]"
      ]
     },
     "execution_count": 126,
     "metadata": {},
     "output_type": "execute_result"
    }
   ],
   "source": [
    "# No tenemos que poner todas las dummies. siempre tiene que ser una menos."
   ]
  },
  {
   "cell_type": "code",
   "execution_count": 139,
   "id": "44f859ff",
   "metadata": {},
   "outputs": [
    {
     "name": "stdout",
     "output_type": "stream",
     "text": [
      "                            OLS Regression Results                            \n",
      "==============================================================================\n",
      "Dep. Variable:            body_mass_g   R-squared:                       0.806\n",
      "Model:                            OLS   Adj. R-squared:                  0.805\n",
      "Method:                 Least Squares   F-statistic:                     684.8\n",
      "Date:              jue., 26 jun. 2025   Prob (F-statistic):          3.53e-118\n",
      "Time:                        20:01:10   Log-Likelihood:                -2427.2\n",
      "No. Observations:                 333   AIC:                             4860.\n",
      "Df Residuals:                     330   BIC:                             4872.\n",
      "Df Model:                           2                                         \n",
      "Covariance Type:            nonrobust                                         \n",
      "=====================================================================================\n",
      "                        coef    std err          t      P>|t|      [0.025      0.975]\n",
      "-------------------------------------------------------------------------------------\n",
      "Intercept         -5410.3002    285.798    -18.931      0.000   -5972.515   -4848.085\n",
      "sex[T.Male]         347.8503     40.342      8.623      0.000     268.491     427.209\n",
      "flipper_length_mm    46.9822      1.441     32.598      0.000      44.147      49.817\n",
      "==============================================================================\n",
      "Omnibus:                        0.262   Durbin-Watson:                   1.701\n",
      "Prob(Omnibus):                  0.877   Jarque-Bera (JB):                0.376\n",
      "Skew:                           0.051   Prob(JB):                        0.829\n",
      "Kurtosis:                       2.870   Cond. No.                     2.95e+03\n",
      "==============================================================================\n",
      "\n",
      "Notes:\n",
      "[1] Standard Errors assume that the covariance matrix of the errors is correctly specified.\n",
      "[2] The condition number is large, 2.95e+03. This might indicate that there are\n",
      "strong multicollinearity or other numerical problems.\n"
     ]
    }
   ],
   "source": [
    "modelo2 = smf.ols(data=data_penguins_sin_nan, formula='body_mass_g ~  flipper_length_mm+ sex').fit()\n",
    "print(modelo2.summary())"
   ]
  },
  {
   "cell_type": "markdown",
   "id": "f5eb9011",
   "metadata": {},
   "source": [
    "Entonces, la ecuación de la recta que nos queda es:\n",
    "\n",
    "$x_1$ = flipper_length (mm)\n",
    "$x_2$ = sexo (1 si es macho, 0 si es hembra)\n",
    "\n",
    "$\\hat{y} = -5410.3002 + 46.9822x_1 + 347.8503x_2 $"
   ]
  },
  {
   "cell_type": "code",
   "execution_count": 141,
   "id": "68099afc",
   "metadata": {},
   "outputs": [
    {
     "name": "stdout",
     "output_type": "stream",
     "text": [
      "4315.0152\n"
     ]
    }
   ],
   "source": [
    "# Ahora sí tenemos un modelo que incluye el sexo como variable de predicción\n",
    "pinguino_hembra = -5410.3002 + 46.9822 *207 + 347.8503 * 0 \n",
    "print(pinguino_hembra)"
   ]
  },
  {
   "cell_type": "code",
   "execution_count": 143,
   "id": "f7c3a710",
   "metadata": {},
   "outputs": [
    {
     "name": "stdout",
     "output_type": "stream",
     "text": [
      "4662.8655\n"
     ]
    }
   ],
   "source": [
    "# Y si lo quisiera hacer para un PINGÜINO MACHO tengo que multiplicar por 1 la dummy de sex\n",
    "pingüino_macho = -5410.3002 + 46.9822 *207 + 347.8503 * 1 \n",
    "print(pingüino_macho)"
   ]
  },
  {
   "cell_type": "code",
   "execution_count": 153,
   "id": "065f2283",
   "metadata": {},
   "outputs": [
    {
     "name": "stdout",
     "output_type": "stream",
     "text": [
      "      sex  flipper_length_mm\n",
      "0  Female                207\n",
      "1    Male                207\n"
     ]
    }
   ],
   "source": [
    "# Método para no tener que hacer la cuenta a mano: PREDICT\n",
    "\n",
    "df_prediccion = pd.DataFrame({'sex' : ['Female', 'Male'],\n",
    "                              'flipper_length_mm' : [207, 207]})\n",
    "print(df_prediccion)\n"
   ]
  },
  {
   "cell_type": "code",
   "execution_count": 154,
   "id": "6b73ed61",
   "metadata": {},
   "outputs": [
    {
     "data": {
      "application/vnd.microsoft.datawrangler.viewer.v0+json": {
       "columns": [
        {
         "name": "index",
         "rawType": "int64",
         "type": "integer"
        },
        {
         "name": "0",
         "rawType": "float64",
         "type": "float"
        }
       ],
       "ref": "6ec47734-b83a-4107-a9e0-34d4d2a6356a",
       "rows": [
        [
         "0",
         "4315.010052399538"
        ],
        [
         "1",
         "4662.860306127075"
        ]
       ],
       "shape": {
        "columns": 1,
        "rows": 2
       }
      },
      "text/plain": [
       "0    4315.010052\n",
       "1    4662.860306\n",
       "dtype: float64"
      ]
     },
     "execution_count": 154,
     "metadata": {},
     "output_type": "execute_result"
    }
   ],
   "source": [
    "modelo2.predict(df_prediccion)"
   ]
  },
  {
   "cell_type": "code",
   "execution_count": null,
   "id": "65f6e4db",
   "metadata": {},
   "outputs": [
    {
     "data": {
      "application/vnd.microsoft.datawrangler.viewer.v0+json": {
       "columns": [
        {
         "name": "index",
         "rawType": "int64",
         "type": "integer"
        },
        {
         "name": "species",
         "rawType": "object",
         "type": "string"
        },
        {
         "name": "island",
         "rawType": "object",
         "type": "string"
        },
        {
         "name": "bill_length_mm",
         "rawType": "float64",
         "type": "float"
        },
        {
         "name": "bill_depth_mm",
         "rawType": "float64",
         "type": "float"
        },
        {
         "name": "flipper_length_mm",
         "rawType": "float64",
         "type": "float"
        },
        {
         "name": "body_mass_g",
         "rawType": "float64",
         "type": "float"
        },
        {
         "name": "sex",
         "rawType": "object",
         "type": "unknown"
        }
       ],
       "ref": "e39eb253-d5a8-4427-a163-1c6293f9369b",
       "rows": [
        [
         "28",
         "Adelie",
         "Biscoe",
         "37.9",
         "18.6",
         "172.0",
         "3150.0",
         "Female"
        ],
        [
         "20",
         "Adelie",
         "Biscoe",
         "37.8",
         "18.3",
         "174.0",
         "3400.0",
         "Female"
        ],
        [
         "122",
         "Adelie",
         "Torgersen",
         "40.2",
         "17.0",
         "176.0",
         "3450.0",
         "Female"
        ],
        [
         "31",
         "Adelie",
         "Dream",
         "37.2",
         "18.1",
         "178.0",
         "3900.0",
         "Male"
        ],
        [
         "30",
         "Adelie",
         "Dream",
         "39.5",
         "16.7",
         "178.0",
         "3250.0",
         "Female"
        ],
        [
         "158",
         "Chinstrap",
         "Dream",
         "46.1",
         "18.2",
         "178.0",
         "3250.0",
         "Female"
        ],
        [
         "98",
         "Adelie",
         "Dream",
         "33.1",
         "16.1",
         "178.0",
         "2900.0",
         "Female"
        ],
        [
         "47",
         "Adelie",
         "Dream",
         "37.5",
         "18.9",
         "179.0",
         "2975.0",
         null
        ],
        [
         "29",
         "Adelie",
         "Biscoe",
         "40.5",
         "18.9",
         "180.0",
         "3950.0",
         "Male"
        ],
        [
         "24",
         "Adelie",
         "Biscoe",
         "38.8",
         "17.2",
         "180.0",
         "3800.0",
         "Male"
        ],
        [
         "11",
         "Adelie",
         "Torgersen",
         "37.8",
         "17.3",
         "180.0",
         "3700.0",
         null
        ],
        [
         "21",
         "Adelie",
         "Biscoe",
         "37.7",
         "18.7",
         "180.0",
         "3600.0",
         "Male"
        ],
        [
         "37",
         "Adelie",
         "Dream",
         "42.2",
         "18.5",
         "180.0",
         "3550.0",
         "Female"
        ],
        [
         "0",
         "Adelie",
         "Torgersen",
         "39.1",
         "18.7",
         "181.0",
         "3750.0",
         "Male"
        ],
        [
         "58",
         "Adelie",
         "Biscoe",
         "36.5",
         "16.6",
         "181.0",
         "2850.0",
         "Female"
        ],
        [
         "38",
         "Adelie",
         "Dream",
         "37.6",
         "19.3",
         "181.0",
         "3300.0",
         "Female"
        ],
        [
         "108",
         "Adelie",
         "Biscoe",
         "38.1",
         "17.0",
         "181.0",
         "3175.0",
         "Female"
        ],
        [
         "172",
         "Chinstrap",
         "Dream",
         "42.4",
         "17.3",
         "181.0",
         "3600.0",
         "Female"
        ],
        [
         "169",
         "Chinstrap",
         "Dream",
         "58.0",
         "17.8",
         "181.0",
         "3700.0",
         "Female"
        ],
        [
         "6",
         "Adelie",
         "Torgersen",
         "38.9",
         "17.8",
         "181.0",
         "3625.0",
         "Female"
        ],
        [
         "12",
         "Adelie",
         "Torgersen",
         "41.1",
         "17.6",
         "182.0",
         "3200.0",
         "Female"
        ],
        [
         "40",
         "Adelie",
         "Dream",
         "36.5",
         "18.0",
         "182.0",
         "3150.0",
         "Female"
        ],
        [
         "46",
         "Adelie",
         "Dream",
         "41.1",
         "19.0",
         "182.0",
         "3425.0",
         "Male"
        ],
        [
         "102",
         "Adelie",
         "Biscoe",
         "37.7",
         "16.0",
         "183.0",
         "3075.0",
         "Female"
        ],
        [
         "26",
         "Adelie",
         "Biscoe",
         "40.6",
         "18.6",
         "183.0",
         "3550.0",
         "Male"
        ],
        [
         "39",
         "Adelie",
         "Dream",
         "39.8",
         "19.1",
         "184.0",
         "4650.0",
         "Male"
        ],
        [
         "33",
         "Adelie",
         "Dream",
         "40.9",
         "18.9",
         "184.0",
         "3900.0",
         "Male"
        ],
        [
         "147",
         "Adelie",
         "Dream",
         "36.6",
         "18.4",
         "184.0",
         "3475.0",
         "Female"
        ],
        [
         "77",
         "Adelie",
         "Torgersen",
         "37.2",
         "19.4",
         "184.0",
         "3900.0",
         "Male"
        ],
        [
         "105",
         "Adelie",
         "Biscoe",
         "39.7",
         "18.9",
         "184.0",
         "3550.0",
         "Male"
        ],
        [
         "18",
         "Adelie",
         "Torgersen",
         "34.4",
         "18.4",
         "184.0",
         "3325.0",
         "Female"
        ],
        [
         "64",
         "Adelie",
         "Biscoe",
         "36.4",
         "17.1",
         "184.0",
         "2850.0",
         "Female"
        ],
        [
         "92",
         "Adelie",
         "Dream",
         "34.0",
         "17.1",
         "185.0",
         "3400.0",
         "Female"
        ],
        [
         "138",
         "Adelie",
         "Dream",
         "37.0",
         "16.5",
         "185.0",
         "3400.0",
         "Female"
        ],
        [
         "60",
         "Adelie",
         "Biscoe",
         "35.7",
         "16.9",
         "185.0",
         "3150.0",
         "Female"
        ],
        [
         "44",
         "Adelie",
         "Dream",
         "37.0",
         "16.9",
         "185.0",
         "3000.0",
         "Female"
        ],
        [
         "62",
         "Adelie",
         "Biscoe",
         "37.6",
         "17.0",
         "185.0",
         "3600.0",
         "Female"
        ],
        [
         "164",
         "Chinstrap",
         "Dream",
         "47.0",
         "17.3",
         "185.0",
         "3700.0",
         "Female"
        ],
        [
         "145",
         "Adelie",
         "Dream",
         "39.0",
         "18.7",
         "185.0",
         "3650.0",
         "Male"
        ],
        [
         "23",
         "Adelie",
         "Biscoe",
         "38.2",
         "18.1",
         "185.0",
         "3950.0",
         "Male"
        ],
        [
         "15",
         "Adelie",
         "Torgersen",
         "36.6",
         "17.8",
         "185.0",
         "3700.0",
         "Female"
        ],
        [
         "124",
         "Adelie",
         "Torgersen",
         "35.2",
         "15.9",
         "186.0",
         "3050.0",
         "Female"
        ],
        [
         "1",
         "Adelie",
         "Torgersen",
         "39.5",
         "17.4",
         "186.0",
         "3800.0",
         "Female"
        ],
        [
         "50",
         "Adelie",
         "Biscoe",
         "39.6",
         "17.7",
         "186.0",
         "3500.0",
         "Female"
        ],
        [
         "56",
         "Adelie",
         "Biscoe",
         "39.0",
         "17.5",
         "186.0",
         "3550.0",
         "Female"
        ],
        [
         "93",
         "Adelie",
         "Dream",
         "39.6",
         "18.1",
         "186.0",
         "4450.0",
         "Male"
        ],
        [
         "42",
         "Adelie",
         "Dream",
         "36.0",
         "18.5",
         "186.0",
         "3100.0",
         "Female"
        ],
        [
         "10",
         "Adelie",
         "Torgersen",
         "37.8",
         "17.1",
         "186.0",
         "3300.0",
         null
        ],
        [
         "94",
         "Adelie",
         "Dream",
         "36.2",
         "17.3",
         "187.0",
         "3300.0",
         "Female"
        ],
        [
         "134",
         "Adelie",
         "Dream",
         "38.1",
         "17.6",
         "187.0",
         "3425.0",
         "Female"
        ]
       ],
       "shape": {
        "columns": 7,
        "rows": 344
       }
      },
      "text/html": [
       "<div>\n",
       "<style scoped>\n",
       "    .dataframe tbody tr th:only-of-type {\n",
       "        vertical-align: middle;\n",
       "    }\n",
       "\n",
       "    .dataframe tbody tr th {\n",
       "        vertical-align: top;\n",
       "    }\n",
       "\n",
       "    .dataframe thead th {\n",
       "        text-align: right;\n",
       "    }\n",
       "</style>\n",
       "<table border=\"1\" class=\"dataframe\">\n",
       "  <thead>\n",
       "    <tr style=\"text-align: right;\">\n",
       "      <th></th>\n",
       "      <th>species</th>\n",
       "      <th>island</th>\n",
       "      <th>bill_length_mm</th>\n",
       "      <th>bill_depth_mm</th>\n",
       "      <th>flipper_length_mm</th>\n",
       "      <th>body_mass_g</th>\n",
       "      <th>sex</th>\n",
       "    </tr>\n",
       "  </thead>\n",
       "  <tbody>\n",
       "    <tr>\n",
       "      <th>28</th>\n",
       "      <td>Adelie</td>\n",
       "      <td>Biscoe</td>\n",
       "      <td>37.9</td>\n",
       "      <td>18.6</td>\n",
       "      <td>172.0</td>\n",
       "      <td>3150.0</td>\n",
       "      <td>Female</td>\n",
       "    </tr>\n",
       "    <tr>\n",
       "      <th>20</th>\n",
       "      <td>Adelie</td>\n",
       "      <td>Biscoe</td>\n",
       "      <td>37.8</td>\n",
       "      <td>18.3</td>\n",
       "      <td>174.0</td>\n",
       "      <td>3400.0</td>\n",
       "      <td>Female</td>\n",
       "    </tr>\n",
       "    <tr>\n",
       "      <th>122</th>\n",
       "      <td>Adelie</td>\n",
       "      <td>Torgersen</td>\n",
       "      <td>40.2</td>\n",
       "      <td>17.0</td>\n",
       "      <td>176.0</td>\n",
       "      <td>3450.0</td>\n",
       "      <td>Female</td>\n",
       "    </tr>\n",
       "    <tr>\n",
       "      <th>31</th>\n",
       "      <td>Adelie</td>\n",
       "      <td>Dream</td>\n",
       "      <td>37.2</td>\n",
       "      <td>18.1</td>\n",
       "      <td>178.0</td>\n",
       "      <td>3900.0</td>\n",
       "      <td>Male</td>\n",
       "    </tr>\n",
       "    <tr>\n",
       "      <th>30</th>\n",
       "      <td>Adelie</td>\n",
       "      <td>Dream</td>\n",
       "      <td>39.5</td>\n",
       "      <td>16.7</td>\n",
       "      <td>178.0</td>\n",
       "      <td>3250.0</td>\n",
       "      <td>Female</td>\n",
       "    </tr>\n",
       "    <tr>\n",
       "      <th>...</th>\n",
       "      <td>...</td>\n",
       "      <td>...</td>\n",
       "      <td>...</td>\n",
       "      <td>...</td>\n",
       "      <td>...</td>\n",
       "      <td>...</td>\n",
       "      <td>...</td>\n",
       "    </tr>\n",
       "    <tr>\n",
       "      <th>285</th>\n",
       "      <td>Gentoo</td>\n",
       "      <td>Biscoe</td>\n",
       "      <td>49.8</td>\n",
       "      <td>16.8</td>\n",
       "      <td>230.0</td>\n",
       "      <td>5700.0</td>\n",
       "      <td>Male</td>\n",
       "    </tr>\n",
       "    <tr>\n",
       "      <th>333</th>\n",
       "      <td>Gentoo</td>\n",
       "      <td>Biscoe</td>\n",
       "      <td>51.5</td>\n",
       "      <td>16.3</td>\n",
       "      <td>230.0</td>\n",
       "      <td>5500.0</td>\n",
       "      <td>Male</td>\n",
       "    </tr>\n",
       "    <tr>\n",
       "      <th>283</th>\n",
       "      <td>Gentoo</td>\n",
       "      <td>Biscoe</td>\n",
       "      <td>54.3</td>\n",
       "      <td>15.7</td>\n",
       "      <td>231.0</td>\n",
       "      <td>5650.0</td>\n",
       "      <td>Male</td>\n",
       "    </tr>\n",
       "    <tr>\n",
       "      <th>3</th>\n",
       "      <td>Adelie</td>\n",
       "      <td>Torgersen</td>\n",
       "      <td>NaN</td>\n",
       "      <td>NaN</td>\n",
       "      <td>NaN</td>\n",
       "      <td>NaN</td>\n",
       "      <td>NaN</td>\n",
       "    </tr>\n",
       "    <tr>\n",
       "      <th>339</th>\n",
       "      <td>Gentoo</td>\n",
       "      <td>Biscoe</td>\n",
       "      <td>NaN</td>\n",
       "      <td>NaN</td>\n",
       "      <td>NaN</td>\n",
       "      <td>NaN</td>\n",
       "      <td>NaN</td>\n",
       "    </tr>\n",
       "  </tbody>\n",
       "</table>\n",
       "<p>344 rows × 7 columns</p>\n",
       "</div>"
      ],
      "text/plain": [
       "    species     island  bill_length_mm  bill_depth_mm  flipper_length_mm  \\\n",
       "28   Adelie     Biscoe            37.9           18.6              172.0   \n",
       "20   Adelie     Biscoe            37.8           18.3              174.0   \n",
       "122  Adelie  Torgersen            40.2           17.0              176.0   \n",
       "31   Adelie      Dream            37.2           18.1              178.0   \n",
       "30   Adelie      Dream            39.5           16.7              178.0   \n",
       "..      ...        ...             ...            ...                ...   \n",
       "285  Gentoo     Biscoe            49.8           16.8              230.0   \n",
       "333  Gentoo     Biscoe            51.5           16.3              230.0   \n",
       "283  Gentoo     Biscoe            54.3           15.7              231.0   \n",
       "3    Adelie  Torgersen             NaN            NaN                NaN   \n",
       "339  Gentoo     Biscoe             NaN            NaN                NaN   \n",
       "\n",
       "     body_mass_g     sex  \n",
       "28        3150.0  Female  \n",
       "20        3400.0  Female  \n",
       "122       3450.0  Female  \n",
       "31        3900.0    Male  \n",
       "30        3250.0  Female  \n",
       "..           ...     ...  \n",
       "285       5700.0    Male  \n",
       "333       5500.0    Male  \n",
       "283       5650.0    Male  \n",
       "3            NaN     NaN  \n",
       "339          NaN     NaN  \n",
       "\n",
       "[344 rows x 7 columns]"
      ]
     },
     "execution_count": 149,
     "metadata": {},
     "output_type": "execute_result"
    }
   ],
   "source": [
    "# Acá vemos el dataframe ordenado por la variable largo de aleta para evaluar si coincide la predicción (de chusma nada más)\n",
    "data_penguins.sort_values('flipper_length_mm', ascending=True)"
   ]
  },
  {
   "cell_type": "markdown",
   "id": "683e95ba",
   "metadata": {},
   "source": [
    "## $R^2$"
   ]
  },
  {
   "cell_type": "markdown",
   "id": "eee46ae7",
   "metadata": {},
   "source": [
    "Cuántas más variables ponga en el modelo $R^2$ tiende a aumentar, lo que en general es algo querido. Bueno, en realidad esto no es tan así. <br>\n",
    "Estaríamos haciendo un overfitting. Es decir ajusta demasiado bien a los datos que tenemos pero esto no se correspondería con valores del mundo real. <br>\n",
    "NO ESTÁ BUENO QUE LOS MODELOS TENGAN UN $R^2$ TAN ALTO <br>\n",
    "Ahora vamos a evaluar qué modelo predice mejor. <br>\n",
    "Pero en nuestro caso, modelo1 y modelo2 no tienen la misma cantidad de variables, modelo2 tiene una más, por lo tanto su $R^2$ deja de ser una buena medida porque aumentaría simplemente porque tiene una variable más que modelo1. <br>\n",
    "Para esto existe una variable ligera que se llama $R^2 AJUSTADO$. <br>\n",
    "Este penaliza la inclusión innecesaria de variables que solo generan ruido en el modelo. <br>\n",
    "$R^2$ ajustado penaliza que metamos variables innecesarias. <br>\n",
    "$R^2$ ajustado sirve para comparar modelos con distinta cantidad de variables. <br>\n",
    "\n",
    "Cuando tenemos que comparar modelos SIEMPRE tenemos que usar $R^2_{adj}$"
   ]
  },
  {
   "cell_type": "markdown",
   "id": "5f495aa3",
   "metadata": {},
   "source": [
    "Ahora, vamos a ver qué pasa con nuestro modelos:\n",
    "\n",
    "###### modelo1:\n",
    "$R^2_{adj} = 0.758$\n",
    "###### modelo2:\n",
    "$R^2_{adj} = 0.805$"
   ]
  },
  {
   "cell_type": "markdown",
   "id": "f2f86a37",
   "metadata": {},
   "source": [
    "Por lo tanto, podemos confirmar, viendo el $R^2_{adj}$ que el modelo2 es realmente mejor"
   ]
  },
  {
   "cell_type": "markdown",
   "id": "20aa0359",
   "metadata": {},
   "source": [
    "Ajustamos modelos de regresión lineal, dijimos que los ajustamos porque nos interesa hacer predicciones. Si tengo un una propiedad con estos tamaños, uso un modelo para predecir su precio.\n",
    "Es una caja negra, no nos interesa tanto lo que hace por dentro. Lo que nos interesa es que prediga bien. No importa las operaciones que haga por dentro\n",
    "#### INFERENCIA\n",
    "Más que buscar modelos para predecir vamos a estar enfocados en ver cuánto afectan las variables a los modelos. Aportan algo? o no?\n",
    "Es un analisis sobre el modelo, ver cuál es la estructura del modelo.\n",
    "Ver el vínculo que las variables tienen con esa predicción.\n",
    "La inferencia nos sirve para la selección de las variables. Para saber qué variables realmente nos aporten algo para la predicción.\n",
    "\n",
    "#### TEST DE HIPÓTESIS\n",
    "\n",
    "Procedimientos estadísticos que nos ayudan a tomar decisiones.\n",
    "\n",
    "\n"
   ]
  }
 ],
 "metadata": {
  "kernelspec": {
   "display_name": ".venv",
   "language": "python",
   "name": "python3"
  },
  "language_info": {
   "codemirror_mode": {
    "name": "ipython",
    "version": 3
   },
   "file_extension": ".py",
   "mimetype": "text/x-python",
   "name": "python",
   "nbconvert_exporter": "python",
   "pygments_lexer": "ipython3",
   "version": "3.12.8"
  }
 },
 "nbformat": 4,
 "nbformat_minor": 5
}
